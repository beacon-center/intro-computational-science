{
 "metadata": {
  "name": "hw-week5-coinflips2"
 },
 "nbformat": 3,
 "nbformat_minor": 0,
 "worksheets": [
  {
   "cells": [
    {
     "cell_type": "markdown",
     "metadata": {},
     "source": [
      "# Coin flipping, round 2!  Computational statistics!\n",
      "\n",
      "Let's change the coin flipping code from the other homework this week (http://nbviewer.ipython.org/urls/raw.github.com/beacon-center/intro-computational-science/master/hw-week5-coinflips.ipynb) to be a little more convenient.\n",
      "\n",
      "Our goal, below, is to be able to reliably distinguish between *fair* and *unfair* coin flipping functions, to a p < 0.05."
     ]
    },
    {
     "cell_type": "code",
     "collapsed": false,
     "input": [
      "import random\n",
      "\n",
      "def flip_a_fair_coin(N):\n",
      "    coin = [0, 1]           # 0/1 instead of H/T\n",
      "    \n",
      "    record = []\n",
      "    for i in range(N):\n",
      "        record.append(random.choice(coin))\n",
      "\n",
      "    return record\n",
      "\n",
      "def flip_an_unfair_coin(N):\n",
      "    coin = [0, 1, 1, 1]           # 0/1 instead of H/T\n",
      "    \n",
      "    record = []\n",
      "    for i in range(N):\n",
      "        record.append(random.choice(coin))\n",
      "\n",
      "    return record"
     ],
     "language": "python",
     "metadata": {},
     "outputs": [],
     "prompt_number": 1
    },
    {
     "cell_type": "code",
     "collapsed": false,
     "input": [
      "x = flip_a_fair_coin(5)\n",
      "print 'A completely fair coin would yield an average of 2.5:', sum(x) / 5."
     ],
     "language": "python",
     "metadata": {},
     "outputs": [
      {
       "output_type": "stream",
       "stream": "stdout",
       "text": [
        "A completely fair coin would yield an average of 2.5: 0.4\n"
       ]
      }
     ],
     "prompt_number": 2
    },
    {
     "cell_type": "markdown",
     "metadata": {},
     "source": [
      "## Plotting distributions of coin flips\n",
      "\n",
      "Computers make it easy to try things lots of times!  Here is how you plot the distribution of X averages of N coin flips."
     ]
    },
    {
     "cell_type": "code",
     "collapsed": false,
     "input": [
      "# do X independent coin flip experiments, N times each.\n",
      "def distribution_of_coin_flips(N, X, coin_flipping_fn):\n",
      "    results = []\n",
      "    for i in range(X):\n",
      "        avg = sum(coin_flipping_fn(N)) / float(N)\n",
      "        results.append(avg)\n",
      "    return results\n"
     ],
     "language": "python",
     "metadata": {},
     "outputs": [],
     "prompt_number": 3
    },
    {
     "cell_type": "code",
     "collapsed": false,
     "input": [
      "d = distribution_of_coin_flips(100, 500, flip_a_fair_coin)\n",
      "e = distribution_of_coin_flips(100, 500, flip_an_unfair_coin)"
     ],
     "language": "python",
     "metadata": {},
     "outputs": [],
     "prompt_number": 4
    },
    {
     "cell_type": "code",
     "collapsed": false,
     "input": [
      "hist(d, normed=True)\n",
      "hist(e, normed=True)\n",
      "axis(xmin=0, xmax=1)"
     ],
     "language": "python",
     "metadata": {},
     "outputs": [
      {
       "output_type": "pyout",
       "prompt_number": 5,
       "text": [
        "(0, 1, 0.0, 12.0)"
       ]
      },
      {
       "output_type": "display_data",
       "png": "[encoded data removed]",
       "text": [
        "<matplotlib.figure.Figure at 0x279ee90>"
       ]
      }
     ],
     "prompt_number": 5
    },
    {
     "cell_type": "markdown",
     "metadata": {},
     "source": [
      "## T-tests!\n",
      "\n",
      "Next we are going to apply a one sample Student's t-test -- see these convenient links:\n",
      "\n",
      "[Student's T-test](http://en.wikipedia.org/wiki/Student's_t-test)\n",
      "\n",
      "[Student's t-distribution](http://en.wikipedia.org/wiki/Student%27s_t-distribution)\n",
      "\n",
      "Basically, what you're doing here is comparing the distributions (plotted above) to see how much overlap they have.  If the distributions have lots of overlap then it will be hard to determine that they are different (e.g. that one coin is fair and the other is unfair).  This is dependent on # of samples and the unfairness of the coins.\n",
      "\n",
      "Below is an implementation taken from the t-test and t-distribution pages, above."
     ]
    },
    {
     "cell_type": "code",
     "collapsed": false,
     "input": [
      "import math\n",
      "\n",
      "def one_sample_t_test(sample_mean, sample_stddev, sample_n, expected_mean):\n",
      "    numerator = sample_mean - expected_mean\n",
      "    denominator = sample_stddev / float(math.sqrt(sample_n))\n",
      "    \n",
      "    return abs(numerator / denominator)\n",
      "\n",
      "p05_value = 6.314\n",
      "\n",
      "# apply like so:\n",
      "flip_record = flip_a_fair_coin(20)\n",
      "\n",
      "# avg = ...\n",
      "# stddev = ...\n",
      "# t_statistic = one_sample_t_test(avg, stddev, len(flip_record), 0.5)\n",
      "# if t_statistic < p05_value:\n",
      "#    print 'FAIR'\n",
      "# else:\n",
      "#    print 'UNFAIR'"
     ],
     "language": "python",
     "metadata": {},
     "outputs": [],
     "prompt_number": 6
    },
    {
     "cell_type": "markdown",
     "metadata": {},
     "source": [
      "## The homework!\n",
      "\n",
      "For the functions 'flip1', 'flip2', and 'flip3', imported below, determine which of them represent fair and which of them represent unfair coins.\n",
      "\n",
      "A: plot the distributions of their averages.\n",
      "\n",
      "B: apply the one-sample t-test defined above, to a certainty of p < 0.05 -- which functions are fair and which are unfair?\n",
      "\n",
      "C: for each 'flip' function write a loop to roughly determine the number of coin flips you need to record in order to reach a conclusion about fair or unfair.  (Yes, that's vague.  Deal. :)"
     ]
    },
    {
     "cell_type": "code",
     "collapsed": false,
     "input": [
      "from hw_week5_coin_fns import flip1, flip2, flip3\n",
      "\n",
      "print flip1(5)\n",
      "print flip2(5)\n",
      "print flip3(5)"
     ],
     "language": "python",
     "metadata": {},
     "outputs": [
      {
       "output_type": "stream",
       "stream": "stdout",
       "text": [
        "[0, 0, 1, 1, 0]\n",
        "[1, 0, 1, 1, 0]\n",
        "[1, 1, 0, 1, 1]\n"
       ]
      }
     ],
     "prompt_number": 7
    },
    {
     "cell_type": "code",
     "collapsed": false,
     "input": [],
     "language": "python",
     "metadata": {},
     "outputs": [],
     "prompt_number": 7
    }
   ],
   "metadata": {}
  }
 ]
}