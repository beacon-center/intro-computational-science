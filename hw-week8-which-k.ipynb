{
 "metadata": {
  "name": "hw-week8-which-k"
 },
 "nbformat": 3,
 "nbformat_minor": 0,
 "worksheets": [
  {
   "cells": [
    {
     "cell_type": "markdown",
     "metadata": {},
     "source": [
      "Evaluating which k to use for assembly"
     ]
    },
    {
     "cell_type": "code",
     "collapsed": false,
     "input": [
      "cd /mnt"
     ],
     "language": "python",
     "metadata": {},
     "outputs": [
      {
       "output_type": "stream",
       "stream": "stdout",
       "text": [
        "/mnt\n"
       ]
      }
     ],
     "prompt_number": 1
    },
    {
     "cell_type": "code",
     "collapsed": false,
     "input": [
      "!python /usr/local/share/khmer/sandbox/assemstats3.py 300 ecoli.??/contigs.fa"
     ],
     "language": "python",
     "metadata": {},
     "outputs": [
      {
       "output_type": "stream",
       "stream": "stdout",
       "text": [
        "** cutoff: 300\r\n",
        "N\tsum\tmax\tfilename\r\n"
       ]
      },
      {
       "output_type": "stream",
       "stream": "stdout",
       "text": [
        "5075\t3822882\t4177\tecoli.31/contigs.fa\r\n"
       ]
      },
      {
       "output_type": "stream",
       "stream": "stdout",
       "text": [
        "4534\t4067030\t5516\tecoli.33/contigs.fa\r\n",
        "--\r\n",
        "TOTAL: 7.88991e+06 in 9609 contigs (mean size 821)\r\n"
       ]
      }
     ],
     "prompt_number": 2
    },
    {
     "cell_type": "code",
     "collapsed": false,
     "input": [
      "!python /usr/local/share/khmer/sandbox/extract-long-sequences.py 300 ecoli.31/contigs.fa > ecoli-31.fa\n"
     ],
     "language": "python",
     "metadata": {},
     "outputs": [],
     "prompt_number": 3
    },
    {
     "cell_type": "code",
     "collapsed": false,
     "input": [
      "!python /usr/local/share/khmer/sandbox/extract-long-sequences.py 300 ecoli.33/contigs.fa > ecoli-33.fa"
     ],
     "language": "python",
     "metadata": {},
     "outputs": [],
     "prompt_number": 4
    },
    {
     "cell_type": "markdown",
     "metadata": {},
     "source": [
      "Which is better?"
     ]
    },
    {
     "cell_type": "code",
     "collapsed": false,
     "input": [
      "!curl -O http://public.ged.msu.edu.s3.amazonaws.com/ecoliMG1655.fa.gz"
     ],
     "language": "python",
     "metadata": {},
     "outputs": [
      {
       "output_type": "stream",
       "stream": "stdout",
       "text": [
        "  % Total    % Received % Xferd  Average Speed   Time    Time     Time  Current\r\n",
        "                                 Dload  Upload   Total   Spent    Left  Speed\r\n",
        "\r",
        "  0     0    0     0    0     0      0      0 --:--:-- --:--:-- --:--:--     0"
       ]
      },
      {
       "output_type": "stream",
       "stream": "stdout",
       "text": [
        "\r",
        "100 1398k  100 1398k    0     0  3456k      0 --:--:-- --:--:-- --:--:-- 4124k\r\n"
       ]
      }
     ],
     "prompt_number": 5
    },
    {
     "cell_type": "code",
     "collapsed": false,
     "input": [
      "!gunzip ecoliMG1655.fa"
     ],
     "language": "python",
     "metadata": {},
     "outputs": [],
     "prompt_number": 6
    },
    {
     "cell_type": "code",
     "collapsed": false,
     "input": [
      "!formatdb -i ecoliMG1655.fa -o T -p F"
     ],
     "language": "python",
     "metadata": {},
     "outputs": [],
     "prompt_number": 8
    },
    {
     "cell_type": "markdown",
     "metadata": {},
     "source": [
      "This will take a few minutes:"
     ]
    },
    {
     "cell_type": "code",
     "collapsed": false,
     "input": [
      "!blastall -i ecoli-31.fa -p blastn -d ecoliMG1655.fa -e 1e-6 -o ecoli-31.blast.out\n",
      "!blastall -i ecoli-33.fa -p blastn -d ecoliMG1655.fa -e 1e-6 -o ecoli-33.blast.out"
     ],
     "language": "python",
     "metadata": {},
     "outputs": [],
     "prompt_number": 15
    },
    {
     "cell_type": "code",
     "collapsed": false,
     "input": [
      "!head -80 ecoli-31.blast.out"
     ],
     "language": "python",
     "metadata": {},
     "outputs": [
      {
       "output_type": "stream",
       "stream": "stdout",
       "text": [
        "BLASTN 2.2.24 [Aug-08-2010]\r\n",
        "\r\n",
        "\r\n",
        "Reference: Altschul, Stephen F., Thomas L. Madden, Alejandro A. Schaffer, \r\n",
        "Jinghui Zhang, Zheng Zhang, Webb Miller, and David J. Lipman (1997), \r\n",
        "\"Gapped BLAST and PSI-BLAST: a new generation of protein database search\r\n",
        "programs\",  Nucleic Acids Res. 25:3389-3402.\r\n",
        "\r\n",
        "Query= NODE_311_length_356_cov_78.278091\r\n",
        "         (386 letters)\r\n",
        "\r\n",
        "Database: ecoliMG1655.fa \r\n",
        "           1 sequences; 4,639,675 total letters\r\n",
        "\r\n",
        "Searching..................................................done\r\n",
        "\r\n",
        "\r\n",
        "\r\n",
        "                                                                 Score    E\r\n",
        "Sequences producing significant alignments:                      (bits) Value\r\n",
        "\r\n",
        "mg1655 |ref|NC_000913.2| Escherichia coli str. K-12 substr. MG16...   765   0.0  \r\n",
        "\r\n",
        ">mg1655 |ref|NC_000913.2| Escherichia coli str. K-12 substr. MG1655 chromosome,\r\n",
        "               complete genome\r\n",
        "          Length = 4639675\r\n",
        "\r\n",
        " Score =  765 bits (386), Expect = 0.0\r\n",
        " Identities = 386/386 (100%)\r\n",
        " Strand = Plus / Minus\r\n",
        "\r\n",
        "                                                                           \r\n",
        "Query: 1       gtttttgccaatacggaaaaattgaacgatgctgtggaagagctgcgtcagttgctcaat 60\r\n",
        "               ||||||||||||||||||||||||||||||||||||||||||||||||||||||||||||\r\n",
        "Sbjct: 2077736 gtttttgccaatacggaaaaattgaacgatgctgtggaagagctgcgtcagttgctcaat 2077677\r\n",
        "\r\n",
        "                                                                           \r\n",
        "Query: 61      aaccaccatgacctgaaggttgtggaaacaccaatctatggttatgtgtggctgaacatg 120\r\n",
        "               ||||||||||||||||||||||||||||||||||||||||||||||||||||||||||||\r\n",
        "Sbjct: 2077676 aaccaccatgacctgaaggttgtggaaacaccaatctatggttatgtgtggctgaacatg 2077617\r\n",
        "\r\n",
        "                                                                           \r\n",
        "Query: 121     gaaacggcgcatcagcttgagttgctatcgaatctgatttgccgggccttgcgcaaataa 180\r\n",
        "               ||||||||||||||||||||||||||||||||||||||||||||||||||||||||||||\r\n",
        "Sbjct: 2077616 gaaacggcgcatcagcttgagttgctatcgaatctgatttgccgggccttgcgcaaataa 2077557\r\n",
        "\r\n",
        "                                                                           \r\n",
        "Query: 181     ttcctgaacttcagaatcatcttgctgctgcttcgattcagcaaggataaagggtatgat 240\r\n",
        "               ||||||||||||||||||||||||||||||||||||||||||||||||||||||||||||\r\n",
        "Sbjct: 2077556 ttcctgaacttcagaatcatcttgctgctgcttcgattcagcaaggataaagggtatgat 2077497\r\n",
        "\r\n",
        "                                                                           \r\n",
        "Query: 241     agtgaaaagggataaaagcattgtcatctgcggcagctatgagtaatgttggccctaacg 300\r\n",
        "               ||||||||||||||||||||||||||||||||||||||||||||||||||||||||||||\r\n",
        "Sbjct: 2077496 agtgaaaagggataaaagcattgtcatctgcggcagctatgagtaatgttggccctaacg 2077437\r\n",
        "\r\n",
        "                                                                           \r\n",
        "Query: 301     aatagcggttgcttaaacgaatccgactctcacattatcaggggtataaaaatggaaact 360\r\n",
        "               ||||||||||||||||||||||||||||||||||||||||||||||||||||||||||||\r\n",
        "Sbjct: 2077436 aatagcggttgcttaaacgaatccgactctcacattatcaggggtataaaaatggaaact 2077377\r\n",
        "\r\n",
        "                                         \r\n",
        "Query: 361     accaagccttcattccaggacgtact 386\r\n",
        "               ||||||||||||||||||||||||||\r\n",
        "Sbjct: 2077376 accaagccttcattccaggacgtact 2077351\r\n",
        "\r\n",
        "\r\n",
        "BLASTN 2.2.24 [Aug-08-2010]\r\n",
        "\r\n",
        "\r\n",
        "Reference: Altschul, Stephen F., Thomas L. Madden, Alejandro A. Schaffer, \r\n",
        "Jinghui Zhang, Zheng Zhang, Webb Miller, and David J. Lipman (1997), \r\n",
        "\"Gapped BLAST and PSI-BLAST: a new generation of protein database search\r\n",
        "programs\",  Nucleic Acids Res. 25:3389-3402.\r\n",
        "\r\n",
        "Query= NODE_404_length_979_cov_75.736465\r\n",
        "         (1009 letters)\r\n",
        "\r\n",
        "Database: ecoliMG1655.fa \r\n",
        "           1 sequences; 4,639,675 total letters\r\n"
       ]
      }
     ],
     "prompt_number": 16
    },
    {
     "cell_type": "code",
     "collapsed": false,
     "input": [
      "import sys\n",
      "sys.path.insert(0, '/usr/local/notebooks/lib')\n",
      "\n",
      "import blastparser\n",
      "\n",
      "# open the BLAST output file for reading\n",
      "fp = open('ecoli-31.blast.out')\n",
      "\n",
      "# parse BLAST records\n",
      "for record in blastparser.parse_fp(fp):\n",
      "    for hit in record:\n",
      "        for match in hit.matches:\n",
      "            print record.query_name, hit.subject_name, match.score, match.expect, match.subject_start, match.subject_end\n",
      "            break\n",
      "        break\n",
      "    break"
     ],
     "language": "python",
     "metadata": {},
     "outputs": [
      {
       "output_type": "stream",
       "stream": "stdout",
       "text": [
        "NODE_311_length_356_cov_78.278091 mg1655 765.0 1e-300 2077736 2077351\n"
       ]
      }
     ],
     "prompt_number": 5
    },
    {
     "cell_type": "code",
     "collapsed": false,
     "input": [
      "# open the BLAST output file for reading\n",
      "fp = open('ecoli-31.blast.out')\n",
      "\n",
      "ecoli_31 = []\n",
      "for record in blastparser.parse_fp(fp):\n",
      "    for hit in record:\n",
      "        for match in hit.matches:\n",
      "            ecoli_31.append((record.query_name, hit.subject_name, match.subject_start, match.subject_end))\n"
     ],
     "language": "python",
     "metadata": {},
     "outputs": [],
     "prompt_number": 6
    },
    {
     "cell_type": "code",
     "collapsed": false,
     "input": [
      "print len(ecoli_31)"
     ],
     "language": "python",
     "metadata": {},
     "outputs": [
      {
       "output_type": "stream",
       "stream": "stdout",
       "text": [
        "7830\n"
       ]
      }
     ],
     "prompt_number": 7
    },
    {
     "cell_type": "code",
     "collapsed": false,
     "input": [
      "# open the BLAST output file for reading\n",
      "fp = open('ecoli-33.blast.out')\n",
      "\n",
      "ecoli_33 = []\n",
      "for record in blastparser.parse_fp(fp):\n",
      "    for hit in record:\n",
      "        for match in hit.matches:\n",
      "            ecoli_33.append((record.query_name, hit.subject_name, match.subject_start, match.subject_end))\n"
     ],
     "language": "python",
     "metadata": {},
     "outputs": [],
     "prompt_number": 8
    },
    {
     "cell_type": "code",
     "collapsed": false,
     "input": [
      "print len(ecoli_33)"
     ],
     "language": "python",
     "metadata": {},
     "outputs": [
      {
       "output_type": "stream",
       "stream": "stdout",
       "text": [
        "9485\n"
       ]
      }
     ],
     "prompt_number": 9
    },
    {
     "cell_type": "code",
     "collapsed": false,
     "input": [
      "ecoli_31_footprints = [0]*6000000\n",
      "ecoli_33_footprints = [0]*6000000"
     ],
     "language": "python",
     "metadata": {},
     "outputs": [],
     "prompt_number": 10
    },
    {
     "cell_type": "code",
     "collapsed": false,
     "input": [
      "for name1, name2, start, end in ecoli_31:\n",
      "    start = int(start)\n",
      "    end = int(end)\n",
      "    start = min(start, end)\n",
      "    end = max(start, end)\n",
      "    for i in range(start, end):\n",
      "        ecoli_31_footprints[i] = 1\n",
      "        "
     ],
     "language": "python",
     "metadata": {},
     "outputs": [],
     "prompt_number": 11
    },
    {
     "cell_type": "code",
     "collapsed": false,
     "input": [
      "for name1, name2, start, end in ecoli_33:\n",
      "    start = int(start)\n",
      "    end = int(end)\n",
      "    start = min(start, end)\n",
      "    end = max(start, end)\n",
      "    for i in range(start, end):\n",
      "        ecoli_33_footprints[i] = 1\n",
      "        "
     ],
     "language": "python",
     "metadata": {},
     "outputs": [],
     "prompt_number": 12
    },
    {
     "cell_type": "code",
     "collapsed": false,
     "input": [
      "print sum(ecoli_31_footprints)\n",
      "print sum(ecoli_33_footprints)"
     ],
     "language": "python",
     "metadata": {},
     "outputs": [
      {
       "output_type": "stream",
       "stream": "stdout",
       "text": [
        "2003069\n",
        "2097313"
       ]
      },
      {
       "output_type": "stream",
       "stream": "stdout",
       "text": [
        "\n"
       ]
      }
     ],
     "prompt_number": 13
    },
    {
     "cell_type": "markdown",
     "metadata": {},
     "source": [
      "Mapping"
     ]
    },
    {
     "cell_type": "code",
     "collapsed": false,
     "input": [
      "!bowtie-build ecoli-31.fa ecoli-31\n",
      "!bowtie-build ecoli-33.fa ecoli-33"
     ],
     "language": "python",
     "metadata": {},
     "outputs": [
      {
       "output_type": "stream",
       "stream": "stdout",
       "text": [
        "Settings:\r\n",
        "  Output files: \"ecoli-31.*.ebwt\"\r\n",
        "  Line rate: 6 (line is 64 bytes)\r\n",
        "  Lines per side: 1 (side is 64 bytes)\r\n",
        "  Offset rate: 5 (one in 32)\r\n",
        "  FTable chars: 10\r\n",
        "  Strings: unpacked\r\n",
        "  Max bucket size: default\r\n",
        "  Max bucket size, sqrt multiplier: default\r\n",
        "  Max bucket size, len divisor: 4\r\n",
        "  Difference-cover sample period: 1024\r\n",
        "  Endianness: little\r\n",
        "  Actual local endianness: little\r\n",
        "  Sanity checking: disabled\r\n",
        "  Assertions: disabled\r\n",
        "  Random seed: 0\r\n",
        "  Sizeofs: void*:8, int:4, long:8, size_t:8\r\n",
        "Input files DNA, FASTA:\r\n",
        "  ecoli-31.fa\r\n",
        "Reading reference sizes\r\n"
       ]
      },
      {
       "output_type": "stream",
       "stream": "stdout",
       "text": [
        "  Time reading reference sizes: 00:00:00\r\n",
        "Calculating joined length\r\n",
        "Writing header\r\n",
        "Reserving space for joined string\r\n",
        "Joining reference sequences\r\n"
       ]
      },
      {
       "output_type": "stream",
       "stream": "stdout",
       "text": [
        "  Time to join reference sequences: 00:00:00\r\n",
        "bmax according to bmaxDivN setting: 955720\r\n",
        "Using parameters --bmax 716790 --dcv 1024\r\n",
        "  Doing ahead-of-time memory usage test\r\n"
       ]
      },
      {
       "output_type": "stream",
       "stream": "stdout",
       "text": [
        "  Passed!  Constructing with these parameters: --bmax 716790 --dcv 1024\r\n"
       ]
      },
      {
       "output_type": "stream",
       "stream": "stdout",
       "text": [
        "Constructing suffix-array element generator\r\n",
        "Building DifferenceCoverSample\r\n",
        "  Building sPrime\r\n",
        "  Building sPrimeOrder\r\n",
        "  V-Sorting samples\r\n"
       ]
      },
      {
       "output_type": "stream",
       "stream": "stdout",
       "text": [
        "  V-Sorting samples time: 00:00:00\r\n",
        "  Allocating rank array\r\n",
        "  Ranking v-sort output\r\n",
        "  Ranking v-sort output time: 00:00:00\r\n",
        "  Invoking Larsson-Sadakane on ranks\r\n"
       ]
      },
      {
       "output_type": "stream",
       "stream": "stdout",
       "text": [
        "  Invoking Larsson-Sadakane on ranks time: 00:00:00\r\n",
        "  Sanity-checking and returning\r\n",
        "Building samples\r\n",
        "Reserving space for 12 sample suffixes\r\n",
        "Generating random suffixes\r\n",
        "QSorting 12 sample offsets, eliminating duplicates\r\n",
        "QSorting sample offsets, eliminating duplicates time: 00:00:00\r\n",
        "Multikey QSorting 12 samples\r\n",
        "  (Using difference cover)\r\n",
        "  Multikey QSorting samples time: 00:00:00\r\n",
        "Calculating bucket sizes\r\n",
        "  Binary sorting into buckets\r\n",
        "  10%\r\n"
       ]
      },
      {
       "output_type": "stream",
       "stream": "stdout",
       "text": [
        "  20%\r\n",
        "  30%\r\n",
        "  40%\r\n"
       ]
      },
      {
       "output_type": "stream",
       "stream": "stdout",
       "text": [
        "  50%\r\n",
        "  60%\r\n"
       ]
      },
      {
       "output_type": "stream",
       "stream": "stdout",
       "text": [
        "  70%\r\n",
        "  80%\r\n"
       ]
      },
      {
       "output_type": "stream",
       "stream": "stdout",
       "text": [
        "  90%\r\n",
        "  100%\r\n",
        "  Binary sorting into buckets time: 00:00:00\r\n",
        "Splitting and merging\r\n",
        "  Splitting and merging time: 00:00:00\r\n",
        "Split 1, merged 7; iterating...\r\n",
        "  Binary sorting into buckets\r\n",
        "  10%\r\n"
       ]
      },
      {
       "output_type": "stream",
       "stream": "stdout",
       "text": [
        "  20%\r\n",
        "  30%\r\n",
        "  40%\r\n"
       ]
      },
      {
       "output_type": "stream",
       "stream": "stdout",
       "text": [
        "  50%\r\n",
        "  60%\r\n",
        "  70%\r\n"
       ]
      },
      {
       "output_type": "stream",
       "stream": "stdout",
       "text": [
        "  80%\r\n",
        "  90%\r\n",
        "  100%\r\n",
        "  Binary sorting into buckets time: 00:00:01\r\n",
        "Splitting and merging\r\n",
        "  Splitting and merging time: 00:00:00\r\n",
        "Split 1, merged 0; iterating...\r\n",
        "  Binary sorting into buckets\r\n"
       ]
      },
      {
       "output_type": "stream",
       "stream": "stdout",
       "text": [
        "  10%\r\n",
        "  20%\r\n",
        "  30%\r\n"
       ]
      },
      {
       "output_type": "stream",
       "stream": "stdout",
       "text": [
        "  40%\r\n",
        "  50%\r\n",
        "  60%\r\n"
       ]
      },
      {
       "output_type": "stream",
       "stream": "stdout",
       "text": [
        "  70%\r\n",
        "  80%\r\n"
       ]
      },
      {
       "output_type": "stream",
       "stream": "stdout",
       "text": [
        "  90%\r\n",
        "  100%\r\n",
        "  Binary sorting into buckets time: 00:00:00\r\n",
        "Splitting and merging\r\n",
        "  Splitting and merging time: 00:00:00\r\n",
        "Avg bucket size: 546125 (target: 716789)\r\n",
        "Converting suffix-array elements to index image\r\n",
        "Allocating ftab, absorbFtab\r\n",
        "Entering Ebwt loop\r\n",
        "Getting block 1 of 7\r\n",
        "  Reserving size (716790) for bucket\r\n",
        "  Calculating Z arrays\r\n",
        "  Calculating Z arrays time: 00:00:00\r\n",
        "  Entering block accumulator loop:\r\n",
        "  10%\r\n",
        "  20%\r\n",
        "  30%\r\n"
       ]
      },
      {
       "output_type": "stream",
       "stream": "stdout",
       "text": [
        "  40%\r\n",
        "  50%\r\n",
        "  60%\r\n",
        "  70%\r\n",
        "  80%\r\n",
        "  90%\r\n",
        "  100%\r\n",
        "  Block accumulator loop time: 00:00:00\r\n",
        "  Sorting block of length 609248\r\n",
        "  (Using difference cover)\r\n"
       ]
      },
      {
       "output_type": "stream",
       "stream": "stdout",
       "text": [
        "  Sorting block time: 00:00:00\r\n",
        "Returning block of 609249\r\n",
        "Getting block 2 of 7\r\n",
        "  Reserving size (716790) for bucket\r\n",
        "  Calculating Z arrays\r\n",
        "  Calculating Z arrays time: 00:00:00\r\n",
        "  Entering block accumulator loop:\r\n",
        "  10%\r\n",
        "  20%\r\n"
       ]
      },
      {
       "output_type": "stream",
       "stream": "stdout",
       "text": [
        "  30%\r\n",
        "  40%\r\n"
       ]
      },
      {
       "output_type": "stream",
       "stream": "stdout",
       "text": [
        "  50%\r\n",
        "  60%\r\n",
        "  70%\r\n",
        "  80%\r\n",
        "  90%\r\n",
        "  100%\r\n",
        "  Block accumulator loop time: 00:00:00\r\n",
        "  Sorting block of length 670690\r\n",
        "  (Using difference cover)\r\n"
       ]
      },
      {
       "output_type": "stream",
       "stream": "stdout",
       "text": [
        "  Sorting block time: 00:00:00\r\n",
        "Returning block of 670691\r\n"
       ]
      },
      {
       "output_type": "stream",
       "stream": "stdout",
       "text": [
        "Getting block 3 of 7\r\n",
        "  Reserving size (716790) for bucket\r\n",
        "  Calculating Z arrays\r\n",
        "  Calculating Z arrays time: 00:00:00\r\n",
        "  Entering block accumulator loop:\r\n",
        "  10%\r\n",
        "  20%\r\n",
        "  30%\r\n",
        "  40%\r\n",
        "  50%\r\n"
       ]
      },
      {
       "output_type": "stream",
       "stream": "stdout",
       "text": [
        "  60%\r\n",
        "  70%\r\n"
       ]
      },
      {
       "output_type": "stream",
       "stream": "stdout",
       "text": [
        "  80%\r\n",
        "  90%\r\n",
        "  100%\r\n",
        "  Block accumulator loop time: 00:00:01\r\n",
        "  Sorting block of length 469005\r\n",
        "  (Using difference cover)\r\n"
       ]
      },
      {
       "output_type": "stream",
       "stream": "stdout",
       "text": [
        "  Sorting block time: 00:00:00\r\n",
        "Returning block of 469006\r\n",
        "Getting block 4 of 7\r\n",
        "  Reserving size (716790) for bucket\r\n",
        "  Calculating Z arrays\r\n",
        "  Calculating Z arrays time: 00:00:00\r\n",
        "  Entering block accumulator loop:\r\n",
        "  10%\r\n",
        "  20%\r\n"
       ]
      },
      {
       "output_type": "stream",
       "stream": "stdout",
       "text": [
        "  30%\r\n",
        "  40%\r\n",
        "  50%\r\n",
        "  60%\r\n",
        "  70%\r\n",
        "  80%\r\n"
       ]
      },
      {
       "output_type": "stream",
       "stream": "stdout",
       "text": [
        "  90%\r\n",
        "  100%\r\n",
        "  Block accumulator loop time: 00:00:00\r\n",
        "  Sorting block of length 647734\r\n",
        "  (Using difference cover)\r\n"
       ]
      },
      {
       "output_type": "stream",
       "stream": "stdout",
       "text": [
        "  Sorting block time: 00:00:00\r\n",
        "Returning block of 647735\r\n"
       ]
      },
      {
       "output_type": "stream",
       "stream": "stdout",
       "text": [
        "Getting block 5 of 7\r\n",
        "  Reserving size (716790) for bucket\r\n",
        "  Calculating Z arrays\r\n",
        "  Calculating Z arrays time: 00:00:00\r\n",
        "  Entering block accumulator loop:\r\n",
        "  10%\r\n",
        "  20%\r\n",
        "  30%\r\n"
       ]
      },
      {
       "output_type": "stream",
       "stream": "stdout",
       "text": [
        "  40%\r\n",
        "  50%\r\n",
        "  60%\r\n",
        "  70%\r\n",
        "  80%\r\n"
       ]
      },
      {
       "output_type": "stream",
       "stream": "stdout",
       "text": [
        "  90%\r\n",
        "  100%\r\n",
        "  Block accumulator loop time: 00:00:00\r\n",
        "  Sorting block of length 280169\r\n",
        "  (Using difference cover)\r\n"
       ]
      },
      {
       "output_type": "stream",
       "stream": "stdout",
       "text": [
        "  Sorting block time: 00:00:00\r\n",
        "Returning block of 280170\r\n",
        "Getting block 6 of 7\r\n",
        "  Reserving size (716790) for bucket\r\n",
        "  Calculating Z arrays\r\n",
        "  Calculating Z arrays time: 00:00:00\r\n",
        "  Entering block accumulator loop:\r\n",
        "  10%\r\n",
        "  20%\r\n",
        "  30%\r\n",
        "  40%\r\n"
       ]
      },
      {
       "output_type": "stream",
       "stream": "stdout",
       "text": [
        "  50%\r\n",
        "  60%\r\n",
        "  70%\r\n",
        "  80%\r\n",
        "  90%\r\n"
       ]
      },
      {
       "output_type": "stream",
       "stream": "stdout",
       "text": [
        "  100%\r\n",
        "  Block accumulator loop time: 00:00:00\r\n",
        "  Sorting block of length 658644\r\n",
        "  (Using difference cover)\r\n"
       ]
      },
      {
       "output_type": "stream",
       "stream": "stdout",
       "text": [
        "  Sorting block time: 00:00:01\r\n",
        "Returning block of 658645\r\n"
       ]
      },
      {
       "output_type": "stream",
       "stream": "stdout",
       "text": [
        "Getting block 7 of 7\r\n",
        "  Reserving size (716790) for bucket\r\n",
        "  Calculating Z arrays\r\n",
        "  Calculating Z arrays time: 00:00:00\r\n",
        "  Entering block accumulator loop:\r\n",
        "  10%\r\n",
        "  20%\r\n",
        "  30%\r\n"
       ]
      },
      {
       "output_type": "stream",
       "stream": "stdout",
       "text": [
        "  40%\r\n",
        "  50%\r\n",
        "  60%\r\n",
        "  70%\r\n",
        "  80%\r\n",
        "  90%\r\n",
        "  100%\r\n",
        "  Block accumulator loop time: 00:00:00\r\n",
        "  Sorting block of length 487386\r\n",
        "  (Using difference cover)\r\n"
       ]
      },
      {
       "output_type": "stream",
       "stream": "stdout",
       "text": [
        "  Sorting block time: 00:00:00\r\n",
        "Returning block of 487387\r\n",
        "Exited Ebwt loop\r\n",
        "fchr[A]: 0\r\n",
        "fchr[C]: 944298\r\n",
        "fchr[G]: 1914364\r\n",
        "fchr[T]: 2880902\r\n",
        "fchr[$]: 3822882\r\n"
       ]
      },
      {
       "output_type": "stream",
       "stream": "stdout",
       "text": [
        "Exiting Ebwt::buildToDisk()\r\n",
        "Returning from initFromVector\r\n",
        "Wrote 5549121 bytes to primary EBWT file: ecoli-31.1.ebwt\r\n",
        "Wrote 477868 bytes to secondary EBWT file: ecoli-31.2.ebwt\r\n",
        "Re-opening _in1 and _in2 as input streams\r\n",
        "Returning from Ebwt constructor\r\n",
        "Headers:\r\n",
        "    len: 3822882\r\n",
        "    bwtLen: 3822883\r\n",
        "    sz: 955721\r\n",
        "    bwtSz: 955721\r\n",
        "    lineRate: 6\r\n",
        "    linesPerSide: 1\r\n",
        "    offRate: 5\r\n",
        "    offMask: 0xffffffe0\r\n",
        "    isaRate: -1\r\n",
        "    isaMask: 0xffffffff\r\n",
        "    ftabChars: 10\r\n",
        "    eftabLen: 20\r\n",
        "    eftabSz: 80\r\n",
        "    ftabLen: 1048577\r\n",
        "    ftabSz: 4194308\r\n",
        "    offsLen: 119466\r\n",
        "    offsSz: 477864\r\n",
        "    isaLen: 0\r\n",
        "    isaSz: 0\r\n",
        "    lineSz: 64\r\n",
        "    sideSz: 64\r\n",
        "    sideBwtSz: 56\r\n",
        "    sideBwtLen: 224\r\n",
        "    numSidePairs: 8534\r\n",
        "    numSides: 17068\r\n",
        "    numLines: 17068\r\n",
        "    ebwtTotLen: 1092352\r\n",
        "    ebwtTotSz: 1092352\r\n",
        "    reverse: 0\r\n",
        "Total time for call to driver() for forward index: 00:00:03\r\n",
        "Reading reference sizes\r\n"
       ]
      },
      {
       "output_type": "stream",
       "stream": "stdout",
       "text": [
        "  Time reading reference sizes: 00:00:00\r\n",
        "Calculating joined length\r\n",
        "Writing header\r\n",
        "Reserving space for joined string\r\n",
        "Joining reference sequences\r\n"
       ]
      },
      {
       "output_type": "stream",
       "stream": "stdout",
       "text": [
        "  Time to join reference sequences: 00:00:00\r\n",
        "bmax according to bmaxDivN setting: 955720\r\n",
        "Using parameters --bmax 716790 --dcv 1024\r\n",
        "  Doing ahead-of-time memory usage test\r\n"
       ]
      },
      {
       "output_type": "stream",
       "stream": "stdout",
       "text": [
        "  Passed!  Constructing with these parameters: --bmax 716790 --dcv 1024\r\n"
       ]
      },
      {
       "output_type": "stream",
       "stream": "stdout",
       "text": [
        "Constructing suffix-array element generator\r\n",
        "Building DifferenceCoverSample\r\n",
        "  Building sPrime\r\n",
        "  Building sPrimeOrder\r\n",
        "  V-Sorting samples\r\n"
       ]
      },
      {
       "output_type": "stream",
       "stream": "stdout",
       "text": [
        "  V-Sorting samples time: 00:00:00\r\n",
        "  Allocating rank array\r\n",
        "  Ranking v-sort output\r\n",
        "  Ranking v-sort output time: 00:00:00\r\n",
        "  Invoking Larsson-Sadakane on ranks\r\n",
        "  Invoking Larsson-Sadakane on ranks time: 00:00:00\r\n",
        "  Sanity-checking and returning\r\n",
        "Building samples\r\n",
        "Reserving space for 12 sample suffixes\r\n",
        "Generating random suffixes\r\n",
        "QSorting 12 sample offsets, eliminating duplicates\r\n",
        "QSorting sample offsets, eliminating duplicates time: 00:00:00\r\n",
        "Multikey QSorting 12 samples\r\n",
        "  (Using difference cover)\r\n",
        "  Multikey QSorting samples time: 00:00:00\r\n",
        "Calculating bucket sizes\r\n",
        "  Binary sorting into buckets\r\n"
       ]
      },
      {
       "output_type": "stream",
       "stream": "stdout",
       "text": [
        "  10%\r\n",
        "  20%\r\n"
       ]
      },
      {
       "output_type": "stream",
       "stream": "stdout",
       "text": [
        "  30%\r\n",
        "  40%\r\n"
       ]
      },
      {
       "output_type": "stream",
       "stream": "stdout",
       "text": [
        "  50%\r\n"
       ]
      },
      {
       "output_type": "stream",
       "stream": "stdout",
       "text": [
        "  60%\r\n",
        "  70%\r\n"
       ]
      },
      {
       "output_type": "stream",
       "stream": "stdout",
       "text": [
        "  80%\r\n",
        "  90%\r\n"
       ]
      },
      {
       "output_type": "stream",
       "stream": "stdout",
       "text": [
        "  100%\r\n",
        "  Binary sorting into buckets time: 00:00:01\r\n",
        "Splitting and merging\r\n",
        "  Splitting and merging time: 00:00:00\r\n",
        "Split 2, merged 5; iterating...\r\n",
        "  Binary sorting into buckets\r\n",
        "  10%\r\n"
       ]
      },
      {
       "output_type": "stream",
       "stream": "stdout",
       "text": [
        "  20%\r\n",
        "  30%\r\n",
        "  40%\r\n"
       ]
      },
      {
       "output_type": "stream",
       "stream": "stdout",
       "text": [
        "  50%\r\n",
        "  60%\r\n"
       ]
      },
      {
       "output_type": "stream",
       "stream": "stdout",
       "text": [
        "  70%\r\n",
        "  80%\r\n",
        "  90%\r\n"
       ]
      },
      {
       "output_type": "stream",
       "stream": "stdout",
       "text": [
        "  100%\r\n",
        "  Binary sorting into buckets time: 00:00:00\r\n",
        "Splitting and merging\r\n",
        "  Splitting and merging time: 00:00:00\r\n",
        "Split 1, merged 2; iterating...\r\n",
        "  Binary sorting into buckets\r\n",
        "  10%\r\n",
        "  20%\r\n"
       ]
      },
      {
       "output_type": "stream",
       "stream": "stdout",
       "text": [
        "  30%\r\n",
        "  40%\r\n"
       ]
      },
      {
       "output_type": "stream",
       "stream": "stdout",
       "text": [
        "  50%\r\n",
        "  60%\r\n",
        "  70%\r\n"
       ]
      },
      {
       "output_type": "stream",
       "stream": "stdout",
       "text": [
        "  80%\r\n",
        "  90%\r\n"
       ]
      },
      {
       "output_type": "stream",
       "stream": "stdout",
       "text": [
        "  100%\r\n",
        "  Binary sorting into buckets time: 00:00:00\r\n",
        "Splitting and merging\r\n",
        "  Splitting and merging time: 00:00:00\r\n",
        "Avg bucket size: 477859 (target: 716789)\r\n",
        "Converting suffix-array elements to index image\r\n",
        "Allocating ftab, absorbFtab\r\n",
        "Entering Ebwt loop\r\n",
        "Getting block 1 of 8\r\n",
        "  Reserving size (716790) for bucket\r\n",
        "  Calculating Z arrays\r\n",
        "  Calculating Z arrays time: 00:00:00\r\n",
        "  Entering block accumulator loop:\r\n",
        "  10%\r\n",
        "  20%\r\n",
        "  30%\r\n",
        "  40%\r\n",
        "  50%\r\n",
        "  60%\r\n",
        "  70%\r\n",
        "  80%\r\n",
        "  90%\r\n"
       ]
      },
      {
       "output_type": "stream",
       "stream": "stdout",
       "text": [
        "  100%\r\n",
        "  Block accumulator loop time: 00:00:00\r\n",
        "  Sorting block of length 241512\r\n",
        "  (Using difference cover)\r\n"
       ]
      },
      {
       "output_type": "stream",
       "stream": "stdout",
       "text": [
        "  Sorting block time: 00:00:00\r\n",
        "Returning block of 241513\r\n",
        "Getting block 2 of 8\r\n",
        "  Reserving size (716790) for bucket\r\n",
        "  Calculating Z arrays\r\n",
        "  Calculating Z arrays time: 00:00:00\r\n",
        "  Entering block accumulator loop:\r\n",
        "  10%\r\n",
        "  20%\r\n",
        "  30%\r\n",
        "  40%\r\n",
        "  50%\r\n"
       ]
      },
      {
       "output_type": "stream",
       "stream": "stdout",
       "text": [
        "  60%\r\n",
        "  70%\r\n",
        "  80%\r\n",
        "  90%\r\n",
        "  100%\r\n",
        "  Block accumulator loop time: 00:00:00\r\n",
        "  Sorting block of length 680302\r\n",
        "  (Using difference cover)\r\n"
       ]
      },
      {
       "output_type": "stream",
       "stream": "stdout",
       "text": [
        "  Sorting block time: 00:00:00\r\n",
        "Returning block of 680303\r\n"
       ]
      },
      {
       "output_type": "stream",
       "stream": "stdout",
       "text": [
        "Getting block 3 of 8\r\n",
        "  Reserving size (716790) for bucket\r\n",
        "  Calculating Z arrays\r\n",
        "  Calculating Z arrays time: 00:00:00\r\n",
        "  Entering block accumulator loop:\r\n",
        "  10%\r\n",
        "  20%\r\n",
        "  30%\r\n",
        "  40%\r\n"
       ]
      },
      {
       "output_type": "stream",
       "stream": "stdout",
       "text": [
        "  50%\r\n",
        "  60%\r\n",
        "  70%\r\n",
        "  80%\r\n",
        "  90%\r\n",
        "  100%\r\n",
        "  Block accumulator loop time: 00:00:00\r\n",
        "  Sorting block of length 405058\r\n",
        "  (Using difference cover)\r\n"
       ]
      },
      {
       "output_type": "stream",
       "stream": "stdout",
       "text": [
        "  Sorting block time: 00:00:00\r\n",
        "Returning block of 405059\r\n"
       ]
      },
      {
       "output_type": "stream",
       "stream": "stdout",
       "text": [
        "Getting block 4 of 8\r\n",
        "  Reserving size (716790) for bucket\r\n",
        "  Calculating Z arrays\r\n",
        "  Calculating Z arrays time: 00:00:00\r\n",
        "  Entering block accumulator loop:\r\n",
        "  10%\r\n",
        "  20%\r\n",
        "  30%\r\n",
        "  40%\r\n",
        "  50%\r\n"
       ]
      },
      {
       "output_type": "stream",
       "stream": "stdout",
       "text": [
        "  60%\r\n",
        "  70%\r\n",
        "  80%\r\n",
        "  90%\r\n",
        "  100%\r\n",
        "  Block accumulator loop time: 00:00:00\r\n",
        "  Sorting block of length 470070\r\n",
        "  (Using difference cover)\r\n"
       ]
      },
      {
       "output_type": "stream",
       "stream": "stdout",
       "text": [
        "  Sorting block time: 00:00:00\r\n",
        "Returning block of 470071\r\n"
       ]
      },
      {
       "output_type": "stream",
       "stream": "stdout",
       "text": [
        "Getting block 5 of 8\r\n",
        "  Reserving size (716790) for bucket\r\n",
        "  Calculating Z arrays\r\n",
        "  Calculating Z arrays time: 00:00:00\r\n",
        "  Entering block accumulator loop:\r\n",
        "  10%\r\n",
        "  20%\r\n",
        "  30%\r\n",
        "  40%\r\n",
        "  50%\r\n",
        "  60%\r\n",
        "  70%\r\n",
        "  80%\r\n",
        "  90%\r\n",
        "  100%\r\n",
        "  Block accumulator loop time: 00:00:00\r\n",
        "  Sorting block of length 370675\r\n",
        "  (Using difference cover)\r\n"
       ]
      },
      {
       "output_type": "stream",
       "stream": "stdout",
       "text": [
        "  Sorting block time: 00:00:00\r\n",
        "Returning block of 370676\r\n",
        "Getting block 6 of 8\r\n",
        "  Reserving size (716790) for bucket\r\n",
        "  Calculating Z arrays\r\n",
        "  Calculating Z arrays time: 00:00:00\r\n",
        "  Entering block accumulator loop:\r\n",
        "  10%\r\n"
       ]
      },
      {
       "output_type": "stream",
       "stream": "stdout",
       "text": [
        "  20%\r\n",
        "  30%\r\n",
        "  40%\r\n",
        "  50%\r\n",
        "  60%\r\n",
        "  70%\r\n"
       ]
      },
      {
       "output_type": "stream",
       "stream": "stdout",
       "text": [
        "  80%\r\n",
        "  90%\r\n",
        "  100%\r\n",
        "  Block accumulator loop time: 00:00:00\r\n",
        "  Sorting block of length 608689\r\n",
        "  (Using difference cover)\r\n"
       ]
      },
      {
       "output_type": "stream",
       "stream": "stdout",
       "text": [
        "  Sorting block time: 00:00:00\r\n",
        "Returning block of 608690\r\n",
        "Getting block 7 of 8\r\n",
        "  Reserving size (716790) for bucket\r\n",
        "  Calculating Z arrays\r\n",
        "  Calculating Z arrays time: 00:00:00\r\n",
        "  Entering block accumulator loop:\r\n"
       ]
      },
      {
       "output_type": "stream",
       "stream": "stdout",
       "text": [
        "  10%\r\n",
        "  20%\r\n",
        "  30%\r\n",
        "  40%\r\n",
        "  50%\r\n"
       ]
      },
      {
       "output_type": "stream",
       "stream": "stdout",
       "text": [
        "  60%\r\n",
        "  70%\r\n",
        "  80%\r\n",
        "  90%\r\n"
       ]
      },
      {
       "output_type": "stream",
       "stream": "stdout",
       "text": [
        "  100%\r\n",
        "  Block accumulator loop time: 00:00:00\r\n",
        "  Sorting block of length 624287\r\n",
        "  (Using difference cover)\r\n"
       ]
      },
      {
       "output_type": "stream",
       "stream": "stdout",
       "text": [
        "  Sorting block time: 00:00:00\r\n",
        "Returning block of 624288\r\n",
        "Getting block 8 of 8\r\n",
        "  Reserving size (716790) for bucket\r\n",
        "  Calculating Z arrays\r\n",
        "  Calculating Z arrays time: 00:00:00\r\n",
        "  Entering block accumulator loop:\r\n"
       ]
      },
      {
       "output_type": "stream",
       "stream": "stdout",
       "text": [
        "  10%\r\n",
        "  20%\r\n",
        "  30%\r\n",
        "  40%\r\n",
        "  50%\r\n",
        "  60%\r\n",
        "  70%\r\n",
        "  80%\r\n",
        "  90%\r\n"
       ]
      },
      {
       "output_type": "stream",
       "stream": "stdout",
       "text": [
        "  100%\r\n",
        "  Block accumulator loop time: 00:00:00\r\n",
        "  Sorting block of length 422282\r\n",
        "  (Using difference cover)\r\n"
       ]
      },
      {
       "output_type": "stream",
       "stream": "stdout",
       "text": [
        "  Sorting block time: 00:00:00\r\n",
        "Returning block of 422283\r\n",
        "Exited Ebwt loop\r\n",
        "fchr[A]: 0\r\n",
        "fchr[C]: 944298\r\n",
        "fchr[G]: 1914364\r\n",
        "fchr[T]: 2880902\r\n",
        "fchr[$]: 3822882\r\n"
       ]
      },
      {
       "output_type": "stream",
       "stream": "stdout",
       "text": [
        "Exiting Ebwt::buildToDisk()\r\n",
        "Returning from initFromVector\r\n",
        "Wrote 5549121 bytes to primary EBWT file: ecoli-31.rev.1.ebwt\r\n",
        "Wrote 477868 bytes to secondary EBWT file: ecoli-31.rev.2.ebwt\r\n",
        "Re-opening _in1 and _in2 as input streams\r\n",
        "Returning from Ebwt constructor\r\n",
        "Headers:\r\n",
        "    len: 3822882\r\n",
        "    bwtLen: 3822883\r\n",
        "    sz: 955721\r\n",
        "    bwtSz: 955721\r\n",
        "    lineRate: 6\r\n",
        "    linesPerSide: 1\r\n",
        "    offRate: 5\r\n",
        "    offMask: 0xffffffe0\r\n",
        "    isaRate: -1\r\n",
        "    isaMask: 0xffffffff\r\n",
        "    ftabChars: 10\r\n",
        "    eftabLen: 20\r\n",
        "    eftabSz: 80\r\n",
        "    ftabLen: 1048577\r\n",
        "    ftabSz: 4194308\r\n",
        "    offsLen: 119466\r\n",
        "    offsSz: 477864\r\n",
        "    isaLen: 0\r\n",
        "    isaSz: 0\r\n",
        "    lineSz: 64\r\n",
        "    sideSz: 64\r\n",
        "    sideBwtSz: 56\r\n",
        "    sideBwtLen: 224\r\n",
        "    numSidePairs: 8534\r\n",
        "    numSides: 17068\r\n",
        "    numLines: 17068\r\n",
        "    ebwtTotLen: 1092352\r\n",
        "    ebwtTotSz: 1092352\r\n",
        "    reverse: 0\r\n",
        "Total time for backward call to driver() for mirror index: 00:00:03\r\n"
       ]
      },
      {
       "output_type": "stream",
       "stream": "stdout",
       "text": [
        "Settings:\r\n",
        "  Output files: \"ecoli-33.*.ebwt\"\r\n",
        "  Line rate: 6 (line is 64 bytes)\r\n",
        "  Lines per side: 1 (side is 64 bytes)\r\n",
        "  Offset rate: 5 (one in 32)\r\n",
        "  FTable chars: 10\r\n",
        "  Strings: unpacked\r\n",
        "  Max bucket size: default\r\n",
        "  Max bucket size, sqrt multiplier: default\r\n",
        "  Max bucket size, len divisor: 4\r\n",
        "  Difference-cover sample period: 1024\r\n",
        "  Endianness: little\r\n",
        "  Actual local endianness: little\r\n",
        "  Sanity checking: disabled\r\n",
        "  Assertions: disabled\r\n",
        "  Random seed: 0\r\n",
        "  Sizeofs: void*:8, int:4, long:8, size_t:8\r\n",
        "Input files DNA, FASTA:\r\n",
        "  ecoli-33.fa\r\n",
        "Reading reference sizes\r\n"
       ]
      },
      {
       "output_type": "stream",
       "stream": "stdout",
       "text": [
        "  Time reading reference sizes: 00:00:00\r\n",
        "Calculating joined length\r\n",
        "Writing header\r\n",
        "Reserving space for joined string\r\n",
        "Joining reference sequences\r\n"
       ]
      },
      {
       "output_type": "stream",
       "stream": "stdout",
       "text": [
        "  Time to join reference sequences: 00:00:00\r\n"
       ]
      },
      {
       "output_type": "stream",
       "stream": "stdout",
       "text": [
        "bmax according to bmaxDivN setting: 1016757\r\n",
        "Using parameters --bmax 762568 --dcv 1024\r\n",
        "  Doing ahead-of-time memory usage test\r\n"
       ]
      },
      {
       "output_type": "stream",
       "stream": "stdout",
       "text": [
        "  Passed!  Constructing with these parameters: --bmax 762568 --dcv 1024\r\n"
       ]
      },
      {
       "output_type": "stream",
       "stream": "stdout",
       "text": [
        "Constructing suffix-array element generator\r\n",
        "Building DifferenceCoverSample\r\n",
        "  Building sPrime\r\n",
        "  Building sPrimeOrder\r\n",
        "  V-Sorting samples\r\n"
       ]
      },
      {
       "output_type": "stream",
       "stream": "stdout",
       "text": [
        "  V-Sorting samples time: 00:00:00\r\n",
        "  Allocating rank array\r\n",
        "  Ranking v-sort output\r\n",
        "  Ranking v-sort output time: 00:00:00\r\n",
        "  Invoking Larsson-Sadakane on ranks\r\n"
       ]
      },
      {
       "output_type": "stream",
       "stream": "stdout",
       "text": [
        "  Invoking Larsson-Sadakane on ranks time: 00:00:00\r\n",
        "  Sanity-checking and returning\r\n",
        "Building samples\r\n",
        "Reserving space for 12 sample suffixes\r\n",
        "Generating random suffixes\r\n",
        "QSorting 12 sample offsets, eliminating duplicates\r\n",
        "QSorting sample offsets, eliminating duplicates time: 00:00:00\r\n",
        "Multikey QSorting 12 samples\r\n",
        "  (Using difference cover)\r\n",
        "  Multikey QSorting samples time: 00:00:00\r\n",
        "Calculating bucket sizes\r\n",
        "  Binary sorting into buckets\r\n",
        "  10%\r\n"
       ]
      },
      {
       "output_type": "stream",
       "stream": "stdout",
       "text": [
        "  20%\r\n",
        "  30%\r\n"
       ]
      },
      {
       "output_type": "stream",
       "stream": "stdout",
       "text": [
        "  40%\r\n",
        "  50%\r\n"
       ]
      },
      {
       "output_type": "stream",
       "stream": "stdout",
       "text": [
        "  60%\r\n",
        "  70%\r\n"
       ]
      },
      {
       "output_type": "stream",
       "stream": "stdout",
       "text": [
        "  80%\r\n",
        "  90%\r\n"
       ]
      },
      {
       "output_type": "stream",
       "stream": "stdout",
       "text": [
        "  100%\r\n",
        "  Binary sorting into buckets time: 00:00:00\r\n",
        "Splitting and merging\r\n",
        "  Splitting and merging time: 00:00:00\r\n",
        "Split 1, merged 5; iterating...\r\n",
        "  Binary sorting into buckets\r\n",
        "  10%\r\n"
       ]
      },
      {
       "output_type": "stream",
       "stream": "stdout",
       "text": [
        "  20%\r\n",
        "  30%\r\n"
       ]
      },
      {
       "output_type": "stream",
       "stream": "stdout",
       "text": [
        "  40%\r\n",
        "  50%\r\n"
       ]
      },
      {
       "output_type": "stream",
       "stream": "stdout",
       "text": [
        "  60%\r\n",
        "  70%\r\n"
       ]
      },
      {
       "output_type": "stream",
       "stream": "stdout",
       "text": [
        "  80%\r\n",
        "  90%\r\n"
       ]
      },
      {
       "output_type": "stream",
       "stream": "stdout",
       "text": [
        "  100%\r\n",
        "  Binary sorting into buckets time: 00:00:00\r\n",
        "Splitting and merging\r\n",
        "  Splitting and merging time: 00:00:00\r\n",
        "Split 1, merged 1; iterating...\r\n",
        "  Binary sorting into buckets\r\n",
        "  10%\r\n"
       ]
      },
      {
       "output_type": "stream",
       "stream": "stdout",
       "text": [
        "  20%\r\n",
        "  30%\r\n"
       ]
      },
      {
       "output_type": "stream",
       "stream": "stdout",
       "text": [
        "  40%\r\n",
        "  50%\r\n",
        "  60%\r\n"
       ]
      },
      {
       "output_type": "stream",
       "stream": "stdout",
       "text": [
        "  70%\r\n",
        "  80%\r\n"
       ]
      },
      {
       "output_type": "stream",
       "stream": "stdout",
       "text": [
        "  90%\r\n",
        "  100%\r\n",
        "  Binary sorting into buckets time: 00:00:01\r\n",
        "Splitting and merging\r\n",
        "  Splitting and merging time: 00:00:00\r\n",
        "Split 1, merged 1; iterating...\r\n",
        "  Binary sorting into buckets\r\n"
       ]
      },
      {
       "output_type": "stream",
       "stream": "stdout",
       "text": [
        "  10%\r\n"
       ]
      },
      {
       "output_type": "stream",
       "stream": "stdout",
       "text": [
        "  20%\r\n",
        "  30%\r\n"
       ]
      },
      {
       "output_type": "stream",
       "stream": "stdout",
       "text": [
        "  40%\r\n",
        "  50%\r\n"
       ]
      },
      {
       "output_type": "stream",
       "stream": "stdout",
       "text": [
        "  60%\r\n",
        "  70%\r\n",
        "  80%\r\n"
       ]
      },
      {
       "output_type": "stream",
       "stream": "stdout",
       "text": [
        "  90%\r\n",
        "  100%\r\n",
        "  Binary sorting into buckets time: 00:00:00\r\n",
        "Splitting and merging\r\n",
        "  Splitting and merging time: 00:00:00\r\n",
        "Avg bucket size: 451891 (target: 762567)\r\n",
        "Converting suffix-array elements to index image\r\n",
        "Allocating ftab, absorbFtab\r\n",
        "Entering Ebwt loop\r\n",
        "Getting block 1 of 9\r\n",
        "  Reserving size (762568) for bucket\r\n",
        "  Calculating Z arrays\r\n",
        "  Calculating Z arrays time: 00:00:00\r\n",
        "  Entering block accumulator loop:\r\n"
       ]
      },
      {
       "output_type": "stream",
       "stream": "stdout",
       "text": [
        "  10%\r\n",
        "  20%\r\n",
        "  30%\r\n",
        "  40%\r\n",
        "  50%\r\n",
        "  60%\r\n",
        "  70%\r\n",
        "  80%\r\n",
        "  90%\r\n",
        "  100%\r\n",
        "  Block accumulator loop time: 00:00:00\r\n",
        "  Sorting block of length 128205\r\n",
        "  (Using difference cover)\r\n"
       ]
      },
      {
       "output_type": "stream",
       "stream": "stdout",
       "text": [
        "  Sorting block time: 00:00:00\r\n",
        "Returning block of 128206\r\n",
        "Getting block 2 of 9\r\n",
        "  Reserving size (762568) for bucket\r\n",
        "  Calculating Z arrays\r\n",
        "  Calculating Z arrays time: 00:00:00\r\n",
        "  Entering block accumulator loop:\r\n",
        "  10%\r\n",
        "  20%\r\n",
        "  30%\r\n"
       ]
      },
      {
       "output_type": "stream",
       "stream": "stdout",
       "text": [
        "  40%\r\n",
        "  50%\r\n",
        "  60%\r\n",
        "  70%\r\n",
        "  80%\r\n",
        "  90%\r\n",
        "  100%\r\n",
        "  Block accumulator loop time: 00:00:00\r\n",
        "  Sorting block of length 705993\r\n",
        "  (Using difference cover)\r\n"
       ]
      },
      {
       "output_type": "stream",
       "stream": "stdout",
       "text": [
        "  Sorting block time: 00:00:00\r\n",
        "Returning block of 705994\r\n",
        "Getting block 3 of 9\r\n",
        "  Reserving size (762568) for bucket\r\n",
        "  Calculating Z arrays\r\n",
        "  Calculating Z arrays time: 00:00:00\r\n",
        "  Entering block accumulator loop:\r\n",
        "  10%\r\n"
       ]
      },
      {
       "output_type": "stream",
       "stream": "stdout",
       "text": [
        "  20%\r\n",
        "  30%\r\n",
        "  40%\r\n",
        "  50%\r\n",
        "  60%\r\n",
        "  70%\r\n"
       ]
      },
      {
       "output_type": "stream",
       "stream": "stdout",
       "text": [
        "  80%\r\n",
        "  90%\r\n",
        "  100%\r\n",
        "  Block accumulator loop time: 00:00:00\r\n",
        "  Sorting block of length 421739\r\n",
        "  (Using difference cover)\r\n"
       ]
      },
      {
       "output_type": "stream",
       "stream": "stdout",
       "text": [
        "  Sorting block time: 00:00:01\r\n",
        "Returning block of 421740\r\n",
        "Getting block 4 of 9\r\n",
        "  Reserving size (762568) for bucket\r\n",
        "  Calculating Z arrays\r\n",
        "  Calculating Z arrays time: 00:00:00\r\n",
        "  Entering block accumulator loop:\r\n",
        "  10%\r\n",
        "  20%\r\n"
       ]
      },
      {
       "output_type": "stream",
       "stream": "stdout",
       "text": [
        "  30%\r\n",
        "  40%\r\n"
       ]
      },
      {
       "output_type": "stream",
       "stream": "stdout",
       "text": [
        "  50%\r\n",
        "  60%\r\n",
        "  70%\r\n",
        "  80%\r\n",
        "  90%\r\n",
        "  100%\r\n",
        "  Block accumulator loop time: 00:00:00\r\n",
        "  Sorting block of length 492602\r\n",
        "  (Using difference cover)\r\n"
       ]
      },
      {
       "output_type": "stream",
       "stream": "stdout",
       "text": [
        "  Sorting block time: 00:00:00\r\n",
        "Returning block of 492603\r\n",
        "Getting block 5 of 9\r\n",
        "  Reserving size (762568) for bucket\r\n",
        "  Calculating Z arrays\r\n",
        "  Calculating Z arrays time: 00:00:00\r\n",
        "  Entering block accumulator loop:\r\n"
       ]
      },
      {
       "output_type": "stream",
       "stream": "stdout",
       "text": [
        "  10%\r\n",
        "  20%\r\n",
        "  30%\r\n",
        "  40%\r\n",
        "  50%\r\n"
       ]
      },
      {
       "output_type": "stream",
       "stream": "stdout",
       "text": [
        "  60%\r\n",
        "  70%\r\n",
        "  80%\r\n",
        "  90%\r\n",
        "  100%\r\n",
        "  Block accumulator loop time: 00:00:00\r\n",
        "  Sorting block of length 631114\r\n",
        "  (Using difference cover)\r\n"
       ]
      },
      {
       "output_type": "stream",
       "stream": "stdout",
       "text": [
        "  Sorting block time: 00:00:00\r\n",
        "Returning block of 631115\r\n"
       ]
      },
      {
       "output_type": "stream",
       "stream": "stdout",
       "text": [
        "Getting block 6 of 9\r\n",
        "  Reserving size (762568) for bucket\r\n",
        "  Calculating Z arrays\r\n",
        "  Calculating Z arrays time: 00:00:00\r\n",
        "  Entering block accumulator loop:\r\n",
        "  10%\r\n",
        "  20%\r\n"
       ]
      },
      {
       "output_type": "stream",
       "stream": "stdout",
       "text": [
        "  30%\r\n",
        "  40%\r\n",
        "  50%\r\n",
        "  60%\r\n",
        "  70%\r\n"
       ]
      },
      {
       "output_type": "stream",
       "stream": "stdout",
       "text": [
        "  80%\r\n",
        "  90%\r\n",
        "  100%\r\n",
        "  Block accumulator loop time: 00:00:00\r\n",
        "  Sorting block of length 462439\r\n",
        "  (Using difference cover)\r\n"
       ]
      },
      {
       "output_type": "stream",
       "stream": "stdout",
       "text": [
        "  Sorting block time: 00:00:00\r\n",
        "Returning block of 462440\r\n",
        "Getting block 7 of 9\r\n",
        "  Reserving size (762568) for bucket\r\n",
        "  Calculating Z arrays\r\n",
        "  Calculating Z arrays time: 00:00:00\r\n",
        "  Entering block accumulator loop:\r\n"
       ]
      },
      {
       "output_type": "stream",
       "stream": "stdout",
       "text": [
        "  10%\r\n",
        "  20%\r\n",
        "  30%\r\n",
        "  40%\r\n",
        "  50%\r\n",
        "  60%\r\n"
       ]
      },
      {
       "output_type": "stream",
       "stream": "stdout",
       "text": [
        "  70%\r\n",
        "  80%\r\n",
        "  90%\r\n",
        "  100%\r\n",
        "  Block accumulator loop time: 00:00:01\r\n",
        "  Sorting block of length 344653\r\n",
        "  (Using difference cover)\r\n"
       ]
      },
      {
       "output_type": "stream",
       "stream": "stdout",
       "text": [
        "  Sorting block time: 00:00:00\r\n",
        "Returning block of 344654\r\n",
        "Getting block 8 of 9\r\n",
        "  Reserving size (762568) for bucket\r\n",
        "  Calculating Z arrays\r\n",
        "  Calculating Z arrays time: 00:00:00\r\n",
        "  Entering block accumulator loop:\r\n",
        "  10%\r\n",
        "  20%\r\n"
       ]
      },
      {
       "output_type": "stream",
       "stream": "stdout",
       "text": [
        "  30%\r\n",
        "  40%\r\n",
        "  50%\r\n",
        "  60%\r\n",
        "  70%\r\n",
        "  80%\r\n"
       ]
      },
      {
       "output_type": "stream",
       "stream": "stdout",
       "text": [
        "  90%\r\n",
        "  100%\r\n",
        "  Block accumulator loop time: 00:00:00\r\n",
        "  Sorting block of length 508606\r\n",
        "  (Using difference cover)\r\n"
       ]
      },
      {
       "output_type": "stream",
       "stream": "stdout",
       "text": [
        "  Sorting block time: 00:00:00\r\n",
        "Returning block of 508607\r\n"
       ]
      },
      {
       "output_type": "stream",
       "stream": "stdout",
       "text": [
        "Getting block 9 of 9\r\n",
        "  Reserving size (762568) for bucket\r\n",
        "  Calculating Z arrays\r\n",
        "  Calculating Z arrays time: 00:00:00\r\n",
        "  Entering block accumulator loop:\r\n"
       ]
      },
      {
       "output_type": "stream",
       "stream": "stdout",
       "text": [
        "  10%\r\n",
        "  20%\r\n",
        "  30%\r\n",
        "  40%\r\n",
        "  50%\r\n",
        "  60%\r\n",
        "  70%\r\n",
        "  80%\r\n",
        "  90%\r\n"
       ]
      },
      {
       "output_type": "stream",
       "stream": "stdout",
       "text": [
        "  100%\r\n",
        "  Block accumulator loop time: 00:00:00\r\n",
        "  Sorting block of length 371671\r\n",
        "  (Using difference cover)\r\n"
       ]
      },
      {
       "output_type": "stream",
       "stream": "stdout",
       "text": [
        "  Sorting block time: 00:00:00\r\n",
        "Returning block of 371672\r\n",
        "Exited Ebwt loop\r\n",
        "fchr[A]: 0\r\n",
        "fchr[C]: 1002969\r\n",
        "fchr[G]: 2036510\r\n",
        "fchr[T]: 3065453\r\n",
        "fchr[$]: 4067030\r\n"
       ]
      },
      {
       "output_type": "stream",
       "stream": "stdout",
       "text": [
        "Exiting Ebwt::buildToDisk()\r\n"
       ]
      },
      {
       "output_type": "stream",
       "stream": "stdout",
       "text": [
        "Returning from initFromVector\r\n",
        "Wrote 5590722 bytes to primary EBWT file: ecoli-33.1.ebwt\r\n",
        "Wrote 508384 bytes to secondary EBWT file: ecoli-33.2.ebwt\r\n",
        "Re-opening _in1 and _in2 as input streams\r\n",
        "Returning from Ebwt constructor\r\n",
        "Headers:\r\n",
        "    len: 4067030\r\n",
        "    bwtLen: 4067031\r\n",
        "    sz: 1016758\r\n",
        "    bwtSz: 1016758\r\n",
        "    lineRate: 6\r\n",
        "    linesPerSide: 1\r\n",
        "    offRate: 5\r\n",
        "    offMask: 0xffffffe0\r\n",
        "    isaRate: -1\r\n",
        "    isaMask: 0xffffffff\r\n",
        "    ftabChars: 10\r\n",
        "    eftabLen: 20\r\n",
        "    eftabSz: 80\r\n",
        "    ftabLen: 1048577\r\n",
        "    ftabSz: 4194308\r\n",
        "    offsLen: 127095\r\n",
        "    offsSz: 508380\r\n",
        "    isaLen: 0\r\n",
        "    isaSz: 0\r\n",
        "    lineSz: 64\r\n",
        "    sideSz: 64\r\n",
        "    sideBwtSz: 56\r\n",
        "    sideBwtLen: 224\r\n",
        "    numSidePairs: 9079\r\n",
        "    numSides: 18158\r\n",
        "    numLines: 18158\r\n",
        "    ebwtTotLen: 1162112\r\n",
        "    ebwtTotSz: 1162112\r\n",
        "    reverse: 0\r\n",
        "Total time for call to driver() for forward index: 00:00:04\r\n",
        "Reading reference sizes\r\n"
       ]
      },
      {
       "output_type": "stream",
       "stream": "stdout",
       "text": [
        "  Time reading reference sizes: 00:00:00\r\n",
        "Calculating joined length\r\n",
        "Writing header\r\n",
        "Reserving space for joined string\r\n",
        "Joining reference sequences\r\n",
        "  Time to join reference sequences: 00:00:00\r\n",
        "bmax according to bmaxDivN setting: 1016757\r\n",
        "Using parameters --bmax 762568 --dcv 1024\r\n",
        "  Doing ahead-of-time memory usage test\r\n"
       ]
      },
      {
       "output_type": "stream",
       "stream": "stdout",
       "text": [
        "  Passed!  Constructing with these parameters: --bmax 762568 --dcv 1024\r\n"
       ]
      },
      {
       "output_type": "stream",
       "stream": "stdout",
       "text": [
        "Constructing suffix-array element generator\r\n",
        "Building DifferenceCoverSample\r\n",
        "  Building sPrime\r\n",
        "  Building sPrimeOrder\r\n",
        "  V-Sorting samples\r\n"
       ]
      },
      {
       "output_type": "stream",
       "stream": "stdout",
       "text": [
        "  V-Sorting samples time: 00:00:01\r\n",
        "  Allocating rank array\r\n",
        "  Ranking v-sort output\r\n"
       ]
      },
      {
       "output_type": "stream",
       "stream": "stdout",
       "text": [
        "  Ranking v-sort output time: 00:00:00\r\n",
        "  Invoking Larsson-Sadakane on ranks\r\n",
        "  Invoking Larsson-Sadakane on ranks time: 00:00:00\r\n",
        "  Sanity-checking and returning\r\n",
        "Building samples\r\n",
        "Reserving space for 12 sample suffixes\r\n",
        "Generating random suffixes\r\n",
        "QSorting 12 sample offsets, eliminating duplicates\r\n",
        "QSorting sample offsets, eliminating duplicates time: 00:00:00\r\n",
        "Multikey QSorting 12 samples\r\n",
        "  (Using difference cover)\r\n",
        "  Multikey QSorting samples time: 00:00:00\r\n",
        "Calculating bucket sizes\r\n",
        "  Binary sorting into buckets\r\n"
       ]
      },
      {
       "output_type": "stream",
       "stream": "stdout",
       "text": [
        "  10%\r\n",
        "  20%\r\n"
       ]
      },
      {
       "output_type": "stream",
       "stream": "stdout",
       "text": [
        "  30%\r\n",
        "  40%\r\n"
       ]
      },
      {
       "output_type": "stream",
       "stream": "stdout",
       "text": [
        "  50%\r\n"
       ]
      },
      {
       "output_type": "stream",
       "stream": "stdout",
       "text": [
        "  60%\r\n",
        "  70%\r\n"
       ]
      },
      {
       "output_type": "stream",
       "stream": "stdout",
       "text": [
        "  80%\r\n",
        "  90%\r\n"
       ]
      },
      {
       "output_type": "stream",
       "stream": "stdout",
       "text": [
        "  100%\r\n",
        "  Binary sorting into buckets time: 00:00:00\r\n",
        "Splitting and merging\r\n",
        "  Splitting and merging time: 00:00:00\r\n",
        "Split 1, merged 6; iterating...\r\n",
        "  Binary sorting into buckets\r\n",
        "  10%\r\n",
        "  20%\r\n"
       ]
      },
      {
       "output_type": "stream",
       "stream": "stdout",
       "text": [
        "  30%\r\n",
        "  40%\r\n"
       ]
      },
      {
       "output_type": "stream",
       "stream": "stdout",
       "text": [
        "  50%\r\n",
        "  60%\r\n"
       ]
      },
      {
       "output_type": "stream",
       "stream": "stdout",
       "text": [
        "  70%\r\n",
        "  80%\r\n"
       ]
      },
      {
       "output_type": "stream",
       "stream": "stdout",
       "text": [
        "  90%\r\n",
        "  100%\r\n",
        "  Binary sorting into buckets time: 00:00:00\r\n",
        "Splitting and merging\r\n",
        "  Splitting and merging time: 00:00:00\r\n",
        "Avg bucket size: 508378 (target: 762567)\r\n",
        "Converting suffix-array elements to index image\r\n",
        "Allocating ftab, absorbFtab\r\n",
        "Entering Ebwt loop\r\n",
        "Getting block 1 of 8\r\n",
        "  Reserving size (762568) for bucket\r\n",
        "  Calculating Z arrays\r\n",
        "  Calculating Z arrays time: 00:00:00\r\n",
        "  Entering block accumulator loop:\r\n",
        "  10%\r\n",
        "  20%\r\n"
       ]
      },
      {
       "output_type": "stream",
       "stream": "stdout",
       "text": [
        "  30%\r\n",
        "  40%\r\n",
        "  50%\r\n",
        "  60%\r\n",
        "  70%\r\n",
        "  80%\r\n",
        "  90%\r\n",
        "  100%\r\n",
        "  Block accumulator loop time: 00:00:00\r\n",
        "  Sorting block of length 435158\r\n",
        "  (Using difference cover)\r\n"
       ]
      },
      {
       "output_type": "stream",
       "stream": "stdout",
       "text": [
        "  Sorting block time: 00:00:00\r\n",
        "Returning block of 435159\r\n"
       ]
      },
      {
       "output_type": "stream",
       "stream": "stdout",
       "text": [
        "Getting block 2 of 8\r\n",
        "  Reserving size (762568) for bucket\r\n",
        "  Calculating Z arrays\r\n",
        "  Calculating Z arrays time: 00:00:00\r\n",
        "  Entering block accumulator loop:\r\n",
        "  10%\r\n"
       ]
      },
      {
       "output_type": "stream",
       "stream": "stdout",
       "text": [
        "  20%\r\n",
        "  30%\r\n",
        "  40%\r\n",
        "  50%\r\n",
        "  60%\r\n",
        "  70%\r\n"
       ]
      },
      {
       "output_type": "stream",
       "stream": "stdout",
       "text": [
        "  80%\r\n",
        "  90%\r\n",
        "  100%\r\n",
        "  Block accumulator loop time: 00:00:01\r\n",
        "  Sorting block of length 738621\r\n",
        "  (Using difference cover)\r\n"
       ]
      },
      {
       "output_type": "stream",
       "stream": "stdout",
       "text": [
        "  Sorting block time: 00:00:00\r\n",
        "Returning block of 738622\r\n"
       ]
      },
      {
       "output_type": "stream",
       "stream": "stdout",
       "text": [
        "Getting block 3 of 8\r\n",
        "  Reserving size (762568) for bucket\r\n",
        "  Calculating Z arrays\r\n",
        "  Calculating Z arrays time: 00:00:00\r\n",
        "  Entering block accumulator loop:\r\n",
        "  10%\r\n",
        "  20%\r\n",
        "  30%\r\n",
        "  40%\r\n",
        "  50%\r\n",
        "  60%\r\n",
        "  70%\r\n"
       ]
      },
      {
       "output_type": "stream",
       "stream": "stdout",
       "text": [
        "  80%\r\n",
        "  90%\r\n",
        "  100%\r\n",
        "  Block accumulator loop time: 00:00:00\r\n",
        "  Sorting block of length 415969\r\n",
        "  (Using difference cover)\r\n"
       ]
      },
      {
       "output_type": "stream",
       "stream": "stdout",
       "text": [
        "  Sorting block time: 00:00:00\r\n",
        "Returning block of 415970\r\n",
        "Getting block 4 of 8\r\n",
        "  Reserving size (762568) for bucket\r\n",
        "  Calculating Z arrays\r\n",
        "  Calculating Z arrays time: 00:00:00\r\n",
        "  Entering block accumulator loop:\r\n",
        "  10%\r\n",
        "  20%\r\n"
       ]
      },
      {
       "output_type": "stream",
       "stream": "stdout",
       "text": [
        "  30%\r\n",
        "  40%\r\n"
       ]
      },
      {
       "output_type": "stream",
       "stream": "stdout",
       "text": [
        "  50%\r\n",
        "  60%\r\n",
        "  70%\r\n",
        "  80%\r\n",
        "  90%\r\n",
        "  100%\r\n",
        "  Block accumulator loop time: 00:00:00\r\n",
        "  Sorting block of length 754331\r\n",
        "  (Using difference cover)\r\n"
       ]
      },
      {
       "output_type": "stream",
       "stream": "stdout",
       "text": [
        "  Sorting block time: 00:00:00\r\n",
        "Returning block of 754332\r\n"
       ]
      },
      {
       "output_type": "stream",
       "stream": "stdout",
       "text": [
        "Getting block 5 of 8\r\n",
        "  Reserving size (762568) for bucket\r\n",
        "  Calculating Z arrays\r\n",
        "  Calculating Z arrays time: 00:00:00\r\n",
        "  Entering block accumulator loop:\r\n",
        "  10%\r\n"
       ]
      },
      {
       "output_type": "stream",
       "stream": "stdout",
       "text": [
        "  20%\r\n",
        "  30%\r\n"
       ]
      },
      {
       "output_type": "stream",
       "stream": "stdout",
       "text": [
        "  40%\r\n",
        "  50%\r\n",
        "  60%\r\n",
        "  70%\r\n",
        "  80%\r\n",
        "  90%\r\n"
       ]
      },
      {
       "output_type": "stream",
       "stream": "stdout",
       "text": [
        "  100%\r\n",
        "  Block accumulator loop time: 00:00:01\r\n",
        "  Sorting block of length 317628\r\n",
        "  (Using difference cover)\r\n"
       ]
      },
      {
       "output_type": "stream",
       "stream": "stdout",
       "text": [
        "  Sorting block time: 00:00:00\r\n",
        "Returning block of 317629\r\n",
        "Getting block 6 of 8\r\n",
        "  Reserving size (762568) for bucket\r\n",
        "  Calculating Z arrays\r\n",
        "  Calculating Z arrays time: 00:00:00\r\n",
        "  Entering block accumulator loop:\r\n",
        "  10%\r\n"
       ]
      },
      {
       "output_type": "stream",
       "stream": "stdout",
       "text": [
        "  20%\r\n",
        "  30%\r\n",
        "  40%\r\n",
        "  50%\r\n",
        "  60%\r\n",
        "  70%\r\n"
       ]
      },
      {
       "output_type": "stream",
       "stream": "stdout",
       "text": [
        "  80%\r\n",
        "  90%\r\n",
        "  100%\r\n",
        "  Block accumulator loop time: 00:00:00\r\n",
        "  Sorting block of length 558004\r\n",
        "  (Using difference cover)\r\n"
       ]
      },
      {
       "output_type": "stream",
       "stream": "stdout",
       "text": [
        "  Sorting block time: 00:00:00\r\n",
        "Returning block of 558005\r\n"
       ]
      },
      {
       "output_type": "stream",
       "stream": "stdout",
       "text": [
        "Getting block 7 of 8\r\n",
        "  Reserving size (762568) for bucket\r\n",
        "  Calculating Z arrays\r\n",
        "  Calculating Z arrays time: 00:00:00\r\n",
        "  Entering block accumulator loop:\r\n",
        "  10%\r\n",
        "  20%\r\n",
        "  30%\r\n"
       ]
      },
      {
       "output_type": "stream",
       "stream": "stdout",
       "text": [
        "  40%\r\n",
        "  50%\r\n",
        "  60%\r\n",
        "  70%\r\n",
        "  80%\r\n",
        "  90%\r\n"
       ]
      },
      {
       "output_type": "stream",
       "stream": "stdout",
       "text": [
        "  100%\r\n",
        "  Block accumulator loop time: 00:00:00\r\n",
        "  Sorting block of length 399024\r\n",
        "  (Using difference cover)\r\n"
       ]
      },
      {
       "output_type": "stream",
       "stream": "stdout",
       "text": [
        "  Sorting block time: 00:00:00\r\n",
        "Returning block of 399025\r\n",
        "Getting block 8 of 8\r\n",
        "  Reserving size (762568) for bucket\r\n",
        "  Calculating Z arrays\r\n",
        "  Calculating Z arrays time: 00:00:00\r\n",
        "  Entering block accumulator loop:\r\n"
       ]
      },
      {
       "output_type": "stream",
       "stream": "stdout",
       "text": [
        "  10%\r\n",
        "  20%\r\n",
        "  30%\r\n",
        "  40%\r\n",
        "  50%\r\n",
        "  60%\r\n",
        "  70%\r\n",
        "  80%\r\n"
       ]
      },
      {
       "output_type": "stream",
       "stream": "stdout",
       "text": [
        "  90%\r\n",
        "  100%\r\n",
        "  Block accumulator loop time: 00:00:00\r\n",
        "  Sorting block of length 448288\r\n",
        "  (Using difference cover)\r\n"
       ]
      },
      {
       "output_type": "stream",
       "stream": "stdout",
       "text": [
        "  Sorting block time: 00:00:00\r\n",
        "Returning block of 448289\r\n"
       ]
      },
      {
       "output_type": "stream",
       "stream": "stdout",
       "text": [
        "Exited Ebwt loop\r\n",
        "fchr[A]: 0\r\n",
        "fchr[C]: 1002969\r\n",
        "fchr[G]: 2036510\r\n",
        "fchr[T]: 3065453\r\n",
        "fchr[$]: 4067030\r\n",
        "Exiting Ebwt::buildToDisk()\r\n"
       ]
      },
      {
       "output_type": "stream",
       "stream": "stdout",
       "text": [
        "Returning from initFromVector\r\n",
        "Wrote 5590722 bytes to primary EBWT file: ecoli-33.rev.1.ebwt\r\n",
        "Wrote 508384 bytes to secondary EBWT file: ecoli-33.rev.2.ebwt\r\n",
        "Re-opening _in1 and _in2 as input streams\r\n",
        "Returning from Ebwt constructor\r\n",
        "Headers:\r\n",
        "    len: 4067030\r\n",
        "    bwtLen: 4067031\r\n",
        "    sz: 1016758\r\n",
        "    bwtSz: 1016758\r\n",
        "    lineRate: 6\r\n",
        "    linesPerSide: 1\r\n",
        "    offRate: 5\r\n",
        "    offMask: 0xffffffe0\r\n",
        "    isaRate: -1\r\n",
        "    isaMask: 0xffffffff\r\n",
        "    ftabChars: 10\r\n",
        "    eftabLen: 20\r\n",
        "    eftabSz: 80\r\n",
        "    ftabLen: 1048577\r\n",
        "    ftabSz: 4194308\r\n",
        "    offsLen: 127095\r\n",
        "    offsSz: 508380\r\n",
        "    isaLen: 0\r\n",
        "    isaSz: 0\r\n",
        "    lineSz: 64\r\n",
        "    sideSz: 64\r\n",
        "    sideBwtSz: 56\r\n",
        "    sideBwtLen: 224\r\n",
        "    numSidePairs: 9079\r\n",
        "    numSides: 18158\r\n",
        "    numLines: 18158\r\n",
        "    ebwtTotLen: 1162112\r\n",
        "    ebwtTotSz: 1162112\r\n",
        "    reverse: 0\r\n",
        "Total time for backward call to driver() for mirror index: 00:00:03\r\n"
       ]
      }
     ],
     "prompt_number": 15
    },
    {
     "cell_type": "markdown",
     "metadata": {},
     "source": [
      "Bowtie parameters\n",
      "subsetting reads\n"
     ]
    },
    {
     "cell_type": "code",
     "collapsed": false,
     "input": [
      "!bowtie -q -a --strata --best ecoli-31 ecoli_ref-5m.fastq > reads-map-31.out"
     ],
     "language": "python",
     "metadata": {},
     "outputs": [
      {
       "output_type": "stream",
       "stream": "stdout",
       "text": [
        "# reads processed: "
       ]
      },
      {
       "output_type": "stream",
       "stream": "stdout",
       "text": [
        "5000000\r\n",
        "# reads with at least one reported alignment: 3543503 (70.87%)\r\n",
        "# reads that failed to align: 1456497 (29.13%)\r\n",
        "Reported 3543551 alignments to 1 output stream(s)\r\n"
       ]
      }
     ],
     "prompt_number": 16
    },
    {
     "cell_type": "code",
     "collapsed": false,
     "input": [
      "!bowtie -q -a --strata --best ecoli-33 ecoli_ref-5m.fastq > reads-map-33.out"
     ],
     "language": "python",
     "metadata": {},
     "outputs": [
      {
       "output_type": "stream",
       "stream": "stdout",
       "text": [
        "# reads processed: 5000000\r\n",
        "# reads with at least one reported alignment: 3858941 (77.18%)\r\n",
        "# reads that failed to align: 1141059 (22.82%)\r\n",
        "Reported 3859086 alignments to 1 output stream(s)\r\n"
       ]
      }
     ],
     "prompt_number": 17
    },
    {
     "cell_type": "code",
     "collapsed": false,
     "input": [
      "!head reads-map-33.out"
     ],
     "language": "python",
     "metadata": {},
     "outputs": [
      {
       "output_type": "stream",
       "stream": "stdout",
       "text": [
        "EAS20_8_6_1_2_194/1\t+\tNODE_2199_length_2676_cov_67.104637\t2411\tCAAAACGTTTAAAACCGAAAATGGTGNNNNNNNNNNNNNNNNNNNNNNNNNNNNNNNNNNNNNNNNNNNNNNNNNNNNNNNNNNNNNNNNNNNNNNNNNN\tHHHHGHGHHHHDHHHHHEHHHHHHGA##########################################################################\t0\t26:C>N,27:C>N,28:C>N,29:G>N,30:T>N,31:C>N,32:G>N,33:C>N,34:T>N,35:G>N,36:G>N,37:C>N,38:T>N,39:G>N,40:G>N,41:A>N,42:A>N,43:A>N,44:G>N,45:A>N,46:A>N,47:A>N,48:C>N,49:T>N,50:C>N,51:A>N,52:G>N,53:G>N,54:T>N,55:G>N,56:A>N,57:G>N,58:T>N,59:G>N,60:A>N,61:T>N,62:A>N,63:T>N,64:G>N,65:G>N,66:A>N,67:T>N,68:T>N,69:T>N,70:C>N,71:G>N,72:A>N,73:C>N,74:A>N,75:C>N,76:A>N,77:A>N,78:T>N,79:C>N,80:A>N,81:T>N,82:G>N,83:G>N,84:A>N,85:A>N,86:A>N,87:A>N,88:G>N,89:G>N,90:C>N,91:T>N,92:T>N,93:A>N,94:C>N,95:G>N,96:A>N,97:A>N,98:G>N,99:A>N\r\n",
        "EAS20_8_6_1_2_1762/1\t+\tNODE_5637_length_1081_cov_62.487511\t777\tTGTGACTCAAAAACCCTTTGCCGGATNNNGNNCNNGNNNNNNNNNNNNNNNNNNNNNNNNNNNNNNNNNNNNNNNNNNNNNNNNNNNNNNNNNNNNNNNN\tHHGHHHHHHHIHHHHHEHHHHHHHD###########################################################################\t0\t26:G>N,27:G>N,28:C>N,30:G>N,31:C>N,33:C>N,34:A>N,36:C>N,37:A>N,38:T>N,39:C>N,40:T>N,41:G>N,42:T>N,43:T>N,44:T>N,45:A>N,46:C>N,47:A>N,48:T>N,49:C>N,50:A>N,51:T>N,52:T>N,53:A>N,54:C>N,55:G>N,56:A>N,57:C>N,58:G>N,59:T>N,60:C>N,61:A>N,62:A>N,63:A>N,64:C>N,65:T>N,66:G>N,67:C>N,68:T>N,69:C>N,70:C>N,71:T>N,72:G>N,73:G>N,74:T>N,75:T>N,76:A>N,77:T>N,78:A>N,79:G>N,80:A>N,81:G>N,82:C>N,83:G>N,84:G>N,85:T>N,86:T>N,87:C>N,88:A>N,89:A>N,90:T>N,91:T>N,92:T>N,93:G>N,94:T>N,95:A>N,96:C>N,97:T>N,98:T>N,99:T>N\r\n",
        "EAS20_8_6_1_2_820/1\t+\tNODE_2100_length_1106_cov_62.438519\t284\tAAGAATACGAAGTGCAGATGATTTTANNNANNANNGNNNNNNNNNNNNNNNNNNNNNNNNNNNNNNNNNNNNNNNNNNNNNNNNNNNNNNNNNNNNNNNN\tHHHHHHHHGEGGHHHHGGHGHHHHH###########################################################################\t0\t26:A>N,27:A>N,28:A>N,30:C>N,31:T>N,33:C>N,34:C>N,36:T>N,37:A>N,38:T>N,39:C>N,40:T>N,41:C>N,42:A>N,43:C>N,44:C>N,45:A>N,46:G>N,47:C>N,48:A>N,49:G>N,50:G>N,51:C>N,52:A>N,53:C>N,54:T>N,55:G>N,56:C>N,57:T>N,58:G>N,59:G>N,60:A>N,61:A>N,62:T>N,63:G>N,64:C>N,65:C>N,66:T>N,67:G>N,68:A>N,69:A>N,70:G>N,71:T>N,72:C>N,73:T>N,74:C>N,75:A>N,76:T>N,77:C>N,78:A>N,79:T>N,80:C>N,81:C>N,82:A>N,83:T>N,84:A>N,85:T>N,86:C>N,87:A>N,88:A>N,89:A>N,90:C>N,91:C>N,92:C>N,93:C>N,94:G>N,95:G>N,96:A>N,97:A>N,98:C>N,99:T>N\r\n",
        "EAS20_8_6_1_2_315/1\t+\tNODE_14352_length_1915_cov_67.970238\t344\tCGATAAAGGCCAGATGGCGATGCGATNNNTNNCNNGNNNNNNNNNNNNNNNNNNNNNNNNNNNNNNNNNNNNNNNNNNNNNNNNNNNNNNNNNNNNNNNN\tGGEECDEDEHEDAGGG@DGEFFGDF###########################################################################\t0\t26:G>N,27:C>N,28:T>N,30:C>N,31:G>N,33:G>N,34:C>N,36:C>N,37:T>N,38:T>N,39:C>N,40:T>N,41:T>N,42:C>N,43:C>N,44:G>N,45:G>N,46:C>N,47:T>N,48:T>N,49:A>N,50:C>N,51:C>N,52:G>N,53:G>N,54:C>N,55:C>N,56:A>N,57:T>N,58:A>N,59:A>N,60:T>N,61:C>N,62:G>N,63:C>N,64:T>N,65:T>N,66:C>N,67:A>N,68:A>N,69:A>N,70:T>N,71:A>N,72:T>N,73:G>N,74:C>N,75:G>N,76:G>N,77:G>N,78:T>N,79:G>N,80:C>N,81:G>N,82:G>N,83:T>N,84:G>N,85:A>N,86:C>N,87:T>N,88:A>N,89:C>N,90:T>N,91:C>N,92:A>N,93:C>N,94:C>N,95:A>N,96:G>N,97:C>N,98:G>N,99:G>N\r\n",
        "EAS20_8_6_1_2_663/1\t-\tNODE_2100_length_1106_cov_62.438519\t537\tNNNNNNNNNNNNNNNNNNNNNNNNNNNNNNNNNNNNNNNNNNNNNNNNNNNNNNNNNNNNNNNNANNTNTANCGTAAACAGATCCGCATTACGCCGGAAC\t######################################################################C&CDBHHHHHHHHHHHHHHHHFHGHGHHHG\t0\t28:C>N,31:C>N,33:C>N,34:C>N,36:T>N,37:C>N,38:A>N,39:T>N,40:T>N,41:G>N,42:G>N,43:C>N,44:A>N,45:G>N,46:A>N,47:A>N,48:A>N,49:C>N,50:T>N,51:A>N,52:G>N,53:A>N,54:C>N,55:G>N,56:G>N,57:T>N,58:C>N,59:C>N,60:A>N,61:G>N,62:T>N,63:C>N,64:T>N,65:A>N,66:A>N,67:T>N,68:T>N,69:C>N,70:C>N,71:A>N,72:G>N,73:T>N,74:A>N,75:C>N,76:A>N,77:A>N,78:C>N,79:C>N,80:A>N,81:A>N,82:A>N,83:A>N,84:C>N,85:G>N,86:A>N,87:C>N,88:T>N,89:T>N,90:T>N,91:T>N,92:A>N,93:G>N,94:T>N,95:T>N,96:T>N,97:T>N,98:C>N,99:G>N\r\n",
        "EAS20_8_6_1_2_400/1\t+\tNODE_6461_length_2259_cov_59.693226\t761\tCGATGAGTAAATACCGCGATTACGAGCANTCNCNNCNNNNNNNNNNNNNNNNNNNNNNNNNNNNNNNNNNNNNNNNNNNNNNNNNNNNNNNNNNNNNNNN\tHHHHHHHHHHHHHHHHHHHHHHHHHBFD'B######################################################################\t0\t28:G>N,31:A>N,33:G>N,34:C>N,36:A>N,37:G>N,38:T>N,39:C>N,40:A>N,41:T>N,42:T>N,43:T>N,44:G>N,45:G>N,46:C>N,47:A>N,48:T>N,49:T>N,50:A>N,51:A>N,52:C>N,53:G>N,54:T>N,55:T>N,56:C>N,57:T>N,58:T>N,59:G>N,60:G>N,61:C>N,62:A>N,63:C>N,64:G>N,65:T>N,66:T>N,67:G>N,68:G>N,69:T>N,70:T>N,71:G>N,72:T>N,73:T>N,74:G>N,75:A>N,76:A>N,77:G>N,78:T>N,79:C>N,80:G>N,81:A>N,82:A>N,83:G>N,84:C>N,85:A>N,86:G>N,87:A>N,88:A>N,89:A>N,90:A>N,91:C>N,92:G>N,93:G>N,94:C>N,95:C>N,96:A>N,97:G>N,98:A>N,99:C>N\r\n",
        "EAS20_8_6_1_2_1753/1\t-\tNODE_1452_length_1209_cov_68.085197\t973\tNNNNNNNNNNNNNNNNNNNNNNNNNNNNNNNNNNNNNNNNNNNNNNNNNNNNNNNNNNNNNNNNGNNGNTTNCCAGCTCTCTGCTGTTTTATATCGGCAT\t######################################################################D&@DDHHCHHDFHHHHHHHHHFHHHHGHHH\t0\t28:T>N,31:G>N,33:T>N,34:C>N,36:T>N,37:C>N,38:G>N,39:C>N,40:C>N,41:G>N,42:T>N,43:G>N,44:G>N,45:T>N,46:G>N,47:G>N,48:T>N,49:C>N,50:C>N,51:G>N,52:C>N,53:T>N,54:G>N,55:C>N,56:A>N,57:A>N,58:G>N,59:T>N,60:A>N,61:C>N,62:G>N,63:A>N,64:A>N,65:T>N,66:A>N,67:T>N,68:G>N,69:T>N,70:C>N,71:G>N,72:C>N,73:G>N,74:A>N,75:C>N,76:C>N,77:C>N,78:C>N,79:G>N,80:C>N,81:T>N,82:A>N,83:T>N,84:T>N,85:T>N,86:A>N,87:C>N,88:G>N,89:G>N,90:G>N,91:T>N,92:G>N,93:T>N,94:G>N,95:G>N,96:A>N,97:C>N,98:T>N,99:A>N\r\n",
        "EAS20_8_6_1_2_1397/1\t-\tNODE_5121_length_770_cov_74.606491\t347\tNNNNNNNNNNNNNNNNNNNNNNNNNNNNNNNNNNNNNNNNNNNNNNNNNNNNNNNNNNNNNNNNANNCNAGNACGTCCTGGAATGAAGGCTTGGTAGTTT\t########################################################################DD?GHC;HHFHHDHHEHFBDGHIHEHHG\t0\t28:T>N,31:C>N,33:T>N,34:T>N,36:A>N,37:A>N,38:C>N,39:A>N,40:A>N,41:G>N,42:C>N,43:A>N,44:G>N,45:A>N,46:C>N,47:A>N,48:A>N,49:G>N,50:G>N,51:C>N,52:A>N,53:G>N,54:C>N,55:A>N,56:T>N,57:T>N,58:C>N,59:T>N,60:T>N,61:G>N,62:T>N,63:T>N,64:T>N,65:G>N,66:A>N,67:C>N,68:G>N,69:T>N,70:T>N,71:G>N,72:C>N,73:A>N,74:C>N,75:T>N,76:T>N,77:T>N,78:A>N,79:A>N,80:G>N,81:T>N,82:C>N,83:C>N,84:T>N,85:G>N,86:C>N,87:A>N,88:A>N,89:C>N,90:T>N,91:C>N,92:T>N,93:T>N,94:T>N,95:T>N,96:T>N,97:C>N,98:T>N,99:A>N\r\n",
        "EAS20_8_6_1_2_1155/1\t-\tNODE_1335_length_1186_cov_54.779091\t218\tNNNNNNNNNNNNNNNNNNNNNNNNNNNNNNNNNNNNNNNNNNNNNNNNNNNNNNNNNNNNNNNNANNCNCTNGCNTCTCTGCTGGTAGTAACCAGCGGCA\t###########################################################################AC@@@FFHG:-EEDHE0BAC0-2>G\t0\t25:C>N,28:T>N,31:G>N,33:T>N,34:A>N,36:A>N,37:T>N,38:T>N,39:G>N,40:G>N,41:T>N,42:C>N,43:C>N,44:G>N,45:A>N,46:A>N,47:C>N,48:G>N,49:A>N,50:C>N,51:G>N,52:C>N,53:A>N,54:T>N,55:T>N,56:A>N,57:G>N,58:C>N,59:T>N,60:T>N,61:G>N,62:A>N,63:C>N,64:A>N,65:G>N,66:G>N,67:T>N,68:A>N,69:G>N,70:C>N,71:C>N,72:A>N,73:A>N,74:A>N,75:C>N,76:G>N,77:T>N,78:T>N,79:G>N,80:C>N,81:G>N,82:A>N,83:A>N,84:G>N,85:G>N,86:T>N,87:A>N,88:T>N,89:A>N,90:T>N,91:T>N,92:A>N,93:G>N,94:C>N,95:C>N,96:A>N,97:G>N,98:C>N,99:C>N\r\n",
        "EAS20_8_6_1_2_442/1\t-\tNODE_4973_length_1180_cov_70.348305\t44\tNNNNNNNNNNNNNNNNNNNNNNNNNNNNNNNNNANNNNNNNNNNNNNNNNNNNNNNNNNNNNNNTNNTNCGNATCTTCAATCAGCTGAACAATCGTTTCA\t######################################################################D&CDDHHHHHHHHHFHHHHHHHHHHHHHHH\t0\t28:C>N,31:C>N,33:T>N,34:T>N,36:G>N,37:T>N,38:T>N,39:T>N,40:C>N,41:T>N,42:C>N,43:T>N,44:T>N,45:T>N,46:A>N,47:T>N,48:G>N,49:C>N,50:G>N,51:C>N,52:T>N,53:T>N,54:A>N,55:T>N,56:T>N,57:T>N,58:T>N,59:A>N,60:C>N,61:A>N,62:G>N,63:A>N,64:A>N,65:G>N,67:G>N,68:A>N,69:C>N,70:T>N,71:T>N,72:C>N,73:G>N,74:T>N,75:C>N,76:C>N,77:T>N,78:A>N,79:G>N,80:A>N,81:C>N,82:G>N,83:T>N,84:C>N,85:C>N,86:G>N,87:T>N,88:A>N,89:A>N,90:C>N,91:G>N,92:A>N,93:C>N,94:C>N,95:C>N,96:A>N,97:T>N,98:T>N,99:C>N\r\n"
       ]
      }
     ],
     "prompt_number": 28
    },
    {
     "cell_type": "markdown",
     "metadata": {},
     "source": [
      "k-mer counting!"
     ]
    },
    {
     "cell_type": "code",
     "collapsed": false,
     "input": [
      "!/usr/local/share/khmer/scripts/load-into-counting.py -x 2e8 -k 20 reads.kh ecoli_ref-5m.fastq"
     ],
     "language": "python",
     "metadata": {},
     "outputs": [
      {
       "output_type": "stream",
       "stream": "stdout",
       "text": [
        "\r\n",
        "PARAMETERS:\r\n",
        " - kmer size =    26 \t\t(-k)\r\n",
        " - n hashes =     4 \t\t(-N)\r\n",
        " - min hashsize = 5e+08 \t(-x)\r\n",
        "\r\n",
        "Estimated memory usage is 2e+09 bytes (n_hashes x min_hashsize)\r\n",
        "--------\r\n",
        "Saving hashtable to reads.kh\r\n",
        "Loading kmers from sequences in ['ecoli_ref-5m.fastq']\r\n",
        "making hashtable\r\n"
       ]
      },
      {
       "output_type": "stream",
       "stream": "stdout",
       "text": [
        "consuming input ecoli_ref-5m.fastq\r\n"
       ]
      },
      {
       "output_type": "stream",
       "stream": "stdout",
       "text": [
        "... consume_fasta 100000 7500000\r\n"
       ]
      },
      {
       "output_type": "stream",
       "stream": "stdout",
       "text": [
        "... consume_fasta 200000 15000000\r\n"
       ]
      },
      {
       "output_type": "stream",
       "stream": "stdout",
       "text": [
        "... consume_fasta 300000 22500000\r\n"
       ]
      },
      {
       "output_type": "stream",
       "stream": "stdout",
       "text": [
        "... consume_fasta 400000 30000000\r\n"
       ]
      },
      {
       "output_type": "stream",
       "stream": "stdout",
       "text": [
        "... consume_fasta 500000 37500000\r\n"
       ]
      },
      {
       "output_type": "stream",
       "stream": "stdout",
       "text": [
        "... consume_fasta 600000 45000000\r\n"
       ]
      },
      {
       "output_type": "stream",
       "stream": "stdout",
       "text": [
        "... consume_fasta 700000 52500000\r\n"
       ]
      },
      {
       "output_type": "stream",
       "stream": "stdout",
       "text": [
        "... consume_fasta 800000 60000000\r\n"
       ]
      },
      {
       "output_type": "stream",
       "stream": "stdout",
       "text": [
        "... consume_fasta 900000 67500000\r\n"
       ]
      },
      {
       "output_type": "stream",
       "stream": "stdout",
       "text": [
        "... consume_fasta 1000000 75000000\r\n"
       ]
      },
      {
       "output_type": "stream",
       "stream": "stdout",
       "text": [
        "... consume_fasta 1100000 82500000\r\n"
       ]
      },
      {
       "output_type": "stream",
       "stream": "stdout",
       "text": [
        "... consume_fasta 1200000 90000000\r\n"
       ]
      },
      {
       "output_type": "stream",
       "stream": "stdout",
       "text": [
        "... consume_fasta 1300000 97500000\r\n"
       ]
      },
      {
       "output_type": "stream",
       "stream": "stdout",
       "text": [
        "... consume_fasta 1400000 105000000\r\n"
       ]
      },
      {
       "output_type": "stream",
       "stream": "stdout",
       "text": [
        "... consume_fasta 1500000 112500000\r\n"
       ]
      },
      {
       "output_type": "stream",
       "stream": "stdout",
       "text": [
        "... consume_fasta 1600000 120000000\r\n"
       ]
      },
      {
       "output_type": "stream",
       "stream": "stdout",
       "text": [
        "... consume_fasta 1700000 127500000\r\n"
       ]
      },
      {
       "output_type": "stream",
       "stream": "stdout",
       "text": [
        "... consume_fasta 1800000 135000000\r\n"
       ]
      },
      {
       "output_type": "stream",
       "stream": "stdout",
       "text": [
        "... consume_fasta 1900000 142500000\r\n"
       ]
      },
      {
       "output_type": "stream",
       "stream": "stdout",
       "text": [
        "... consume_fasta 2000000 150000000\r\n"
       ]
      },
      {
       "output_type": "stream",
       "stream": "stdout",
       "text": [
        "... consume_fasta 2100000 157500000\r\n"
       ]
      },
      {
       "output_type": "stream",
       "stream": "stdout",
       "text": [
        "... consume_fasta 2200000 165000000\r\n"
       ]
      },
      {
       "output_type": "stream",
       "stream": "stdout",
       "text": [
        "... consume_fasta 2300000 172500000\r\n"
       ]
      },
      {
       "output_type": "stream",
       "stream": "stdout",
       "text": [
        "... consume_fasta 2400000 180000000\r\n"
       ]
      },
      {
       "output_type": "stream",
       "stream": "stdout",
       "text": [
        "... consume_fasta 2500000 187500000\r\n"
       ]
      },
      {
       "output_type": "stream",
       "stream": "stdout",
       "text": [
        "... consume_fasta 2600000 195000000\r\n"
       ]
      },
      {
       "output_type": "stream",
       "stream": "stdout",
       "text": [
        "... consume_fasta 2700000 202500000\r\n"
       ]
      },
      {
       "output_type": "stream",
       "stream": "stdout",
       "text": [
        "... consume_fasta 2800000 210000000\r\n"
       ]
      },
      {
       "output_type": "stream",
       "stream": "stdout",
       "text": [
        "... consume_fasta 2900000 217500000\r\n"
       ]
      },
      {
       "output_type": "stream",
       "stream": "stdout",
       "text": [
        "... consume_fasta 3000000 225000000\r\n"
       ]
      },
      {
       "output_type": "stream",
       "stream": "stdout",
       "text": [
        "... consume_fasta 3100000 232500000\r\n"
       ]
      },
      {
       "output_type": "stream",
       "stream": "stdout",
       "text": [
        "... consume_fasta 3200000 240000000\r\n"
       ]
      },
      {
       "output_type": "stream",
       "stream": "stdout",
       "text": [
        "... consume_fasta 3300000 247500000\r\n"
       ]
      },
      {
       "output_type": "stream",
       "stream": "stdout",
       "text": [
        "... consume_fasta 3400000 255000000\r\n"
       ]
      },
      {
       "output_type": "stream",
       "stream": "stdout",
       "text": [
        "... consume_fasta 3500000 262500000\r\n"
       ]
      },
      {
       "output_type": "stream",
       "stream": "stdout",
       "text": [
        "... consume_fasta 3600000 270000000\r\n"
       ]
      },
      {
       "output_type": "stream",
       "stream": "stdout",
       "text": [
        "... consume_fasta 3700000 277500000\r\n"
       ]
      },
      {
       "output_type": "stream",
       "stream": "stdout",
       "text": [
        "... consume_fasta 3800000 285000000\r\n"
       ]
      },
      {
       "output_type": "stream",
       "stream": "stdout",
       "text": [
        "... consume_fasta 3900000 292500000\r\n"
       ]
      },
      {
       "output_type": "stream",
       "stream": "stdout",
       "text": [
        "... consume_fasta 4000000 300000000\r\n"
       ]
      },
      {
       "output_type": "stream",
       "stream": "stdout",
       "text": [
        "... consume_fasta 4100000 307500000\r\n"
       ]
      },
      {
       "output_type": "stream",
       "stream": "stdout",
       "text": [
        "... consume_fasta 4200000 315000000\r\n"
       ]
      },
      {
       "output_type": "stream",
       "stream": "stdout",
       "text": [
        "... consume_fasta 4300000 322500000\r\n"
       ]
      },
      {
       "output_type": "stream",
       "stream": "stdout",
       "text": [
        "... consume_fasta 4400000 330000000\r\n"
       ]
      },
      {
       "output_type": "stream",
       "stream": "stdout",
       "text": [
        "... consume_fasta 4500000 337500000\r\n"
       ]
      },
      {
       "output_type": "stream",
       "stream": "stdout",
       "text": [
        "... consume_fasta 4600000 345000000\r\n"
       ]
      },
      {
       "output_type": "stream",
       "stream": "stdout",
       "text": [
        "saving reads.kh\r\n"
       ]
      },
      {
       "output_type": "stream",
       "stream": "stdout",
       "text": [
        "fp rate estimated to be 0.000\r\n",
        "DONE.\r\n"
       ]
      }
     ],
     "prompt_number": 29
    },
    {
     "cell_type": "code",
     "collapsed": false,
     "input": [
      "## remove!\n",
      "!/usr/local/share/khmer/scripts/abundance-dist.py reads.kh ecoli-31.fa ecoli-31.hist\n",
      "!/usr/local/share/khmer/scripts/abundance-dist.py reads.kh ecoli-33.fa ecoli-33.hist"
     ],
     "language": "python",
     "metadata": {},
     "outputs": [
      {
       "output_type": "stream",
       "stream": "stdout",
       "text": [
        "hashtable from reads.kh\r\n"
       ]
      },
      {
       "output_type": "stream",
       "stream": "stdout",
       "text": [
        "K: 26\r\n",
        "HT sizes: [500000003, 500000009, 500000041, 500000057]\r\n",
        "outputting to ecoli-31.hist\r\n",
        "ERROR: ecoli-31.hist exists; not squashing.\r\n"
       ]
      },
      {
       "output_type": "stream",
       "stream": "stdout",
       "text": [
        "hashtable from reads.kh\r\n"
       ]
      },
      {
       "output_type": "stream",
       "stream": "stdout",
       "text": [
        "K: 26\r\n",
        "HT sizes: [500000003, 500000009, 500000041, 500000057]\r\n",
        "outputting to ecoli-33.hist\r\n",
        "preparing hist...\r\n"
       ]
      }
     ],
     "prompt_number": 33
    },
    {
     "cell_type": "code",
     "collapsed": false,
     "input": [
      "# turn into function\n",
      "\n",
      "import csv\n",
      "r = csv.reader(open('ecoli-31.hist'), delimiter=' ')\n",
      "\n",
      "xx = []\n",
      "yy = []\n",
      "for count, abund, sum_abund, sum_frac in r:\n",
      "    xx.append(int(count))\n",
      "    yy.append(int(abund))\n",
      "    \n",
      "import csv\n",
      "r = csv.reader(open('ecoli-33.hist'), delimiter=' ')\n",
      "\n",
      "xx2 = []\n",
      "yy2 = []\n",
      "for count, abund, sum_abund, sum_frac in r:\n",
      "    xx2.append(int(count))\n",
      "    yy2.append(int(abund))"
     ],
     "language": "python",
     "metadata": {},
     "outputs": [],
     "prompt_number": 34
    },
    {
     "cell_type": "code",
     "collapsed": false,
     "input": [
      "plot(xx, yy)\n",
      "plot(xx2, yy2)\n",
      "axis(xmax=100)"
     ],
     "language": "python",
     "metadata": {},
     "outputs": [
      {
       "output_type": "pyout",
       "prompt_number": 40,
       "text": [
        "(0.0, 100, 0.0, 140000.0)"
       ]
      },
      {
       "output_type": "display_data",
       "png": "[encoded data removed]",
       "text": [
        "<matplotlib.figure.Figure at 0x2d1a150>"
       ]
      }
     ],
     "prompt_number": 40
    },
    {
     "cell_type": "code",
     "collapsed": false,
     "input": [
      "# what are salient points of this plot?\n",
      "# where is peak at 0?\n"
     ],
     "language": "python",
     "metadata": {},
     "outputs": [],
     "prompt_number": 36
    },
    {
     "cell_type": "code",
     "collapsed": false,
     "input": [
      "# what is the best k? work with others?"
     ],
     "language": "python",
     "metadata": {},
     "outputs": []
    },
    {
     "cell_type": "code",
     "collapsed": false,
     "input": [],
     "language": "python",
     "metadata": {},
     "outputs": [],
     "prompt_number": 41
    },
    {
     "cell_type": "code",
     "collapsed": false,
     "input": [],
     "language": "python",
     "metadata": {},
     "outputs": []
    }
   ],
   "metadata": {}
  }
 ]
}