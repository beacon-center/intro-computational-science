{
 "metadata": {
  "name": "hw-week4-primes-fixme"
 },
 "nbformat": 3,
 "nbformat_minor": 0,
 "worksheets": [
  {
   "cells": [
    {
     "cell_type": "code",
     "collapsed": false,
     "input": [
      "# explain what the below code is doing, in your own words.\n",
      "# hint: feel free to modify it and put in 'print' statements... but be sure to explain what the *original* code did.\n",
      "\n",
      "def primes(N):\n",
      "    output = [1]\n",
      "    num = 2\n",
      "    while num < N:\n",
      "        is_prime = True\n",
      "    \n",
      "        trial = output\n",
      "        for elements in trial:\n",
      "            while trial <= num:\n",
      "                if num % trial == 0:\n",
      "                    is_prime = False\n",
      "                    break\n",
      "                trial += 1\n",
      "        \n",
      "        if is_prime:\n",
      "            output.append(num)\n",
      "        num += 1\n",
      "    return output\n",
      "\n",
      "print primes(100)"
     ],
     "language": "python",
     "metadata": {},
     "outputs": [
      {
       "output_type": "stream",
       "stream": "stdout",
       "text": [
        "[1, 2, 3, 4, 5, 6, 7, 8, 9, 10, 11, 12, 13, 14, 15, 16, 17, 18, 19, 20, 21, 22, 23, 24, 25, 26, 27, 28, 29, 30, 31, 32, 33, 34, 35, 36, 37, 38, 39, 40, 41, 42, 43, 44, 45, 46, 47, 48, 49, 50, 51, 52, 53, 54, 55, 56, 57, 58, 59, 60, 61, 62, 63, 64, 65, 66, 67, 68, 69, 70, 71, 72, 73, 74, 75, 76, 77, 78, 79, 80, 81, 82, 83, 84, 85, 86, 87, 88, 89, 90, 91, 92, 93, 94, 95, 96, 97, 98, 99]\n"
       ]
      }
     ],
     "prompt_number": 11
    },
    {
     "cell_type": "code",
     "collapsed": false,
     "input": [],
     "language": "python",
     "metadata": {},
     "outputs": []
    }
   ],
   "metadata": {}
  }
 ]
}