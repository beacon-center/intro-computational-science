{
 "metadata": {
  "name": "hw-week4-penny"
 },
 "nbformat": 3,
 "nbformat_minor": 0,
 "worksheets": [
  {
   "cells": [
    {
     "cell_type": "markdown",
     "metadata": {},
     "source": [
      "# Penny needs your help!\n",
      "\n",
      "Let\u2019s introduce our protoganist, Penny. Penny is a porpoise, and she needs your help.\n",
      "\n",
      "Penny has a serious problem: her doctor has told her that she has high cholesterol, and wants to know about her diet. He\u2019s guessing that that she needs to eat less ahi and more maguro (she does love her tuna!), but needs to know how many fish she eats each day on average, as well as the different kinds of fish she eats each day. Penny, not having any hands (she\u2019s a porpoise, folks!), needs your help to run the calculation. She\u2019s given you a small data set from the last two weeks of her diet, below; but the doctor wants the numbers going back a year, so Penny wants you to write a program to do the calculation for lots of data. She\u2019s already hired an undergrad to do the data entry into a list for your test data set, so all you have to do is start from a list full o\u2019 fish, below.\n",
      "\n",
      "(Note: You might also suspect from the below list that Penny is a tad overweight. Shh, she\u2019s sensitive.)\n",
      "\n",
      "## Question 1: how many different types of fish are there in this list!?\n",
      "\n",
      "Write some Python code to calculate the number of different types of fish.\n",
      "\n",
      "## Question 2: Use a dictionary to calculate the number of times Penny has eaten each type of fish, and print out the results.\n",
      "\n",
      "## Question 3: Calculate a fat-weighted fish index\n",
      "\n",
      "This is a NIST standard calculation, but never mind; what you need to know is that salmon and ahi are high-fat and have a Fatty Index (FI) of 2; cod and sole are really lean, and have a FI of 0.5; and all the other fish have FIs of 1. What is the average FI/day of Penny\u2019s diet?"
     ]
    },
    {
     "cell_type": "code",
     "collapsed": false,
     "input": [
      "fishdiet = ['mackerel', 'salmon', 'halibut', 'mackerel', 'mackerel',\n",
      "'plaice', 'halibut', 'halibut', 'salmon', 'halibut', 'tilapia',\n",
      "'cod', 'halibut', 'mackerel', 'cod', 'salmon', 'cod', 'sole',\n",
      "'plaice', 'tilapia', 'mackerel', 'salmon', 'mackerel', 'cod',\n",
      "'mackerel', 'salmon', 'salmon', 'halibut', 'salmon', 'plaice',\n",
      "'sole', 'sole', 'ahi', 'mackerel', 'halibut', 'tilapia', 'ahi',\n",
      "'halibut', 'salmon', 'sole', 'sole', 'ahi', 'salmon',\n",
      "'halibut', 'plaice', 'char', 'sole', 'char', 'char', 'sole',\n",
      "'sole', 'sole', 'halibut', 'char', 'plaice', 'mackerel',\n",
      "'tilapia', 'halibut', 'maguro', 'maguro', 'plaice', 'maguro',\n",
      "'char', 'mackerel', 'halibut', 'maguro', 'plaice', 'maguro',\n",
      "'tilapia', 'salmon', 'mackerel', 'maguro', 'cod', 'sole',\n",
      "'mackerel', 'salmon', 'maguro', 'mackerel', 'salmon', 'ahi',\n",
      "'cod', 'maguro', 'mackerel', 'plaice', 'tilapia', 'tilapia',\n",
      "'sole', 'maguro', 'salmon', 'plaice', 'halibut', 'sole',\n",
      "'tilapia', 'salmon', 'salmon', 'sole', 'halibut', 'plaice',\n",
      "'salmon', 'cod', 'tilapia', 'ahi', 'mackerel', 'mackerel',\n",
      "'ahi', 'char', 'ahi', 'maguro', 'mackerel', 'sole', 'maguro',\n",
      "'cod', 'mackerel', 'halibut', 'sole', 'plaice', 'sole', 'cod',\n",
      "'ahi', 'halibut', 'char', 'halibut', 'cod', 'sole', 'mackerel',\n",
      "'plaice', 'sole', 'mackerel', 'tilapia', 'char', 'sole',\n",
      "'maguro', 'cod']"
     ],
     "language": "python",
     "metadata": {},
     "outputs": [],
     "prompt_number": 2
    },
    {
     "cell_type": "code",
     "collapsed": false,
     "input": [],
     "language": "python",
     "metadata": {},
     "outputs": []
    }
   ],
   "metadata": {}
  }
 ]
}