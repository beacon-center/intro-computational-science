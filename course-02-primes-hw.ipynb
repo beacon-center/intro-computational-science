{
 "metadata": {
  "name": "course-02-primes-hw"
 },
 "nbformat": 3,
 "nbformat_minor": 0,
 "worksheets": [
  {
   "cells": [
    {
     "cell_type": "code",
     "collapsed": false,
     "input": [
      "# goal: calculate all prime numbers < 100\n",
      "# subgoal: make this into a function\n",
      "# subgoal: make this into a function for arbitrary upper limits\n",
      "# subgoal: refactor this implementation to be faster and better\n",
      "#   subsubgoal: implement the square root optimization from week1\n",
      "#   subsubgoal: implement Eratosthenes' sieve\n",
      "\n",
      "num = 2\n",
      "while num < 20:\n",
      "    is_prime = True\n",
      "    \n",
      "    # all of the intelligent stuff happens HERE!\n",
      "    trial = 2\n",
      "    while trial < num:\n",
      "        if num % trial == 0:\n",
      "            is_prime = False\n",
      "            break\n",
      "        trial += 1\n",
      "        \n",
      "    if is_prime:\n",
      "        print num\n",
      "    num += 1\n",
      "    "
     ],
     "language": "python",
     "metadata": {},
     "outputs": [
      {
       "output_type": "stream",
       "stream": "stdout",
       "text": [
        "2\n",
        "3\n",
        "5\n",
        "7\n",
        "11\n",
        "13\n",
        "17\n",
        "19\n"
       ]
      }
     ],
     "prompt_number": 12
    },
    {
     "cell_type": "code",
     "collapsed": false,
     "input": [
      "# goal: calculate all prime numbers < 100\n",
      "# subgoal: make this into a function for arbitrary upper limits\n",
      "# subgoal: refactor this implementation to be faster and better\n",
      "#   subsubgoal: implement the square root optimization from week1\n",
      "#   subsubgoal: implement Eratosthenes' sieve\n",
      "\n",
      "def primes():\n",
      "    num = 2\n",
      "    while num < 20:\n",
      "        is_prime = True\n",
      "    \n",
      "        # all of the intelligent stuff happens HERE!\n",
      "        trial = 2\n",
      "        while trial < num:\n",
      "            if num % trial == 0:\n",
      "                is_prime = False\n",
      "                break\n",
      "            trial += 1\n",
      "        \n",
      "        if is_prime:\n",
      "            print num\n",
      "        num += 1\n",
      "\n",
      "primes()"
     ],
     "language": "python",
     "metadata": {},
     "outputs": [
      {
       "output_type": "stream",
       "stream": "stdout",
       "text": [
        "2\n",
        "3\n",
        "5\n",
        "7\n",
        "11\n",
        "13\n",
        "17\n",
        "19\n"
       ]
      }
     ],
     "prompt_number": 13
    },
    {
     "cell_type": "code",
     "collapsed": false,
     "input": [
      "# goal: calculate all prime numbers < 100\n",
      "# subgoal: refactor this implementation to be faster and better\n",
      "#   subsubgoal: implement the square root optimization from week1\n",
      "#   subsubgoal: implement Eratosthenes' sieve\n",
      "\n",
      "def primes(N):\n",
      "    num = 2\n",
      "    while num < N:\n",
      "        is_prime = True\n",
      "    \n",
      "        # all of the intelligent stuff happens HERE!\n",
      "        trial = 2\n",
      "        while trial < num:\n",
      "            if num % trial == 0:\n",
      "                is_prime = False\n",
      "                break\n",
      "            trial += 1\n",
      "        \n",
      "        if is_prime:\n",
      "            print num\n",
      "        num += 1\n",
      "\n",
      "primes(20)"
     ],
     "language": "python",
     "metadata": {},
     "outputs": [
      {
       "output_type": "stream",
       "stream": "stdout",
       "text": [
        "2\n",
        "3\n",
        "5\n",
        "7\n",
        "11\n",
        "13\n",
        "17\n",
        "19\n"
       ]
      }
     ],
     "prompt_number": 14
    },
    {
     "cell_type": "code",
     "collapsed": false,
     "input": [
      "# goal: calculate all prime numbers < 100\n",
      "# subgoal: refactor this implementation to be faster and better\n",
      "#   subsubgoal: implement Eratosthenes' sieve\n",
      "\n",
      "def primes(N):\n",
      "    num = 2\n",
      "    while num < N:\n",
      "        is_prime = True\n",
      "    \n",
      "        # all of the intelligent stuff happens HERE!\n",
      "        trial = 2\n",
      "        while trial**2 <= num:\n",
      "            if num % trial == 0:\n",
      "                is_prime = False\n",
      "                break\n",
      "            trial += 1\n",
      "        \n",
      "        if is_prime:\n",
      "            print num\n",
      "        num += 1\n",
      "\n",
      "primes(20)"
     ],
     "language": "python",
     "metadata": {},
     "outputs": [
      {
       "output_type": "stream",
       "stream": "stdout",
       "text": [
        "2\n",
        "3\n",
        "5\n",
        "7\n",
        "11\n",
        "13\n",
        "17\n",
        "19\n"
       ]
      }
     ],
     "prompt_number": 15
    },
    {
     "cell_type": "code",
     "collapsed": false,
     "input": [
      "# goal: calculate all prime numbers < 100\n",
      "# subgoal: return the numbers in a list instead of printing them out\n",
      "# subgoal: refactor this implementation to be faster and better\n",
      "#   subsubgoal: implement Eratosthenes' sieve\n",
      "\n",
      "def primes(N):\n",
      "    num = 2\n",
      "    while num < N:\n",
      "        is_prime = True\n",
      "    \n",
      "        # change this loop (everything between this line and 'if is_prime', below) to:\n",
      "        # set trial to each of the prime numbers you've collected so far;\n",
      "        # for each one, check to see if they can divide num\n",
      "        # if that prime number does divide num evenly,\n",
      "        # then num is not prime.\n",
      "        trial = 2\n",
      "        while trial**2 <= num:\n",
      "            if num % trial == 0:\n",
      "                is_prime = False\n",
      "                break\n",
      "            trial += 1\n",
      "        \n",
      "        if is_prime:\n",
      "            print num\n",
      "        num += 1\n",
      "\n",
      "primes(20)"
     ],
     "language": "python",
     "metadata": {},
     "outputs": []
    }
   ],
   "metadata": {}
  }
 ]
}