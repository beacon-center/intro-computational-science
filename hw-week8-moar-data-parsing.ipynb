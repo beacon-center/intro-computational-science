{
 "metadata": {
  "name": "hw-week8-moar-data-parsing"
 },
 "nbformat": 3,
 "nbformat_minor": 0,
 "worksheets": [
  {
   "cells": [
    {
     "cell_type": "markdown",
     "metadata": {},
     "source": [
      "# Writing *out* data.\n",
      "\n",
      "Something we haven't done yet is write *out* data.  We've been loading data in and manipulating it and plotting it and producing plots -- but how do we transform and/or filter it!?\n",
      "\n",
      "Let's start by communicating plots via Dropbox, so you can see a bit of file manipulation."
     ]
    },
    {
     "cell_type": "code",
     "collapsed": false,
     "input": [
      "# let's generate some fake numbers\n",
      "x = list(range(10))\n",
      "y = []\n",
      "for i in x:\n",
      "    y.append(2**i)\n",
      "    \n",
      "# now generate a reasonably pretty plot\n",
      "plot(x, y)\n",
      "plot(x, y, 'r.')\n",
      "xlabel('x')\n",
      "ylabel('$2^x$') # use LaTeX math formatting to make things look pretty.\n",
      "legend(['a line', 'points'])"
     ],
     "language": "python",
     "metadata": {},
     "outputs": [
      {
       "output_type": "pyout",
       "prompt_number": 4,
       "text": [
        "<matplotlib.legend.Legend at 0x30bf910>"
       ]
      },
      {
       "output_type": "display_data",
       "png": "[encoded data removed]",
       "text": [
        "<matplotlib.figure.Figure at 0x30ca950>"
       ]
      }
     ],
     "prompt_number": 4
    },
    {
     "cell_type": "markdown",
     "metadata": {},
     "source": [
      "## Saving this plot to PDF.\n",
      "\n",
      "OK, it's nice and all to see the plot in browser, but it's not exactly publication quality, is it?  How do we get ahold of the actual PDF file?\n",
      "\n",
      "One basic problem is this: we're working on a remote UNIX system, and we don't have direct access to the files.  That's what things like Dropbox are for -- communicating files around.  There are *tons* of other options, but I think Dropbox is the easiest.  Your Dropbox folder is in the directory '/root/Dropbox', which can be understood like so:\n",
      "\n",
      "1. the folder (or directory) Dropbox is in the directory 'root', which is named for the default user on UNIX systems.\n",
      "2. the folder 'root' is in the folder '/'.\n",
      "3. the folder '/' is the \"root\" of your filesystem tree, as in the directory from which all other directories descend. It is not to be confused with the user 'root'.  Confusing, I know!\n",
      "\n",
      "The second (but easier) thing is this -- how do we actually generate a PDF file, anyway?  Easy: use 'savefig'."
     ]
    },
    {
     "cell_type": "code",
     "collapsed": false,
     "input": [
      "# now generate a reasonably pretty plot\n",
      "plot(x, y)\n",
      "plot(x, y, 'r.')\n",
      "xlabel('x')\n",
      "ylabel('$2^x$') # use LaTeX math formatting to make things look pretty.\n",
      "legend(['a line', 'points'])\n",
      "\n",
      "savefig('/root/Dropbox/week8-fig.pdf')"
     ],
     "language": "python",
     "metadata": {},
     "outputs": [
      {
       "output_type": "display_data",
       "png": "[encoded data removed]",
       "text": [
        "<matplotlib.figure.Figure at 0x38e8f10>"
       ]
      }
     ],
     "prompt_number": 6
    },
    {
     "cell_type": "markdown",
     "metadata": {},
     "source": [
      "This takes the figure that is output and saves it to the file /root/Dropbox/week8-fig.pdf.  (You should be able to see it on your laptop now, if you're running Dropbox.)\n",
      "\n",
      "You can specify the file type by changing the extension -- e.g. change .pdf to .png, above."
     ]
    },
    {
     "cell_type": "markdown",
     "metadata": {},
     "source": [
      "## Writing out CSV files.\n",
      "\n",
      "Remember week7's parsing?"
     ]
    },
    {
     "cell_type": "code",
     "collapsed": false,
     "input": [
      "import csv\n",
      "\n",
      "# let's look at the first 100 characters of the file\n",
      "filename = '/usr/local/notebooks/data/ex1.dat'\n",
      "\n",
      "# open the file\n",
      "fp = open(filename)\n",
      "\n",
      "\n",
      "# pass the open file to 'csv.reader', but with a new argument: 'delimiter'\n",
      "r = csv.reader(fp, delimiter='|')\n",
      "\n",
      "# now, read in all the rows and print them.\n",
      "for row in r:\n",
      "    print row\n",
      "    "
     ],
     "language": "python",
     "metadata": {},
     "outputs": [
      {
       "output_type": "stream",
       "stream": "stdout",
       "text": [
        "['tim', 'm', '15', 'blue']\n",
        "['jane', 'f', '16', 'red']\n",
        "['john', 'm', '14', 'red']\n",
        "['ringo', 'm', '15', 'black']\n",
        "['diane', 'f', '14', 'green']\n"
       ]
      }
     ],
     "prompt_number": 7
    },
    {
     "cell_type": "markdown",
     "metadata": {},
     "source": [
      "What if we wanted to output this to a file instead?  Easy -- open a file, and use a CSV 'writer'.  By defaut this will put in a ',', but you can use any other delimiter you want by specifying 'delimiter', just as in the csv reader."
     ]
    },
    {
     "cell_type": "code",
     "collapsed": false,
     "input": [
      "# open the input file\n",
      "fp = open(filename)\n",
      "\n",
      "# pass the open file to 'csv.reader', but with a new argument: 'delimiter'\n",
      "r = csv.reader(fp, delimiter='|')\n",
      "\n",
      "## create a new file using 'open' with 'w':\n",
      "outfp = open('/root/Dropbox/week8-data1.csv', 'w')\n",
      "\n",
      "## create a CSV writer:\n",
      "w = csv.writer(outfp)\n",
      "\n",
      "# now, read in all the rows and print them out, and also write them out to the output file.\n",
      "for row in r:\n",
      "    print row\n",
      "    w.writerow(row)\n",
      "    \n",
      "# and now, important, *close* the output file to write all the changes out.\n",
      "outfp.close()"
     ],
     "language": "python",
     "metadata": {},
     "outputs": [
      {
       "output_type": "stream",
       "stream": "stdout",
       "text": [
        "['tim', 'm', '15', 'blue']\n",
        "['jane', 'f', '16', 'red']\n",
        "['john', 'm', '14', 'red']\n",
        "['ringo', 'm', '15', 'black']\n",
        "['diane', 'f', '14', 'green']\n"
       ]
      }
     ],
     "prompt_number": 9
    },
    {
     "cell_type": "code",
     "collapsed": false,
     "input": [
      "# Did this work? Take a look at the first ~100 char of the new file\n",
      "print open('/root/Dropbox/week8-data1.csv').read(100)"
     ],
     "language": "python",
     "metadata": {},
     "outputs": [
      {
       "output_type": "stream",
       "stream": "stdout",
       "text": [
        "tim,m,15,blue\r\n",
        "jane,f,16,red\r\n",
        "john,m,14,red\r\n",
        "ringo,m,15,black\r\n",
        "diane,f,14,green\r\n",
        "\n"
       ]
      }
     ],
     "prompt_number": 11
    },
    {
     "cell_type": "markdown",
     "metadata": {},
     "source": [
      "Great! You've converted this file from one with | as a delimiter to one with , as a delimiter.  As a bonus you can open this file directly in Excel, by the way...\n",
      "\n",
      "A few notes --\n",
      "\n",
      "1. If you want to use something other than , as a field separator, pass in a new delimiter to 'csv.writer' just as you would pass it in to 'csv.reader', above.\n",
      "2. 'row', above, is just a list.  You can reorder the list and output that newly reordered list pretty easily.  Just do something like this::\n",
      "\n",
      "         name, gender, age, color = row\n",
      "         newrow = [ gender, age, name, color ]\n",
      "\n",
      "and then write out the new row.\n",
      "\n",
      "Let's try it -- \n",
      "\n",
      "### Homework questions a and b.\n",
      "\n",
      "a. Write code to transform ex2.dat (which uses tabs as a field separator) into '/tmp/ex2.csv' (using commas)\n",
      "\n",
      "b. Write additional code to transform /tmp/ex2.csv into '/tmp/ex2-reordered.csv', such that the new columns are color, gender, age, name."
     ]
    },
    {
     "cell_type": "markdown",
     "metadata": {},
     "source": [
      "## "
     ]
    }
   ],
   "metadata": {}
  }
 ]
}