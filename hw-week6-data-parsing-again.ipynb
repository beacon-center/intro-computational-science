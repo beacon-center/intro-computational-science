{
 "metadata": {
  "name": "hw-week6-data-parsing-again"
 },
 "nbformat": 3,
 "nbformat_minor": 0,
 "worksheets": [
  {
   "cells": [
    {
     "cell_type": "markdown",
     "metadata": {},
     "source": [
      "## Loading in data with different delimiters\n",
      "\n",
      "Suppose we have a file that contains data that we're interested in, but we don't know anything about the file.  What can we do?"
     ]
    },
    {
     "cell_type": "code",
     "collapsed": false,
     "input": [
      "import csv\n",
      "\n",
      "# let's look at the first 100 characters of the file\n",
      "filename = '/usr/local/notebooks/data/ex1.dat'\n",
      "\n",
      "# open the file\n",
      "fp = open(filename)\n",
      "\n",
      "# ask for the first 100 characters in the file\n",
      "beginning = fp.read(100)\n",
      "\n",
      "# print 'em out.\n",
      "print beginning"
     ],
     "language": "python",
     "metadata": {},
     "outputs": [
      {
       "output_type": "stream",
       "stream": "stdout",
       "text": [
        "tim|m|15|blue\r\n",
        "jane|f|16|red\r\n",
        "john|m|14|red\r\n",
        "ringo|m|15|black\r\n",
        "diane|f|14|green\r\n",
        "\n"
       ]
      }
     ],
     "prompt_number": 1
    },
    {
     "cell_type": "code",
     "collapsed": false,
     "input": [
      "# ok, so the file contains data separated by the '|' character.  How do we tell the csv module to load that in?\n",
      "# easy -- we specify a field delimiter:\n",
      "\n",
      "# open the file\n",
      "fp = open(filename)\n",
      "\n",
      "# pass the open file to 'csv.reader', but with a new argument: 'delimiter'\n",
      "r = csv.reader(fp, delimiter='|')\n",
      "\n",
      "# now, read in all the rows and print them.\n",
      "for row in r:\n",
      "    print row\n",
      "    "
     ],
     "language": "python",
     "metadata": {},
     "outputs": [
      {
       "output_type": "stream",
       "stream": "stdout",
       "text": [
        "['tim', 'm', '15', 'blue']\n",
        "['jane', 'f', '16', 'red']\n",
        "['john', 'm', '14', 'red']\n",
        "['ringo', 'm', '15', 'black']\n",
        "['diane', 'f', '14', 'green']\n"
       ]
      }
     ],
     "prompt_number": 2
    },
    {
     "cell_type": "code",
     "collapsed": false,
     "input": [
      "# so, you can see that it read in the data and split the data in the file into columns based on the delimiter '|'.\n",
      "# now, let's put it in a list.\n",
      "\n",
      "# open the file\n",
      "fp = open(filename)\n",
      "\n",
      "# pass the open file to 'csv.reader'\n",
      "r = csv.reader(fp, delimiter='|')\n",
      "\n",
      "# create an empty list to hold the rows\n",
      "rowlist = []\n",
      "\n",
      "# now, read in all the rows and append each one to the list.\n",
      "for row in r:\n",
      "    rowlist.append(row)\n",
      "    \n",
      "# done!\n",
      "print rowlist"
     ],
     "language": "python",
     "metadata": {},
     "outputs": [
      {
       "output_type": "stream",
       "stream": "stdout",
       "text": [
        "[['tim', 'm', '15', 'blue'], ['jane', 'f', '16', 'red'], ['john', 'm', '14', 'red'], ['ringo', 'm', '15', 'black'], ['diane', 'f', '14', 'green']]\n"
       ]
      }
     ],
     "prompt_number": 3
    },
    {
     "cell_type": "code",
     "collapsed": false,
     "input": [
      "# now we can iterate across this list and do various things, like pick out all the women.\n",
      "for name, gender, age, color in rowlist:\n",
      "    if gender == 'f':\n",
      "        print name, \"is a woman\""
     ],
     "language": "python",
     "metadata": {},
     "outputs": [
      {
       "output_type": "stream",
       "stream": "stdout",
       "text": [
        "jane is a woman\n",
        "diane is a woman\n"
       ]
      }
     ],
     "prompt_number": 4
    },
    {
     "cell_type": "markdown",
     "metadata": {},
     "source": [
      "## Problem 1: write code to print out the names of all of the men in the 'ex2.dat' file, below.\n"
     ]
    },
    {
     "cell_type": "code",
     "collapsed": false,
     "input": [
      "# let's look at the first 100 characters of a new file\n",
      "filename2 = '/usr/local/notebooks/data/ex2.dat'\n",
      " \n"
     ],
     "language": "python",
     "metadata": {},
     "outputs": [],
     "prompt_number": 5
    },
    {
     "cell_type": "markdown",
     "metadata": {},
     "source": [
      "## Problem 2: write code to print out the names of all of the males age 25 and below in the 'names.csv' file\n",
      "\n",
      "Hint: the delimiter character is '\\t' for this file."
     ]
    },
    {
     "cell_type": "code",
     "collapsed": false,
     "input": [
      "filename3 = '/usr/local/notebooks/data/names.csv'"
     ],
     "language": "python",
     "metadata": {},
     "outputs": [],
     "prompt_number": 6
    },
    {
     "cell_type": "markdown",
     "metadata": {},
     "source": [
      "## "
     ]
    }
   ],
   "metadata": {}
  }
 ]
}