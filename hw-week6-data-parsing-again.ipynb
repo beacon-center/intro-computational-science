{
 "metadata": {
  "name": "hw-week6-data-parsing-again"
 },
 "nbformat": 3,
 "nbformat_minor": 0,
 "worksheets": [
  {
   "cells": [
    {
     "cell_type": "code",
     "collapsed": false,
     "input": [
      "asdf"
     ],
     "language": "python",
     "metadata": {},
     "outputs": []
    }
   ],
   "metadata": {}
  }
 ]
}