{
 "metadata": {
  "name": "hw-week6-fake-genome"
 },
 "nbformat": 3,
 "nbformat_minor": 0,
 "worksheets": [
  {
   "cells": [
    {
     "cell_type": "markdown",
     "metadata": {},
     "source": [
      "## Making a fake genome\n",
      "\n",
      "For class, we've been working with a bunch of reads from the E. coli genome for a week or so.  But the E. coli genome is annoyingly large to play with, and you need lots of reads to get good coverage for assembly, so that's even more annoying.\n",
      "\n",
      "Let's make a simple simulated genome, at random, to play with."
     ]
    },
    {
     "cell_type": "code",
     "collapsed": false,
     "input": [
      "import random\n",
      "import string\n",
      "\n",
      "SEED=0                 # set SEED to a number between 1 and 9.\n",
      "random.seed(SEED)\n",
      "\n",
      "genome = [\"A\"] * 2500 + [\"C\"] * 2500 + [\"G\"] * 2500 + [\"T\"] * 2500\n",
      "\n",
      "# 'genome' is now a list with 10,000 As, Cs, Gs, and Ts in it.  Randomize, by shuffling the list:\n",
      "\n",
      "random.shuffle(genome)\n",
      "\n",
      "# Now that we've shuffled the order of nucleotides in 'genome', make it into a string:\n",
      "\n",
      "genome = string.join(genome, \"\")\n"
     ],
     "language": "python",
     "metadata": {},
     "outputs": [],
     "prompt_number": 5
    },
    {
     "cell_type": "code",
     "collapsed": false,
     "input": [
      "# genome is now a 10k long string.  let's save it to a file.\n",
      "outfp = open('/mnt/fake-genome.fa', 'w')\n",
      "outfp.write(genome)\n",
      "outfp.close()"
     ],
     "language": "python",
     "metadata": {},
     "outputs": [],
     "prompt_number": 7
    },
    {
     "cell_type": "code",
     "collapsed": false,
     "input": [
      "# look at that file using the shell command 'ls': exactly 10k characters!\n",
      "!ls -l /mnt/fake-genome.fa"
     ],
     "language": "python",
     "metadata": {},
     "outputs": [
      {
       "output_type": "stream",
       "stream": "stdout",
       "text": [
        "-rw-r--r-- 1 root root 10000 2012-10-15 02:45 /mnt/fake-genome.fa\r\n"
       ]
      }
     ],
     "prompt_number": 8
    },
    {
     "cell_type": "markdown",
     "metadata": {},
     "source": [
      "## Sequencing a fake genome\n",
      "\n",
      "OK, so we've got a fake genome.  Let's make some fake reads, of length 100, to a coverage of 100x."
     ]
    },
    {
     "cell_type": "code",
     "collapsed": false,
     "input": [
      "# first, make a function that returns a random read from the genome (we'll skip the reverse complement stuff for now)\n",
      "def make_read(genome):\n",
      "    READLEN=100\n",
      "    \n",
      "    # pick a random starting position between 0 and the length of the genome, minus the read length\n",
      "    pos = random.randint(0, len(genome) - READLEN) \n",
      "    \n",
      "    # extract the read sequence\n",
      "    read = genome[pos:pos + READLEN]\n",
      "    \n",
      "    # return!\n",
      "    return read\n"
     ],
     "language": "python",
     "metadata": {},
     "outputs": [
      {
       "output_type": "stream",
       "stream": "stdout",
       "text": [
        "AGCTTCGTTACGGCGGTCCCCCATAGAAGGTGCGCCCACGCCAGGAGTGGTCCACGATTCGCGTTATAAATGGTCGGAGAATTAACAGCCTTCGGTCACT\n",
        "TTAAAGACACAGGTACAAGAAAACTAAACCACTGGTCCAAGCACGTTTTGAGGGTCACTTTTTGCTGGCTGTGATCGAAGTATAACGGCTGCTGGGTTAA\n"
       ]
      }
     ],
     "prompt_number": 13
    },
    {
     "cell_type": "code",
     "collapsed": false,
     "input": [
      "# ok, next, we want to put errors in the reads.  Let's just hardcode the error rate to be 1 in 100.\n",
      "# note -- an error rate of 1 in 100 means we *expect* approximately 1 error every 100 bp, but it doesn't guarantee 1 error/read!\n",
      "\n",
      "def make_substitution_error(read):\n",
      "    for i in range(len(read)):\n",
      "        if random.randint(1, 100) == 100:\n",
      "            new_nt = random.choice(\"acgt\")    # make it lowercase for easy identification\n",
      "            read = read[:i] + new_nt + read[i + 1:]\n",
      "    return read\n",
      "\n"
     ],
     "language": "python",
     "metadata": {},
     "outputs": [
      {
       "output_type": "stream",
       "stream": "stdout",
       "text": [
        "CCTGAATAGGAGGAACGTGCTCCGTTAGGCGTTTGGTCATCGTCTCCGGCGTCAGACTATTCCCTTTGGAGGTGTCGCGGGTGTACTTAACGGGGTACAA\n"
       ]
      }
     ],
     "prompt_number": 21
    },
    {
     "cell_type": "code",
     "collapsed": false,
     "input": [
      "# now that we've got these functions defined, let's try 'em out:\n",
      "r = make_read(genome)\n",
      "r2 = make_substitution_error(r)\n",
      "print r2"
     ],
     "language": "python",
     "metadata": {},
     "outputs": [
      {
       "output_type": "stream",
       "stream": "stdout",
       "text": [
        "TAGTGGTGCCTTGGCACGAATGGGCGTTATTaCACTTCCCTGGTGAACGACACTAAGCCTACCCGAGAAATATGGGaCATGAGTCCTTAAAGACACAGGT\n"
       ]
      }
     ],
     "prompt_number": 22
    },
    {
     "cell_type": "code",
     "collapsed": false,
     "input": [
      "# some quick calculations: genome size is 10k, 100x coverage would be 100 x 10k bases, at 100 bp per read it would be 10k reads total.\n",
      "# so, make a fake read sequencing data set containing 10k reads.\n",
      "\n",
      "outfp2 = open('/mnt/fake-reads.fa', 'w')\n",
      "for i in range(10000):\n",
      "    read = make_read(genome)\n",
      "    read = make_substitution_error(read)\n",
      "    outfp2.write('>read%d\\n%s\\n' % (i, read))\n",
      "outfp2.close()"
     ],
     "language": "python",
     "metadata": {},
     "outputs": [],
     "prompt_number": 24
    },
    {
     "cell_type": "markdown",
     "metadata": {},
     "source": [
      "## OK, now let's look at the k-mer abundance distribution in the read data set.\n",
      "\n",
      "Note, for this, you'll need to have installed khmer and screed as per the homework instructions."
     ]
    },
    {
     "cell_type": "code",
     "collapsed": false,
     "input": [
      "cd /mnt"
     ],
     "language": "python",
     "metadata": {},
     "outputs": [
      {
       "output_type": "stream",
       "stream": "stdout",
       "text": [
        "/mnt\n"
       ]
      }
     ],
     "prompt_number": 25
    },
    {
     "cell_type": "code",
     "collapsed": false,
     "input": [
      "!/usr/local/share/khmer/scripts/load-into-counting.py -x 1e8 fake-reads.kh fake-reads.fa"
     ],
     "language": "python",
     "metadata": {},
     "outputs": [
      {
       "output_type": "stream",
       "stream": "stdout",
       "text": [
        "\r\n",
        "PARAMETERS:\r\n",
        " - kmer size =    32 \t\t(-k)\r\n",
        " - n hashes =     4 \t\t(-N)\r\n",
        " - min hashsize = 1e+08 \t(-x)\r\n",
        "\r\n",
        "Estimated memory usage is 4e+08 bytes (n_hashes x min_hashsize)\r\n",
        "--------\r\n",
        "Saving hashtable to fake-reads.kh\r\n",
        "Loading kmers from sequences in ['fake-reads.fa']\r\n",
        "making hashtable\r\n"
       ]
      },
      {
       "output_type": "stream",
       "stream": "stdout",
       "text": [
        "consuming input fake-reads.fa\r\n"
       ]
      },
      {
       "output_type": "stream",
       "stream": "stdout",
       "text": [
        "saving fake-reads.kh\r\n"
       ]
      },
      {
       "output_type": "stream",
       "stream": "stdout",
       "text": [
        "fp rate estimated to be 0.000\r\n",
        "DONE.\r\n"
       ]
      }
     ],
     "prompt_number": 26
    },
    {
     "cell_type": "code",
     "collapsed": false,
     "input": [
      "ls"
     ],
     "language": "python",
     "metadata": {},
     "outputs": [
      {
       "output_type": "stream",
       "stream": "stdout",
       "text": [
        "\u001b[0m\u001b[01;34mecoli.33\u001b[0m/           fake-reads.fa       \u001b[01;34mlost+found\u001b[0m/\r\n",
        "ecoli_ref-5m.fastq  fake-reads.kh       \u001b[01;34mvelvet_1.2.08\u001b[0m/\r\n",
        "fake-genome.fa      fake-reads.kh.info  velvet_1.2.08.tgz\r\n"
       ]
      }
     ],
     "prompt_number": 27
    },
    {
     "cell_type": "code",
     "collapsed": false,
     "input": [
      "!/usr/local/share/khmer/scripts/abundance-dist.py fake-reads.kh fake-reads.fa fake-reads.hist\n"
     ],
     "language": "python",
     "metadata": {},
     "outputs": [
      {
       "output_type": "stream",
       "stream": "stdout",
       "text": [
        "hashtable from fake-reads.kh\r\n"
       ]
      },
      {
       "output_type": "stream",
       "stream": "stdout",
       "text": [
        "K: 32\r\n",
        "HT sizes: [100000007, 100000037, 100000039, 100000049]\r\n",
        "outputting to fake-reads.hist\r\n",
        "preparing hist...\r\n"
       ]
      }
     ],
     "prompt_number": 29
    },
    {
     "cell_type": "code",
     "collapsed": false,
     "input": [
      "!cat fake-reads.hist"
     ],
     "language": "python",
     "metadata": {},
     "outputs": [
      {
       "output_type": "stream",
       "stream": "stdout",
       "text": [
        "0 0 0 0.0\r\n",
        "1 129212 129212 0.874\r\n",
        "2 8222 137434 0.93\r\n",
        "3 362 137796 0.933\r\n",
        "4 0 137796 0.933\r\n",
        "5 3 137799 0.933\r\n",
        "6 6 137805 0.933\r\n",
        "7 1 137806 0.933\r\n",
        "8 3 137809 0.933\r\n",
        "9 0 137809 0.933\r\n",
        "10 2 137811 0.933\r\n",
        "11 6 137817 0.933\r\n",
        "12 2 137819 0.933\r\n",
        "13 5 137824 0.933\r\n",
        "14 1 137825 0.933\r\n",
        "15 1 137826 0.933\r\n",
        "16 4 137830 0.933\r\n",
        "17 1 137831 0.933\r\n",
        "18 3 137834 0.933\r\n",
        "19 3 137837 0.933\r\n",
        "20 5 137842 0.933\r\n",
        "21 1 137843 0.933\r\n",
        "22 3 137846 0.933\r\n",
        "23 3 137849 0.933\r\n",
        "24 2 137851 0.933\r\n",
        "25 1 137852 0.933\r\n",
        "26 5 137857 0.933\r\n",
        "27 0 137857 0.933\r\n",
        "28 4 137861 0.933\r\n",
        "29 8 137869 0.933\r\n",
        "30 11 137880 0.933\r\n",
        "31 12 137892 0.933\r\n",
        "32 7 137899 0.933\r\n",
        "33 8 137907 0.933\r\n",
        "34 6 137913 0.933\r\n",
        "35 17 137930 0.933\r\n",
        "36 14 137944 0.934\r\n",
        "37 29 137973 0.934\r\n",
        "38 37 138010 0.934\r\n",
        "39 41 138051 0.934\r\n",
        "40 62 138113 0.935\r\n",
        "41 98 138211 0.935\r\n",
        "42 150 138361 0.936\r\n",
        "43 162 138523 0.937\r\n",
        "44 245 138768 0.939\r\n",
        "45 250 139018 0.941\r\n",
        "46 326 139344 0.943\r\n",
        "47 366 139710 0.946\r\n",
        "48 402 140112 0.948\r\n",
        "49 429 140541 0.951\r\n",
        "50 413 140954 0.954\r\n",
        "51 405 141359 0.957\r\n",
        "52 428 141787 0.96\r\n",
        "53 502 142289 0.963\r\n",
        "54 458 142747 0.966\r\n",
        "55 487 143234 0.969\r\n",
        "56 446 143680 0.972\r\n",
        "57 440 144120 0.975\r\n",
        "58 465 144585 0.979\r\n",
        "59 447 145032 0.982\r\n",
        "60 363 145395 0.984\r\n",
        "61 390 145785 0.987\r\n",
        "62 319 146104 0.989\r\n",
        "63 273 146377 0.991\r\n",
        "64 244 146621 0.992\r\n",
        "65 224 146845 0.994\r\n",
        "66 170 147015 0.995\r\n",
        "67 154 147169 0.996\r\n",
        "68 147 147316 0.997\r\n",
        "69 121 147437 0.998\r\n",
        "70 96 147533 0.998\r\n",
        "71 59 147592 0.999\r\n",
        "72 48 147640 0.999\r\n",
        "73 33 147673 0.999\r\n",
        "74 17 147690 1.0\r\n",
        "75 19 147709 1.0\r\n",
        "76 12 147721 1.0\r\n",
        "77 6 147727 1.0\r\n",
        "78 11 147738 1.0\r\n",
        "79 6 147744 1.0\r\n",
        "80 3 147747 1.0\r\n",
        "81 0 147747 1.0\r\n",
        "82 3 147750 1.0\r\n",
        "83 3 147753 1.0\r\n",
        "84 3 147756 1.0\r\n",
        "85 1 147757 1.0\r\n",
        "86 1 147758 1.0\r\n",
        "87 1 147759 1.0\r\n"
       ]
      }
     ],
     "prompt_number": 30
    },
    {
     "cell_type": "code",
     "collapsed": false,
     "input": [
      "import csv\n",
      "r = csv.reader(open('fake-reads.hist'), delimiter=' ')\n",
      "\n",
      "xx = []\n",
      "yy = []\n",
      "for count, abund, sum_abund, sum_frac in r:\n",
      "    xx.append(int(count))\n",
      "    yy.append(int(abund))"
     ],
     "language": "python",
     "metadata": {},
     "outputs": [],
     "prompt_number": 32
    },
    {
     "cell_type": "code",
     "collapsed": false,
     "input": [
      "plot(xx, yy)"
     ],
     "language": "python",
     "metadata": {},
     "outputs": [
      {
       "output_type": "pyout",
       "prompt_number": 33,
       "text": [
        "[<matplotlib.lines.Line2D at 0x7f4e0c092c90>]"
       ]
      },
      {
       "output_type": "display_data",
       "png": "[encoded data removed]",
       "text": [
        "<matplotlib.figure.Figure at 0x33ac250>"
       ]
      }
     ],
     "prompt_number": 33
    },
    {
     "cell_type": "code",
     "collapsed": false,
     "input": [
      "plot(xx, yy)\n",
      "axis(ymax=600)"
     ],
     "language": "python",
     "metadata": {},
     "outputs": [
      {
       "output_type": "pyout",
       "prompt_number": 36,
       "text": [
        "(0.0, 90.0, 0.0, 600)"
       ]
      },
      {
       "output_type": "display_data",
       "png": "[encoded data removed]",
       "text": [
        "<matplotlib.figure.Figure at 0x7f4e0c0b10d0>"
       ]
      }
     ],
     "prompt_number": 36
    },
    {
     "cell_type": "markdown",
     "metadata": {},
     "source": [
      "Questions --\n",
      "\n",
      "qualitatively, how does the curve shift with larger k or smaller k?\n",
      "qualitiatively, how does the mean of the bump shift with higher or lower coverage\n",
      "qualitatively, how does the mean of the bump shift with higher or lower error rate?\n",
      "\n",
      "Show with graphs."
     ]
    },
    {
     "cell_type": "markdown",
     "metadata": {},
     "source": [
      "More questions -- are all the k-mers in the foo?\n"
     ]
    },
    {
     "cell_type": "markdown",
     "metadata": {},
     "source": [
      "And yet more questions -- do the same with contigs.fa and the E. coli data set"
     ]
    },
    {
     "cell_type": "code",
     "collapsed": false,
     "input": [],
     "language": "python",
     "metadata": {},
     "outputs": []
    }
   ],
   "metadata": {}
  }
 ]
}