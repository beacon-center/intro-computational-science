{
 "metadata": {
  "name": "hw-week6-fake-genome"
 },
 "nbformat": 3,
 "nbformat_minor": 0,
 "worksheets": [
  {
   "cells": [
    {
     "cell_type": "markdown",
     "metadata": {},
     "source": [
      "## Making a fake genome\n",
      "\n",
      "For class, we've been working with a bunch of reads from the E. coli genome for a week or so.  But the E. coli genome is annoyingly large to play with, and you need lots of reads to get good coverage for assembly, so that's even more annoying.\n",
      "\n",
      "Let's make a simple simulated genome, at random, to play with."
     ]
    },
    {
     "cell_type": "code",
     "collapsed": false,
     "input": [
      "import random\n",
      "import string\n",
      "\n",
      "SEED=0                 # set SEED to a number between 1 and 9.\n",
      "random.seed(SEED)\n",
      "\n",
      "genome = [\"A\"] * 2500 + [\"C\"] * 2500 + [\"G\"] * 2500 + [\"T\"] * 2500\n",
      "\n",
      "# 'genome' is now a list with 10,000 As, Cs, Gs, and Ts in it.  Randomize, by shuffling the list:\n",
      "\n",
      "random.shuffle(genome)\n",
      "\n",
      "# Now that we've shuffled the order of nucleotides in 'genome', make it into a string:\n",
      "\n",
      "genome = string.join(genome, \"\")\n"
     ],
     "language": "python",
     "metadata": {},
     "outputs": [],
     "prompt_number": 1
    },
    {
     "cell_type": "code",
     "collapsed": false,
     "input": [
      "# genome is now a 10k long string.  let's save it to a file.\n",
      "outfp = open('/mnt/fake-genome.fa', 'w')\n",
      "outfp.write(genome)\n",
      "outfp.close()"
     ],
     "language": "python",
     "metadata": {},
     "outputs": [],
     "prompt_number": 2
    },
    {
     "cell_type": "code",
     "collapsed": false,
     "input": [
      "# look at that file using the shell command 'ls': exactly 10k characters!\n",
      "!ls -l /mnt/fake-genome.fa"
     ],
     "language": "python",
     "metadata": {},
     "outputs": [
      {
       "output_type": "stream",
       "stream": "stdout",
       "text": [
        "-rw-r--r-- 1 root root 10000 2012-10-16 01:34 /mnt/fake-genome.fa\r\n"
       ]
      }
     ],
     "prompt_number": 3
    },
    {
     "cell_type": "markdown",
     "metadata": {},
     "source": [
      "## Sequencing a fake genome\n",
      "\n",
      "OK, so we've got a fake genome.  Let's make some fake reads, of length 100, to a coverage of 100x."
     ]
    },
    {
     "cell_type": "code",
     "collapsed": false,
     "input": [
      "# first, make a function that returns a random read from the genome (we'll skip the reverse complement stuff for now)\n",
      "def make_read(genome):\n",
      "    READLEN=100\n",
      "    \n",
      "    # pick a random starting position between 0 and the length of the genome, minus the read length\n",
      "    pos = random.randint(0, len(genome) - READLEN) \n",
      "    \n",
      "    # extract the read sequence\n",
      "    read = genome[pos:pos + READLEN]\n",
      "    \n",
      "    # return!\n",
      "    return read\n"
     ],
     "language": "python",
     "metadata": {},
     "outputs": [],
     "prompt_number": 4
    },
    {
     "cell_type": "code",
     "collapsed": false,
     "input": [
      "# ok, next, we want to put errors in the reads.  Let's just hardcode the error rate to be 1 in 100.\n",
      "# note -- an error rate of 1 in 100 means we *expect* approximately 1 error every 100 bp, but it doesn't guarantee 1 error/read!\n",
      "\n",
      "# the error rate is set by the random.randint function call, below -- random.randint returns a number between\n",
      "# the first and second parameter, inclusive.  For a 10% error rate you could use 1, 10.\n",
      "\n",
      "def make_substitution_error(read):\n",
      "    for i in range(len(read)):\n",
      "        if random.randint(1, 100) == 1:\n",
      "            new_nt = random.choice(\"acgt\")    # make it lowercase for easy identification\n",
      "            read = read[:i] + new_nt + read[i + 1:]\n",
      "    return read\n",
      "\n"
     ],
     "language": "python",
     "metadata": {},
     "outputs": [],
     "prompt_number": 5
    },
    {
     "cell_type": "code",
     "collapsed": false,
     "input": [
      "# now that we've got these functions defined, let's try 'em out:\n",
      "r = make_read(genome)\n",
      "r2 = make_substitution_error(r)\n",
      "print r2"
     ],
     "language": "python",
     "metadata": {},
     "outputs": [
      {
       "output_type": "stream",
       "stream": "stdout",
       "text": [
        "TAATTACCAGAAGAATCTATATATTCAGTGCTGGGGCTGCTTAGTCATCAACGTTGCAATGGATCACAGGATgGCTGAAAACGCGGGTTTTCACCAACTT\n"
       ]
      }
     ],
     "prompt_number": 6
    },
    {
     "cell_type": "code",
     "collapsed": false,
     "input": [
      "# some quick calculations: genome size is 10k, 100x coverage would be 100 x 10k bases, at 100 bp per read it would be 10k reads total.\n",
      "# so, make a fake read sequencing data set containing 10k reads.\n",
      "\n",
      "# here, coverage is set by the number of reads (10,000)\n",
      "\n",
      "outfp2 = open('/mnt/fake-reads.fa', 'w')\n",
      "for i in range(10000):\n",
      "    read = make_read(genome)\n",
      "    read = make_substitution_error(read)\n",
      "    outfp2.write('>read%d\\n%s\\n' % (i, read))\n",
      "outfp2.close()"
     ],
     "language": "python",
     "metadata": {},
     "outputs": [],
     "prompt_number": 7
    },
    {
     "cell_type": "markdown",
     "metadata": {},
     "source": [
      "## OK, now let's look at the k-mer abundance distribution in the read data set.\n",
      "\n",
      "Note, for this, you'll need to have installed khmer and screed as per the homework instructions.\n",
      "\n",
      "First, go to the /mnt working directory."
     ]
    },
    {
     "cell_type": "code",
     "collapsed": false,
     "input": [
      "cd /mnt"
     ],
     "language": "python",
     "metadata": {},
     "outputs": [
      {
       "output_type": "stream",
       "stream": "stdout",
       "text": [
        "/mnt\n"
       ]
      }
     ],
     "prompt_number": 8
    },
    {
     "cell_type": "markdown",
     "metadata": {},
     "source": [
      "Next, ask khmer to count the k-mers contained by the reads in 'fake-reads.fa' and save the resulting data into a file 'fake-reads.kh'.\n",
      "\n",
      "Note that the '-k 26' parameter specifies the k-mer size to use -- 26.  You can change this to any number between 1 and 32."
     ]
    },
    {
     "cell_type": "code",
     "collapsed": false,
     "input": [
      "!/usr/local/share/khmer/scripts/load-into-counting.py -x 1e8 -k 26 fake-reads.kh fake-reads.fa"
     ],
     "language": "python",
     "metadata": {},
     "outputs": [
      {
       "output_type": "stream",
       "stream": "stdout",
       "text": [
        "\r\n",
        "PARAMETERS:\r\n",
        " - kmer size =    26 \t\t(-k)\r\n",
        " - n hashes =     4 \t\t(-N)\r\n",
        " - min hashsize = 1e+08 \t(-x)\r\n",
        "\r\n",
        "Estimated memory usage is 4e+08 bytes (n_hashes x min_hashsize)\r\n",
        "--------\r\n",
        "Saving hashtable to fake-reads.kh\r\n",
        "Loading kmers from sequences in ['fake-reads.fa']\r\n",
        "making hashtable\r\n"
       ]
      },
      {
       "output_type": "stream",
       "stream": "stdout",
       "text": [
        "consuming input fake-reads.fa\r\n"
       ]
      },
      {
       "output_type": "stream",
       "stream": "stdout",
       "text": [
        "saving fake-reads.kh\r\n"
       ]
      },
      {
       "output_type": "stream",
       "stream": "stdout",
       "text": [
        "fp rate estimated to be 0.000\r\n",
        "DONE.\r\n"
       ]
      }
     ],
     "prompt_number": 9
    },
    {
     "cell_type": "code",
     "collapsed": false,
     "input": [
      "ls"
     ],
     "language": "python",
     "metadata": {},
     "outputs": [
      {
       "output_type": "stream",
       "stream": "stdout",
       "text": [
        "fake-genome.fa  fake-reads.hist  fake-reads.kh.info\r\n",
        "fake-reads.fa   fake-reads.kh    \u001b[0m\u001b[01;34mlost+found\u001b[0m/\r\n"
       ]
      }
     ],
     "prompt_number": 10
    },
    {
     "cell_type": "markdown",
     "metadata": {},
     "source": [
      "Now, use khmer to get the abundance distribution of the k-mers in fake-reads.fa using the counts from fake-reads.kh, and put the results in file called fake-reads.hist."
     ]
    },
    {
     "cell_type": "code",
     "collapsed": false,
     "input": [
      "!/usr/local/share/khmer/scripts/abundance-dist.py fake-reads.kh fake-reads.fa fake-reads.hist\n"
     ],
     "language": "python",
     "metadata": {},
     "outputs": [
      {
       "output_type": "stream",
       "stream": "stdout",
       "text": [
        "hashtable from fake-reads.kh\r\n"
       ]
      },
      {
       "output_type": "stream",
       "stream": "stdout",
       "text": [
        "K: 26\r\n",
        "HT sizes: [100000007, 100000037, 100000039, 100000049]\r\n",
        "outputting to fake-reads.hist\r\n",
        "ERROR: fake-reads.hist exists; not squashing.\r\n"
       ]
      }
     ],
     "prompt_number": 11
    },
    {
     "cell_type": "markdown",
     "metadata": {},
     "source": [
      "fake-reads.hist is a file that contains four columns.  The columns are:\n",
      "\n",
      "1. a k-mer count\n",
      "2. the number of k-mers in the data set with that count.  For example, below, 7,793 k-mers appear exactly twice in the read data set, while 309 appear three times.\n",
      "3. the total number of k-mers at or below this k-mer count.  The third column is the sum of the second column.\n",
      "4. the fraction of the total k-mers seen so far -- this is the third column divided by the sum of the entire second column."
     ]
    },
    {
     "cell_type": "code",
     "collapsed": false,
     "input": [
      "!cat fake-reads.hist"
     ],
     "language": "python",
     "metadata": {},
     "outputs": [
      {
       "output_type": "stream",
       "stream": "stdout",
       "text": [
        "0 0 0 0.0\r\n",
        "1 130315 130315 0.878\r\n",
        "2 7793 138108 0.931\r\n",
        "3 309 138417 0.933\r\n",
        "4 21 138438 0.933\r\n",
        "5 2 138440 0.933\r\n",
        "6 3 138443 0.933\r\n",
        "7 1 138444 0.933\r\n",
        "8 4 138448 0.933\r\n",
        "9 3 138451 0.933\r\n",
        "10 1 138452 0.933\r\n",
        "11 3 138455 0.933\r\n",
        "12 1 138456 0.933\r\n",
        "13 2 138458 0.933\r\n",
        "14 1 138459 0.933\r\n",
        "15 4 138463 0.933\r\n",
        "16 3 138466 0.933\r\n",
        "17 4 138470 0.933\r\n",
        "18 2 138472 0.933\r\n",
        "19 2 138474 0.933\r\n",
        "20 5 138479 0.933\r\n",
        "21 1 138480 0.933\r\n",
        "22 4 138484 0.933\r\n",
        "23 6 138490 0.933\r\n",
        "24 2 138492 0.933\r\n",
        "25 1 138493 0.933\r\n",
        "26 3 138496 0.933\r\n",
        "27 2 138498 0.933\r\n",
        "28 3 138501 0.933\r\n",
        "29 3 138504 0.933\r\n",
        "30 4 138508 0.933\r\n",
        "31 1 138509 0.933\r\n",
        "32 7 138516 0.933\r\n",
        "33 5 138521 0.933\r\n",
        "34 7 138528 0.934\r\n",
        "35 8 138536 0.934\r\n",
        "36 20 138556 0.934\r\n",
        "37 13 138569 0.934\r\n",
        "38 25 138594 0.934\r\n",
        "39 61 138655 0.934\r\n",
        "40 89 138744 0.935\r\n",
        "41 109 138853 0.936\r\n",
        "42 109 138962 0.936\r\n",
        "43 122 139084 0.937\r\n",
        "44 219 139303 0.939\r\n",
        "45 246 139549 0.94\r\n",
        "46 314 139863 0.942\r\n",
        "47 356 140219 0.945\r\n",
        "48 357 140576 0.947\r\n",
        "49 413 140989 0.95\r\n",
        "50 452 141441 0.953\r\n",
        "51 443 141884 0.956\r\n",
        "52 530 142414 0.96\r\n",
        "53 520 142934 0.963\r\n",
        "54 495 143429 0.967\r\n",
        "55 489 143918 0.97\r\n",
        "56 428 144346 0.973\r\n",
        "57 470 144816 0.976\r\n",
        "58 451 145267 0.979\r\n",
        "59 451 145718 0.982\r\n",
        "60 365 146083 0.984\r\n",
        "61 375 146458 0.987\r\n",
        "62 335 146793 0.989\r\n",
        "63 271 147064 0.991\r\n",
        "64 288 147352 0.993\r\n",
        "65 233 147585 0.995\r\n",
        "66 209 147794 0.996\r\n",
        "67 155 147949 0.997\r\n",
        "68 121 148070 0.998\r\n",
        "69 86 148156 0.998\r\n",
        "70 74 148230 0.999\r\n",
        "71 50 148280 0.999\r\n",
        "72 40 148320 0.999\r\n",
        "73 33 148353 1.0\r\n",
        "74 21 148374 1.0\r\n",
        "75 14 148388 1.0\r\n",
        "76 8 148396 1.0\r\n"
       ]
      }
     ],
     "prompt_number": 12
    },
    {
     "cell_type": "markdown",
     "metadata": {},
     "source": [
      "Now, read in the data from fake-reads.hist and plot it."
     ]
    },
    {
     "cell_type": "code",
     "collapsed": false,
     "input": [
      "import csv\n",
      "r = csv.reader(open('fake-reads.hist'), delimiter=' ')\n",
      "\n",
      "xx = []\n",
      "yy = []\n",
      "for count, abund, sum_abund, sum_frac in r:\n",
      "    xx.append(int(count))\n",
      "    yy.append(int(abund))"
     ],
     "language": "python",
     "metadata": {},
     "outputs": [],
     "prompt_number": 13
    },
    {
     "cell_type": "markdown",
     "metadata": {},
     "source": [
      "You can see that the plot, below, has an awful lot of low-abundance k-mers..."
     ]
    },
    {
     "cell_type": "code",
     "collapsed": false,
     "input": [
      "plot(xx, yy)"
     ],
     "language": "python",
     "metadata": {},
     "outputs": [
      {
       "output_type": "pyout",
       "prompt_number": 14,
       "text": [
        "[<matplotlib.lines.Line2D at 0x30f3b90>]"
       ]
      },
      {
       "output_type": "display_data",
       "png": "[encoded data removed]",
       "text": [
        "<matplotlib.figure.Figure at 0x2fed990>"
       ]
      }
     ],
     "prompt_number": 14
    },
    {
     "cell_type": "markdown",
     "metadata": {},
     "source": [
      "But if you zoom in on the y axis, you can see that there are a bunch of k-mers that are high abundance -- that is, there are approximately 550 different k-mers  that show up 50 different times in the data set."
     ]
    },
    {
     "cell_type": "code",
     "collapsed": false,
     "input": [
      "plot(xx, yy)\n",
      "axis(ymax=600)"
     ],
     "language": "python",
     "metadata": {},
     "outputs": [
      {
       "output_type": "pyout",
       "prompt_number": 15,
       "text": [
        "(0.0, 80.0, 0.0, 600)"
       ]
      },
      {
       "output_type": "display_data",
       "png": "[encoded data removed]",
       "text": [
        "<matplotlib.figure.Figure at 0x30f8110>"
       ]
      }
     ],
     "prompt_number": 15
    },
    {
     "cell_type": "markdown",
     "metadata": {},
     "source": [
      "## Questions --\n",
      "\n",
      "1. qualitatively, how does the high-abundance curve shift as you count k-mers using larger or smaller k?  Why?\n",
      "\n",
      "2. qualitatively, how does the mean of this bump shift with higher or lower read coverage?  Why?\n",
      "\n",
      "3. qualitatively, how does the mean of this bump shift with higher or lower error rate?  Why?\n",
      "\n",
      "Answer these questions by copying the code in the examples above, changing the key parameters, and producing three graphs (with associated discussion) for each set of parameters."
     ]
    },
    {
     "cell_type": "code",
     "collapsed": false,
     "input": [],
     "language": "python",
     "metadata": {},
     "outputs": [],
     "prompt_number": 15
    }
   ],
   "metadata": {}
  }
 ]
}