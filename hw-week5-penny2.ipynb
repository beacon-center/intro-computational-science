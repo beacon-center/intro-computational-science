{
 "metadata": {
  "name": "hw-week5-penny2"
 },
 "nbformat": 3,
 "nbformat_minor": 0,
 "worksheets": [
  {
   "cells": [
    {
     "cell_type": "markdown",
     "metadata": {},
     "source": [
      "## The homework, part A.\n",
      "\n",
      "Modify your 'invert_d' dictionary inversion function (Week 3 HW) to store *lists* as values, such that when you invert the bad dictionary I gave you, you get:\n",
      "\n",
      "    inverted_d = { 1: ['uno', 'one'] }\n",
      "\n",
      "Then, take your solution to Week 4 #1, question 2 (see http://nbviewer.ipython.org/urls/raw.github.com/beacon-center/intro-computational-science/master/hw-week4-penny.ipynb) and invert *that* dictionary so that you have a dictionary that contains, as keys, the number of times a type of fish was eaten, and as values, a list of all the types of fish eaten that many times.\n",
      "\n",
      "For example, 'inv_count_d' will contain a key '8' and a value [\"char\", \"ahi\"] for the below list, because Penny ate both char and ahi 8 times in the following list.\n",
      "\n",
      "Hint: start with a simpler example!"
     ]
    },
    {
     "cell_type": "code",
     "collapsed": false,
     "input": [
      "fishdiet = ['mackerel', 'salmon', 'halibut', 'mackerel', 'mackerel',\n",
      "'plaice', 'halibut', 'halibut', 'salmon', 'halibut', 'tilapia',\n",
      "'cod', 'halibut', 'mackerel', 'cod', 'salmon', 'cod', 'sole',\n",
      "'plaice', 'tilapia', 'mackerel', 'salmon', 'mackerel', 'cod',\n",
      "'mackerel', 'salmon', 'salmon', 'halibut', 'salmon', 'plaice',\n",
      "'sole', 'sole', 'ahi', 'mackerel', 'halibut', 'tilapia', 'ahi',\n",
      "'halibut', 'salmon', 'sole', 'sole', 'ahi', 'salmon',\n",
      "'halibut', 'plaice', 'char', 'sole', 'char', 'char', 'sole',\n",
      "'sole', 'sole', 'halibut', 'char', 'plaice', 'mackerel',\n",
      "'tilapia', 'halibut', 'maguro', 'maguro', 'plaice', 'maguro',\n",
      "'char', 'mackerel', 'halibut', 'maguro', 'plaice', 'maguro',\n",
      "'tilapia', 'salmon', 'mackerel', 'maguro', 'cod', 'sole',\n",
      "'mackerel', 'salmon', 'maguro', 'mackerel', 'salmon', 'ahi',\n",
      "'cod', 'maguro', 'mackerel', 'plaice', 'tilapia', 'tilapia',\n",
      "'sole', 'maguro', 'salmon', 'plaice', 'halibut', 'sole',\n",
      "'tilapia', 'salmon', 'salmon', 'sole', 'halibut', 'plaice',\n",
      "'salmon', 'cod', 'tilapia', 'ahi', 'mackerel', 'mackerel',\n",
      "'ahi', 'char', 'ahi', 'maguro', 'mackerel', 'sole', 'maguro',\n",
      "'cod', 'mackerel', 'halibut', 'sole', 'plaice', 'sole', 'cod',\n",
      "'ahi', 'halibut', 'char', 'halibut', 'cod', 'sole', 'mackerel',\n",
      "'plaice', 'sole', 'mackerel', 'tilapia', 'char', 'sole',\n",
      "'maguro', 'cod']\n"
     ],
     "language": "python",
     "metadata": {},
     "outputs": [],
     "prompt_number": 8
    },
    {
     "cell_type": "markdown",
     "metadata": {},
     "source": [
      "# Two new tricks!\n",
      "\n",
      "Today you're going to learn two fun new tricks relating to CSV files.\n",
      "\n",
      "The first is that you can load CSV data remotely, from a Web server, using Python.\n",
      "\n",
      "The second is that you can get Python to automatically turn each CSV row into a *dictionary* for you, so you don't need to remember which column is which..."
     ]
    },
    {
     "cell_type": "markdown",
     "metadata": {},
     "source": [
      "## Loading CSV data remotely\n",
      "\n",
      "Let's start by pulling apart the code that you used earlier.  If you recall, for parsing Anscombe's quartet, you did:\n",
      "\n",
      "     fp = open(\"<some file name>\")\n",
      "     r = csv.reader(fp)\n",
      "\n",
      "where fp was referred to as \"a file handle\".\n",
      "\n",
      "Well, it turns out you that if there's some data available online, you can get a handle to *it* by using its URL.  Let's try it out for this URL:\n",
      "\n",
      "      https://raw.github.com/beacon-center/intro-computational-science/master/penny/fishies-short.csv"
     ]
    },
    {
     "cell_type": "code",
     "collapsed": false,
     "input": [
      "# the command you use is 'urllib.urlopen'\n",
      "the_url = \"https://raw.github.com/beacon-center/intro-computational-science/master/penny/fishies-short.csv\"\n",
      "\n",
      "import urllib\n",
      "fp = urllib.urlopen(the_url)\n",
      "\n",
      "print fp.read()"
     ],
     "language": "python",
     "metadata": {},
     "outputs": [
      {
       "output_type": "stream",
       "stream": "stdout",
       "text": [
        "date,fish\r\n",
        "1/1,salmon\r\n",
        "1/1,cod\r\n",
        "1/1,cod\r\n",
        "1/1,plaice\r\n",
        "1/1,plaice\r\n",
        "1/2,halibut\r\n",
        "1/2,mackerel\r\n",
        "1/2,char\r\n",
        "1/2,char\r\n",
        "\n"
       ]
      }
     ],
     "prompt_number": 2
    },
    {
     "cell_type": "code",
     "collapsed": false,
     "input": [
      "# ok, so that's how you get a file handle -- and the rest you already know!\n",
      "import csv\n",
      "\n",
      "fp = urllib.urlopen(the_url)\n",
      "\n",
      "r = csv.reader(fp)\n",
      "for row in r:\n",
      "    print row[0], row[1]"
     ],
     "language": "python",
     "metadata": {},
     "outputs": [
      {
       "output_type": "stream",
       "stream": "stdout",
       "text": [
        "date fish\n",
        "1/1 salmon\n",
        "1/1 cod\n",
        "1/1 cod\n",
        "1/1 plaice\n",
        "1/1 plaice\n",
        "1/2 halibut\n",
        "1/2 mackerel\n",
        "1/2 char\n",
        "1/2 char\n"
       ]
      }
     ],
     "prompt_number": 3
    },
    {
     "cell_type": "markdown",
     "metadata": {},
     "source": [
      "## Parsing CSV rows into dictionaries rather than lists\n",
      "\n",
      "As you become an old, graying programmer like myself, you'll discover that your short-term memory starts to deteriorate.  I no longer want to have to remember which column things are kept in now that I'm so old!  Plus, it turns out that using things like 'row[0]' (as in the above for loop) leads to lots and lots of mistakes.  So, what do you do?\n",
      "\n",
      "Well, conveniently, the CSV file above has a header row ('date' and 'fish') and Python, with a little help, can automagically figure out how to turn each row into a dict, with each column value named \"row['date']\" and \"row['fish']\".  Read on..."
     ]
    },
    {
     "cell_type": "code",
     "collapsed": false,
     "input": [
      "fp = urllib.urlopen(the_url)\n",
      "\n",
      "# use 'csv.DictReader', instead of 'csv.reader':\n",
      "r = csv.DictReader(fp)\n",
      "for row in r:\n",
      "    print row['date'], row['fish']"
     ],
     "language": "python",
     "metadata": {},
     "outputs": [
      {
       "output_type": "stream",
       "stream": "stdout",
       "text": [
        "1/1 salmon\n",
        "1/1 cod\n",
        "1/1 cod\n",
        "1/1 plaice\n",
        "1/1 plaice\n",
        "1/2 halibut\n",
        "1/2 mackerel\n",
        "1/2 char\n",
        "1/2 char\n"
       ]
      }
     ],
     "prompt_number": 5
    },
    {
     "cell_type": "markdown",
     "metadata": {},
     "source": [
      "Note, you can use DictReader for files without the header row like so:\n",
      "\n",
      "      r = csv.DictReader(fp, fieldnames=['name','age','color','gender'])"
     ]
    },
    {
     "cell_type": "markdown",
     "metadata": {},
     "source": [
      "## The homework, part 2!\n",
      "\n",
      "Write *functions* to calculate each of the following for the data set located at https://raw.github.com/beacon-center/intro-computational-science/master/penny/fishies.csv\n",
      "\n",
      "(For debugging, you might want to start with the shorter version, above)\n",
      "\n",
      "B: the number of different types of fish in this list;\n",
      "\n",
      "C: the daily average number for each kind of fish (there are 365 days of fish eatin\u2019 in this list).\n",
      "\n",
      "D: the fat-weighted daily fish index, FI, for the entire year. (Salmon and ahi: 2.0; cod and sole, 0.5; the rest, 1.0.)\n",
      "\n",
      "E: the average number of types of fish per day.\n",
      "\n",
      "F: what days Penny ate a given fish. (You can print the results out, or put them in a list, or whatever; just write the appropriate for loop to print or build the list.)\n"
     ]
    },
    {
     "cell_type": "code",
     "collapsed": false,
     "input": [],
     "language": "python",
     "metadata": {},
     "outputs": []
    }
   ],
   "metadata": {}
  }
 ]
}