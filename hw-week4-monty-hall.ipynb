{
 "metadata": {
  "name": "hw-week4-monty-hall"
 },
 "nbformat": 3,
 "nbformat_minor": 0,
 "worksheets": [
  {
   "cells": [
    {
     "cell_type": "markdown",
     "metadata": {},
     "source": [
      "## The Monty Hall problem\n",
      "\n",
      "You, lucky contestant, are on a game show!  You stand a chance to win a car (with a trade-in value of $50k)!\n",
      "\n",
      "The host, one Monty Hall, describes the game to you as follows:\n",
      "\n",
      "   1. Here before you, you see three doors -- A, B, and C!  Behind one of them is the car.\n",
      "\n",
      "   2. We will start by having you pick one door, but **do not open it**.\n",
      "\n",
      "   3. Then, I will reveal what is behind one of the two doors you did not choose (needless to say, it will not be the car!)\n",
      "\n",
      "   4. At that point, you may either keep your first choice, OR you may switch your choice to another door.\n",
      "\n",
      "If you can identify which door has the car behind it, you get to keep the car (or the money).\n",
      "\n",
      "The question for you is this: as a winning strategy, should you (a) always stay with your original door choice, (b) always switch, or (c) it doesn't matter?"
     ]
    },
    {
     "cell_type": "markdown",
     "metadata": {},
     "source": [
      "### Monty Hall Monte Carlo\n",
      "\n",
      "You, being an accomplished computational scientist, decide that rather than thinking hard about this, you're just going to simulate it using the Monte Carlo method (http://en.wikipedia.org/wiki/Monte_Carlo_method).\n",
      "\n",
      "Let's start by setting up the problem."
     ]
    },
    {
     "cell_type": "code",
     "collapsed": false,
     "input": [
      "# grab the pseudo-random # generator module in Python: http://blog.doughellmann.com/2010/10/pymotw-random-pseudorandom-number.html\n",
      "import random\n",
      "\n",
      "# now, build a function to create 3 doors, with one car behind them.\n",
      "# this function will return a dictionary with keys A, B, and C, containing associated values 'empty' or 'car'.\n",
      "def create_doors():\n",
      "    doors = {}\n",
      "    doors['A'] = 'empty'\n",
      "    doors['B'] = 'empty'\n",
      "    doors['C'] = 'empty'\n",
      "    \n",
      "    # randomly choose *one* of the three doors\n",
      "    car_is_behind = random.choice(doors.keys())\n",
      "    doors[car_is_behind] = 'car'\n",
      "    \n",
      "    return doors\n"
     ],
     "language": "python",
     "metadata": {},
     "outputs": [],
     "prompt_number": 1
    },
    {
     "cell_type": "markdown",
     "metadata": {},
     "source": [
      "Next, here are two functions, one which simulates choice (a) and one which simulates choice (b).  If the function returns true, you've won! If the function returns false, you've lost."
     ]
    },
    {
     "cell_type": "code",
     "collapsed": false,
     "input": [
      "def always_switch():\n",
      "    # set up the problem\n",
      "    doors_d = create_doors()\n",
      "    \n",
      "    # pick a door\n",
      "    doors = ['A', 'B', 'C']\n",
      "    my_choice = random.choice(doors)\n",
      "    doors.remove(my_choice)\n",
      "    assert len(doors) == 2, \"you should only have two doors left...\"\n",
      "    \n",
      "    # now Monty Hall picks a door:\n",
      "    while 1:\n",
      "        monty_choice = random.choice(doors)\n",
      "        if doors_d[monty_choice] != 'car': # he'll never reveal the car!\n",
      "            break\n",
      "    \n",
      "    doors.remove(monty_choice)\n",
      "    \n",
      "    # now, because you always switch, you're left with monty's non-choice:\n",
      "    assert len(doors) == 1, \"you should only have one door left...\"\n",
      "    \n",
      "    my_choice = doors[0]\n",
      "    \n",
      "    if doors_d[my_choice] == 'car':\n",
      "        return True                    # you win!\n",
      "    return False                       # you lose :(\n",
      "\n",
      "def never_switch():\n",
      "    # set up the problem\n",
      "    doors_d = create_doors()\n",
      "    \n",
      "    # pick a door\n",
      "    doors = ['A', 'B', 'C']\n",
      "    my_choice = random.choice(doors)\n",
      "    doors.remove(my_choice)\n",
      "    assert len(doors) == 2, \"you should only have two doors left...\"\n",
      "    \n",
      "    # now Monty Hall picks a door:\n",
      "    while 1:\n",
      "        monty_choice = random.choice(doors)\n",
      "        if doors_d[monty_choice] != 'car': # he'll never reveal the car!\n",
      "            break\n",
      "    \n",
      "    doors.remove(monty_choice)\n",
      "    \n",
      "    # now, because you always switch, you're left with monty's non-choice:\n",
      "    assert len(doors) == 1, \"you should only have one door left...\"\n",
      "    \n",
      "    # you stick with your original choice:\n",
      "    if doors_d[my_choice] == 'car':\n",
      "        return True                    # you win!\n",
      "    return False                       # you lose :("
     ],
     "language": "python",
     "metadata": {},
     "outputs": [],
     "prompt_number": 2
    },
    {
     "cell_type": "code",
     "collapsed": false,
     "input": [
      "# ok, let's try this out!\n",
      "print always_switch()\n",
      "print always_switch()\n",
      "print always_switch()\n",
      "\n",
      "print never_switch()\n",
      "print never_switch()\n",
      "print never_switch()\n"
     ],
     "language": "python",
     "metadata": {},
     "outputs": [
      {
       "output_type": "stream",
       "stream": "stdout",
       "text": [
        "False\n",
        "True\n",
        "False\n",
        "False\n",
        "False\n",
        "True\n"
       ]
      }
     ],
     "prompt_number": 5
    },
    {
     "cell_type": "markdown",
     "metadata": {},
     "source": [
      "OK, a couple of notes here.\n",
      "\n",
      "First, this *is* a true implementation of the Monty Hall scenario, right?  Even though you're randomly choosing doors, it's no different from what you'd normally be doing, right -- guessing?\n",
      "\n",
      "Second, every time you run this, you will get a different set of answers -- because we're using a random number generator."
     ]
    },
    {
     "cell_type": "markdown",
     "metadata": {},
     "source": [
      "## Question A: is it better to always switch or to never switch, or is it the same?\n",
      "\n",
      "Write a loop that runs always_switch() many, many times, and counts up the number of times you win vs the number of times you lose.\n",
      "\n",
      "Do the same for never_switch().\n",
      "\n",
      "What is your conclusion?  Should you always switch, never switch, or does it not matter?  How much more likely are you to win in one case over another? Please answer in comments in the code."
     ]
    },
    {
     "cell_type": "code",
     "collapsed": false,
     "input": [],
     "language": "python",
     "metadata": {},
     "outputs": []
    },
    {
     "cell_type": "markdown",
     "metadata": {},
     "source": [
      "## Question B: combine the functions\n",
      "\n",
      "Write a new function, 'monty_hall(do_switch)' where 'do_switch' is either True or False, that combines the functionality of 'always_switch' and 'never_switch', and returns True if you've won and False if you've lost.  For example, 'monty_hall(False)' will return random results from the same decision making process as 'never_switch', and 'monty_hall(True)' will return random results from the same process as 'always_switch'.\n",
      "\n",
      "Then, re-write the loops in the first question to use *only* this new function.  Your loop should no longer contain direct calls to 'always_switch' and 'never_switch', but you should get the same qualitative results."
     ]
    },
    {
     "cell_type": "code",
     "collapsed": false,
     "input": [],
     "language": "python",
     "metadata": {},
     "outputs": []
    },
    {
     "cell_type": "markdown",
     "metadata": {},
     "source": [
      "## Question C: simplify create_doors.\n",
      "    \n",
      "Copy 'create_doors' to 'create_doors2' and change the function so that it returns a dictionary where the car is *always* behind door A.  Then create a copy of the functions in A or B that use this new create_doors2.  Do your results change?  Please answer in comments in the code."
     ]
    },
    {
     "cell_type": "code",
     "collapsed": false,
     "input": [],
     "language": "python",
     "metadata": {},
     "outputs": []
    },
    {
     "cell_type": "markdown",
     "metadata": {},
     "source": [
      "## Question D: what happens if you increase the number of doors?\n",
      "\n",
      "Copy 'create_doors2' to 'create_doors3' and change the function so that it returns a dictionary with 10 doors, and make a new Monty Hall (monty_hall3?) function that uses  this new 'create_doors3'; you'll need to alter (not remove!) the assert statements.\n",
      "\n",
      "How does the probability of winning change with 10 doors instead of 3?  (Just estimate based on the numbers you generate.)  Please answer in a Markdown cell (Cell... Markdown on the menus above)\n",
      "\n",
      "Extra pixie dust credit if you can give a general formula -- note that you can use LaTeX math formatting like so (double click on this cell to see the underlying formatting):\n",
      "\n",
      "$p_{winning} = 1/2$\n",
      "\n",
      "Prepare arguments for class next Monday!"
     ]
    },
    {
     "cell_type": "code",
     "collapsed": false,
     "input": [],
     "language": "python",
     "metadata": {},
     "outputs": []
    }
   ],
   "metadata": {}
  }
 ]
}