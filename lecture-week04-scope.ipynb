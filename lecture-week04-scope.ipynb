{
 "metadata": {
  "name": "lecture-week04-scope"
 },
 "nbformat": 3,
 "nbformat_minor": 0,
 "worksheets": [
  {
   "cells": [
    {
     "cell_type": "markdown",
     "metadata": {},
     "source": [
      "## Python and variable scoping\n",
      "\n",
      "variable names can be either global (outside a function) or local (within a function).  This refers to the variables *scope of definition*: is it defined within a function, or more broadly?"
     ]
    },
    {
     "cell_type": "code",
     "collapsed": false,
     "input": [
      "# here, 'a' is global --\n",
      "a = \"my value\"\n",
      "print a"
     ],
     "language": "python",
     "metadata": {},
     "outputs": [
      {
       "output_type": "stream",
       "stream": "stdout",
       "text": [
        "my value\n"
       ]
      }
     ],
     "prompt_number": 1
    },
    {
     "cell_type": "code",
     "collapsed": false,
     "input": [
      "# and it can be used within any function, because it's global.\n",
      "def fn():\n",
      "    print a"
     ],
     "language": "python",
     "metadata": {},
     "outputs": [],
     "prompt_number": 2
    },
    {
     "cell_type": "code",
     "collapsed": false,
     "input": [
      "fn()"
     ],
     "language": "python",
     "metadata": {},
     "outputs": [
      {
       "output_type": "stream",
       "stream": "stdout",
       "text": [
        "my value\n"
       ]
      }
     ],
     "prompt_number": 3
    },
    {
     "cell_type": "code",
     "collapsed": false,
     "input": [
      "# if, however, you define a variable within a function, it's local and by default will be discarded unless you return the value\n",
      "def fn2():\n",
      "    b = 'my new variable'\n",
      "    print 'within the function fn2', b\n",
      "    return b"
     ],
     "language": "python",
     "metadata": {},
     "outputs": [],
     "prompt_number": 7
    },
    {
     "cell_type": "code",
     "collapsed": false,
     "input": [
      "x = fn2()\n"
     ],
     "language": "python",
     "metadata": {},
     "outputs": [
      {
       "output_type": "stream",
       "stream": "stdout",
       "text": [
        "within the function fn2 my new variable\n"
       ]
      }
     ],
     "prompt_number": 8
    },
    {
     "cell_type": "code",
     "collapsed": false,
     "input": [
      "x"
     ],
     "language": "python",
     "metadata": {},
     "outputs": [
      {
       "output_type": "pyout",
       "prompt_number": 9,
       "text": [
        "'my new variable'"
       ]
      }
     ],
     "prompt_number": 9
    },
    {
     "cell_type": "code",
     "collapsed": false,
     "input": [
      "# the real trick is to avoid naming two variables the same thing outside and inside a function!\n",
      "# here, you can change the 'c' inside of the fn3 definition to be 'd' to avoid confusion.  (see next cell)\n",
      "c = 'some other value'\n",
      "\n",
      "def fn3():\n",
      "    c = 'some value'\n",
      "    print 'within fn3', c\n",
      "\n",
      "fn3()\n",
      "print c"
     ],
     "language": "python",
     "metadata": {},
     "outputs": [
      {
       "output_type": "stream",
       "stream": "stdout",
       "text": [
        "within fn3 some value\n",
        "some other value\n"
       ]
      }
     ],
     "prompt_number": 12
    },
    {
     "cell_type": "code",
     "collapsed": false,
     "input": [
      "# the real trick is to avoid naming two variables the same thing outside and inside a function!\n",
      "# here, I've changed 'c' in the fn3 to 'd', because they are different!\n",
      "c = 'some other value'\n",
      "\n",
      "def fn3():\n",
      "    d = 'some value'\n",
      "    print 'within fn3', d\n",
      "\n",
      "fn3()\n",
      "print c"
     ],
     "language": "python",
     "metadata": {},
     "outputs": []
    },
    {
     "cell_type": "markdown",
     "metadata": {},
     "source": [
      "## parameters\n",
      "\n",
      "When you pass variables (or values) in via parameters to a function, they are now LOCAL variables.  This can cause confusion:"
     ]
    },
    {
     "cell_type": "code",
     "collapsed": false,
     "input": [
      "def fn4(e):\n",
      "    e = 'a new value'\n",
      "    print 'value of e is', e\n",
      "    return e\n",
      "    \n",
      "e = 'an old value'\n",
      "f = fn4(e)\n",
      "print e\n",
      "print f"
     ],
     "language": "python",
     "metadata": {},
     "outputs": [
      {
       "output_type": "stream",
       "stream": "stdout",
       "text": [
        "value of e is a new value\n",
        "an old value\n",
        "a new value\n"
       ]
      }
     ],
     "prompt_number": 16
    },
    {
     "cell_type": "code",
     "collapsed": false,
     "input": [
      "# again, the solution is to rename the variable 'e' within fn4 to something else, like 'z':\n",
      "\n",
      "def fn4(z):\n",
      "    z = 'a new value'\n",
      "    print 'value of e is', z\n",
      "    return z\n",
      "    \n",
      "e = 'an old value'\n",
      "f = fn4(e)\n",
      "print e\n",
      "print f"
     ],
     "language": "python",
     "metadata": {},
     "outputs": [
      {
       "output_type": "stream",
       "stream": "stdout",
       "text": [
        "value of e is a new value\n",
        "an old value\n",
        "a new value\n"
       ]
      }
     ],
     "prompt_number": 17
    },
    {
     "cell_type": "markdown",
     "metadata": {},
     "source": [
      "## Best practices\n",
      "\n",
      "1. Try not to use the same variable names within functions as you are outside of the functions.\n",
      "2. When confused, change the variable names you're using *within* the def, and see what happens!\n",
      "3. When you want to use values computed within a function, *return them*."
     ]
    },
    {
     "cell_type": "code",
     "collapsed": false,
     "input": [],
     "language": "python",
     "metadata": {},
     "outputs": []
    }
   ],
   "metadata": {}
  }
 ]
}