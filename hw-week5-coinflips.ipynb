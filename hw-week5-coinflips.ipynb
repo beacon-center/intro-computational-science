{
 "metadata": {
  "name": "hw-week5-coinflips"
 },
 "nbformat": 3,
 "nbformat_minor": 0,
 "worksheets": [
  {
   "cells": [
    {
     "cell_type": "markdown",
     "metadata": {},
     "source": [
      "# Coin flipping!"
     ]
    },
    {
     "cell_type": "code",
     "collapsed": false,
     "input": [
      "import random\n",
      "\n",
      "def flip_a_fair_coin(N):\n",
      "    coin = ['H', 'T']\n",
      "    \n",
      "    record = []\n",
      "    for i in range(N):\n",
      "        record.append(random.choice(coin))\n",
      "        \n",
      "    # record is a list of H and T; turn it into a string by using string.join.\n",
      "    record = \"\".join(record)\n",
      "    return record"
     ],
     "language": "python",
     "metadata": {},
     "outputs": [],
     "prompt_number": 1
    },
    {
     "cell_type": "code",
     "collapsed": false,
     "input": [
      "flip_a_fair_coin(5)"
     ],
     "language": "python",
     "metadata": {},
     "outputs": [
      {
       "output_type": "pyout",
       "prompt_number": 2,
       "text": [
        "'HTTHH'"
       ]
      }
     ],
     "prompt_number": 2
    },
    {
     "cell_type": "code",
     "collapsed": false,
     "input": [
      "# count the number of times you see a \"run\" of a given pattern, e.g. HTTHHT, in a given pattern of coinflips\n",
      "def count_runs(run, coinflips):\n",
      "    return coinflips.count(run)\n",
      "    \n",
      "flips = flip_a_fair_coin(10000)\n",
      "the_count = count_runs('HTHHTT', flips)\n",
      "\n",
      "# expected:\n",
      "p = 1.0/2**6   # length of the 'HTHHTT' string, above\n",
      "expected_count = p * len(flips)\n",
      "print 'expected', expected_count, '; got:', the_count, '; diff: ', abs(the_count - expected_count)"
     ],
     "language": "python",
     "metadata": {},
     "outputs": [
      {
       "output_type": "stream",
       "stream": "stdout",
       "text": [
        "expected 156.25 ; got: 155 ; diff:  1.25\n"
       ]
      }
     ],
     "prompt_number": 3
    },
    {
     "cell_type": "markdown",
     "metadata": {},
     "source": [
      "## Question A -- where is count_runs broken?\n",
      "\n",
      "There are some strings -- hint, including some rather simple ones -- for which count_strings doesn't work properly: that is, the actual counts differ, sometimes dramatically, from the expected counts.  Write down at least two examples 'runs' and develop a simple hypothesis as to what's going on, i.e. why count_runs is broken."
     ]
    },
    {
     "cell_type": "code",
     "collapsed": false,
     "input": [],
     "language": "python",
     "metadata": {},
     "outputs": [],
     "prompt_number": 4
    },
    {
     "cell_type": "markdown",
     "metadata": {},
     "source": [
      "## Question B -- fix count_runs.\n",
      "\n",
      "Write your *own* count_runs -- you can use 'string.find' in a loop, for example -- that works properly.  Verify that it works on the above strings."
     ]
    },
    {
     "cell_type": "code",
     "collapsed": false,
     "input": [],
     "language": "python",
     "metadata": {},
     "outputs": [],
     "prompt_number": 4
    }
   ],
   "metadata": {}
  }
 ]
}