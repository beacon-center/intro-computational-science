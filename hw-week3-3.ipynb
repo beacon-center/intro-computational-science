{
 "metadata": {
  "name": "hw-week3-3"
 },
 "nbformat": 3,
 "nbformat_minor": 0,
 "worksheets": [
  {
   "cells": [
    {
     "cell_type": "code",
     "collapsed": false,
     "input": [
      "from cStringIO import StringIO\n",
      "\n",
      "# load sequences in from a file handle, 'fp' -- the result of an 'open'.\n",
      "def load_sequences(fp):\n",
      "    sequences = {}\n",
      "\n",
      "    name = None\n",
      "    seq = \"\"\n",
      "\n",
      "    for line in fp:\n",
      "        # new record?                                                               \n",
      "        if line.startswith('>'):            # new sequence records start with >\n",
      "            sequences[name] = seq           # save current record                   \n",
      "\n",
      "            name = line                     # the new record name is this line!     \n",
      "            name = name[1:]                 # strip off the '>'                     \n",
      "            name = name.strip()             # remove leading & trailing whitespace  \n",
      "            seq = \"\"                        # start 'seq' over again.\n",
      "        else:\n",
      "            line = line.strip()             # NOT a new record; remove whitespace.  \n",
      "            if line:                        # if any sequence at all...             \n",
      "                seq += line                 # add to my current sequence.           \n",
      "\n",
      "    return sequences"
     ],
     "language": "python",
     "metadata": {},
     "outputs": [],
     "prompt_number": 1
    },
    {
     "cell_type": "code",
     "collapsed": false,
     "input": [
      "# a first, simple test example; this is the data you will want to change.\n",
      "data = \"\"\">a\n",
      "ACTG\n",
      ">b\n",
      "AGCT\n",
      ">c\n",
      "TGCA\n",
      ">d\n",
      "TTTT\n",
      ">e\n",
      "GGGG\n",
      ">f\n",
      "CCCC\n",
      "\n",
      "\"\"\"\n",
      "data_fp = StringIO(data) # make the data _look_ like it's coming from a file, even though it's really an in-memory string.\n",
      "\n",
      "results = load_sequences(data_fp)\n",
      "print results\n",
      "\n",
      "# check a few things; here is where you want to edit/change the assert statements to check for new things\n",
      "assert results['a'] == 'ACTG'\n",
      "assert results['c'] == 'TGCA'\n",
      "assert results['e'] == 'GGGG'\n",
      "\n",
      "print 'my spot checks tell me that everything is working! good luck!'"
     ],
     "language": "python",
     "metadata": {},
     "outputs": [
      {
       "output_type": "stream",
       "stream": "stdout",
       "text": [
        "{'a': 'ACTG', None: '', 'c': 'TGCA', 'b': 'AGCT', 'e': 'GGGG', 'd': 'TTTT'}\n",
        "my spot checks tell me that everything is working! good luck!\n"
       ]
      }
     ],
     "prompt_number": 2
    },
    {
     "cell_type": "code",
     "collapsed": false,
     "input": [],
     "language": "python",
     "metadata": {},
     "outputs": [],
     "prompt_number": 2
    }
   ],
   "metadata": {}
  }
 ]
}