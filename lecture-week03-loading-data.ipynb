{
 "metadata": {
  "name": "lecture-week03-loading-data"
 },
 "nbformat": 3,
 "nbformat_minor": 0,
 "worksheets": [
  {
   "cells": [
    {
     "cell_type": "code",
     "collapsed": false,
     "input": [
      "fp = open('/usr/local/notebooks/quartet/q1.csv')"
     ],
     "language": "python",
     "metadata": {},
     "outputs": [],
     "prompt_number": 7
    },
    {
     "cell_type": "code",
     "collapsed": false,
     "input": [
      "fp"
     ],
     "language": "python",
     "metadata": {},
     "outputs": [
      {
       "output_type": "pyout",
       "prompt_number": 8,
       "text": [
        "<open file '/usr/local/notebooks/quartet/q1.csv', mode 'r' at 0x384d780>"
       ]
      }
     ],
     "prompt_number": 8
    },
    {
     "cell_type": "code",
     "collapsed": false,
     "input": [
      "x = fp.read()\n",
      "print x"
     ],
     "language": "python",
     "metadata": {},
     "outputs": [
      {
       "output_type": "stream",
       "stream": "stdout",
       "text": [
        "10,8.04\r\n",
        "8,6.95\r\n",
        "13,7.58\r\n",
        "9,8.81\r\n",
        "11,8.33\r\n",
        "14,9.96\r\n",
        "6,7.24\r\n",
        "4,4.26\r\n",
        "12,10.84\r\n",
        "7,4.82\r\n",
        "5,5.68\r\n",
        "\n"
       ]
      }
     ],
     "prompt_number": 9
    },
    {
     "cell_type": "code",
     "collapsed": false,
     "input": [
      "x"
     ],
     "language": "python",
     "metadata": {},
     "outputs": [
      {
       "output_type": "pyout",
       "prompt_number": 10,
       "text": [
        "'10,8.04\\r\\n8,6.95\\r\\n13,7.58\\r\\n9,8.81\\r\\n11,8.33\\r\\n14,9.96\\r\\n6,7.24\\r\\n4,4.26\\r\\n12,10.84\\r\\n7,4.82\\r\\n5,5.68\\r\\n'"
       ]
      }
     ],
     "prompt_number": 10
    },
    {
     "cell_type": "code",
     "collapsed": false,
     "input": [
      "fp = open('/usr/local/notebooks/quartet/q1.csv')\n",
      "for line in fp:\n",
      "    print line.strip()"
     ],
     "language": "python",
     "metadata": {},
     "outputs": [
      {
       "output_type": "stream",
       "stream": "stdout",
       "text": [
        "10,8.04\n",
        "8,6.95\n",
        "13,7.58\n",
        "9,8.81\n",
        "11,8.33\n",
        "14,9.96\n",
        "6,7.24\n",
        "4,4.26\n",
        "12,10.84\n",
        "7,4.82\n",
        "5,5.68\n"
       ]
      }
     ],
     "prompt_number": 11
    },
    {
     "cell_type": "code",
     "collapsed": false,
     "input": [
      "fp = open('/usr/local/notebooks/quartet/q1.csv')\n",
      "contents = []\n",
      "for line in fp:\n",
      "    line = line.strip()\n",
      "    contents.append(line)\n",
      "    "
     ],
     "language": "python",
     "metadata": {},
     "outputs": [],
     "prompt_number": 12
    },
    {
     "cell_type": "code",
     "collapsed": false,
     "input": [
      "contents"
     ],
     "language": "python",
     "metadata": {},
     "outputs": [
      {
       "output_type": "pyout",
       "prompt_number": 13,
       "text": [
        "['10,8.04',\n",
        " '8,6.95',\n",
        " '13,7.58',\n",
        " '9,8.81',\n",
        " '11,8.33',\n",
        " '14,9.96',\n",
        " '6,7.24',\n",
        " '4,4.26',\n",
        " '12,10.84',\n",
        " '7,4.82',\n",
        " '5,5.68']"
       ]
      }
     ],
     "prompt_number": 13
    },
    {
     "cell_type": "markdown",
     "metadata": {},
     "source": [
      "Key points:\n",
      "\n",
      " * 'open(filename)' returns a handle to the file, assuming that filename exists;\n",
      " * this handle, traditionally called something like 'fp', lets you read line by line or the entire file all at once\n",
      " * the file is read pretty literally, so any newlines or whitespace end up in your variables."
     ]
    },
    {
     "cell_type": "code",
     "collapsed": false,
     "input": [],
     "language": "python",
     "metadata": {},
     "outputs": []
    }
   ],
   "metadata": {}
  }
 ]
}